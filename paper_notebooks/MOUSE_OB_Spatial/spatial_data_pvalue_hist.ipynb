{
 "cells": [
  {
   "cell_type": "markdown",
   "metadata": {},
   "source": [
    "# p-value histrogram plots for two cases:\n",
    "\n",
    "1) p-values as calculated via a permutation test \n",
    "\n",
    "2) p-values as calculated assuming that the null follows a chi-squared with one degree distribution\n",
    "\n"
   ]
  },
  {
   "cell_type": "code",
   "execution_count": 202,
   "metadata": {
    "ExecuteTime": {
     "end_time": "2020-10-30T11:13:51.114076Z",
     "start_time": "2020-10-30T11:13:51.108244Z"
    }
   },
   "outputs": [],
   "source": [
    "from matplotlib import pyplot as plt\n",
    "import statsmodels.api as sm\n",
    "import numpy as np\n",
    "import matplotlib.lines as mlines\n",
    "import pandas as pd\n",
    "import scipy.stats as ss\n",
    "import scipy as sc"
   ]
  },
  {
   "cell_type": "code",
   "execution_count": 203,
   "metadata": {
    "ExecuteTime": {
     "end_time": "2020-10-30T11:13:52.111893Z",
     "start_time": "2020-10-30T11:13:52.000707Z"
    }
   },
   "outputs": [],
   "source": [
    "df = pd.read_csv('results_mouseob_permuted.csv', index_col=0)\n",
    "df2 = pd.read_csv('spatial_results_chisq.csv', index_col=0)\n",
    "ll = df2['log_likelihood_ratio']\n",
    "df3 = pd.read_csv('spatialde_res.csv', index_col=0)\n",
    "llr_sde = df3['LLR']"
   ]
  },
  {
   "cell_type": "code",
   "execution_count": 204,
   "metadata": {
    "ExecuteTime": {
     "end_time": "2020-10-30T11:14:03.474539Z",
     "start_time": "2020-10-30T11:14:03.453384Z"
    }
   },
   "outputs": [
    {
     "data": {
      "text/html": [
       "<div>\n",
       "<style scoped>\n",
       "    .dataframe tbody tr th:only-of-type {\n",
       "        vertical-align: middle;\n",
       "    }\n",
       "\n",
       "    .dataframe tbody tr th {\n",
       "        vertical-align: top;\n",
       "    }\n",
       "\n",
       "    .dataframe thead th {\n",
       "        text-align: right;\n",
       "    }\n",
       "</style>\n",
       "<table border=\"1\" class=\"dataframe\">\n",
       "  <thead>\n",
       "    <tr style=\"text-align: right;\">\n",
       "      <th></th>\n",
       "      <th>Dynamic_model_log_likelihood</th>\n",
       "      <th>Constant_model_log_likelihood</th>\n",
       "      <th>log_likelihood_ratio</th>\n",
       "      <th>p_value</th>\n",
       "      <th>q_value</th>\n",
       "      <th>g_sde</th>\n",
       "      <th>LLR_sde</th>\n",
       "    </tr>\n",
       "    <tr>\n",
       "      <th>gene_gpc</th>\n",
       "      <th></th>\n",
       "      <th></th>\n",
       "      <th></th>\n",
       "      <th></th>\n",
       "      <th></th>\n",
       "      <th></th>\n",
       "      <th></th>\n",
       "    </tr>\n",
       "  </thead>\n",
       "  <tbody>\n",
       "    <tr>\n",
       "      <th>Cox6c</th>\n",
       "      <td>-1124.904373</td>\n",
       "      <td>-819.175015</td>\n",
       "      <td>-305.729358</td>\n",
       "      <td>1.000000e+00</td>\n",
       "      <td>1.000000</td>\n",
       "      <td>Snx15</td>\n",
       "      <td>0.000964</td>\n",
       "    </tr>\n",
       "    <tr>\n",
       "      <th>Ubr3</th>\n",
       "      <td>-796.951887</td>\n",
       "      <td>-671.458858</td>\n",
       "      <td>-125.493029</td>\n",
       "      <td>1.000000e+00</td>\n",
       "      <td>1.000000</td>\n",
       "      <td>Rragd</td>\n",
       "      <td>0.000964</td>\n",
       "    </tr>\n",
       "    <tr>\n",
       "      <th>Rps14</th>\n",
       "      <td>-694.289770</td>\n",
       "      <td>-685.553645</td>\n",
       "      <td>-8.736125</td>\n",
       "      <td>1.000000e+00</td>\n",
       "      <td>1.000000</td>\n",
       "      <td>Fam126a</td>\n",
       "      <td>0.000964</td>\n",
       "    </tr>\n",
       "    <tr>\n",
       "      <th>Cyp2j12</th>\n",
       "      <td>-39.068012</td>\n",
       "      <td>-39.067047</td>\n",
       "      <td>-0.000965</td>\n",
       "      <td>1.000000e+00</td>\n",
       "      <td>1.000000</td>\n",
       "      <td>Hmga2</td>\n",
       "      <td>0.437059</td>\n",
       "    </tr>\n",
       "    <tr>\n",
       "      <th>2610307P16Rik</th>\n",
       "      <td>-37.902099</td>\n",
       "      <td>-37.901184</td>\n",
       "      <td>-0.000915</td>\n",
       "      <td>1.000000e+00</td>\n",
       "      <td>1.000000</td>\n",
       "      <td>Zfp945</td>\n",
       "      <td>0.250511</td>\n",
       "    </tr>\n",
       "    <tr>\n",
       "      <th>...</th>\n",
       "      <td>...</td>\n",
       "      <td>...</td>\n",
       "      <td>...</td>\n",
       "      <td>...</td>\n",
       "      <td>...</td>\n",
       "      <td>...</td>\n",
       "      <td>...</td>\n",
       "    </tr>\n",
       "    <tr>\n",
       "      <th>Trak2</th>\n",
       "      <td>-752.092167</td>\n",
       "      <td>-771.685043</td>\n",
       "      <td>19.592875</td>\n",
       "      <td>9.580000e-06</td>\n",
       "      <td>0.028478</td>\n",
       "      <td>Mfsd5</td>\n",
       "      <td>0.000964</td>\n",
       "    </tr>\n",
       "    <tr>\n",
       "      <th>Kctd12</th>\n",
       "      <td>-1109.957778</td>\n",
       "      <td>-1131.784096</td>\n",
       "      <td>21.826318</td>\n",
       "      <td>2.980000e-06</td>\n",
       "      <td>0.011088</td>\n",
       "      <td>Ccdc174</td>\n",
       "      <td>0.000964</td>\n",
       "    </tr>\n",
       "    <tr>\n",
       "      <th>Beta-s</th>\n",
       "      <td>-1117.092365</td>\n",
       "      <td>-1142.050943</td>\n",
       "      <td>24.958579</td>\n",
       "      <td>5.860000e-07</td>\n",
       "      <td>0.002901</td>\n",
       "      <td>Zfp84</td>\n",
       "      <td>1.420982</td>\n",
       "    </tr>\n",
       "    <tr>\n",
       "      <th>Apc</th>\n",
       "      <td>-1008.970527</td>\n",
       "      <td>-1034.439913</td>\n",
       "      <td>25.469386</td>\n",
       "      <td>4.490000e-07</td>\n",
       "      <td>0.002901</td>\n",
       "      <td>Map2k2</td>\n",
       "      <td>0.000964</td>\n",
       "    </tr>\n",
       "    <tr>\n",
       "      <th>Kif5b</th>\n",
       "      <td>-950.386864</td>\n",
       "      <td>-975.895607</td>\n",
       "      <td>25.508744</td>\n",
       "      <td>4.400000e-07</td>\n",
       "      <td>0.002901</td>\n",
       "      <td>Erlec1</td>\n",
       "      <td>0.000964</td>\n",
       "    </tr>\n",
       "  </tbody>\n",
       "</table>\n",
       "<p>14859 rows × 7 columns</p>\n",
       "</div>"
      ],
      "text/plain": [
       "               Dynamic_model_log_likelihood  Constant_model_log_likelihood  \\\n",
       "gene_gpc                                                                     \n",
       "Cox6c                          -1124.904373                    -819.175015   \n",
       "Ubr3                            -796.951887                    -671.458858   \n",
       "Rps14                           -694.289770                    -685.553645   \n",
       "Cyp2j12                          -39.068012                     -39.067047   \n",
       "2610307P16Rik                    -37.902099                     -37.901184   \n",
       "...                                     ...                            ...   \n",
       "Trak2                           -752.092167                    -771.685043   \n",
       "Kctd12                         -1109.957778                   -1131.784096   \n",
       "Beta-s                         -1117.092365                   -1142.050943   \n",
       "Apc                            -1008.970527                   -1034.439913   \n",
       "Kif5b                           -950.386864                    -975.895607   \n",
       "\n",
       "               log_likelihood_ratio       p_value   q_value    g_sde   LLR_sde  \n",
       "gene_gpc                                                                        \n",
       "Cox6c                   -305.729358  1.000000e+00  1.000000    Snx15  0.000964  \n",
       "Ubr3                    -125.493029  1.000000e+00  1.000000    Rragd  0.000964  \n",
       "Rps14                     -8.736125  1.000000e+00  1.000000  Fam126a  0.000964  \n",
       "Cyp2j12                   -0.000965  1.000000e+00  1.000000    Hmga2  0.437059  \n",
       "2610307P16Rik             -0.000915  1.000000e+00  1.000000   Zfp945  0.250511  \n",
       "...                             ...           ...       ...      ...       ...  \n",
       "Trak2                     19.592875  9.580000e-06  0.028478    Mfsd5  0.000964  \n",
       "Kctd12                    21.826318  2.980000e-06  0.011088  Ccdc174  0.000964  \n",
       "Beta-s                    24.958579  5.860000e-07  0.002901    Zfp84  1.420982  \n",
       "Apc                       25.469386  4.490000e-07  0.002901   Map2k2  0.000964  \n",
       "Kif5b                     25.508744  4.400000e-07  0.002901   Erlec1  0.000964  \n",
       "\n",
       "[14859 rows x 7 columns]"
      ]
     },
     "execution_count": 204,
     "metadata": {},
     "output_type": "execute_result"
    }
   ],
   "source": [
    "df.sort_values(by=['log_likelihood_ratio'], inplace=True)\n",
    "df"
   ]
  },
  {
   "cell_type": "code",
   "execution_count": 205,
   "metadata": {
    "ExecuteTime": {
     "end_time": "2020-10-30T11:14:17.732698Z",
     "start_time": "2020-10-30T11:14:17.722608Z"
    }
   },
   "outputs": [],
   "source": [
    "df2.sort_values(by=['log_likelihood_ratio'], inplace=True)"
   ]
  },
  {
   "cell_type": "code",
   "execution_count": 206,
   "metadata": {
    "ExecuteTime": {
     "end_time": "2020-10-30T11:14:30.983255Z",
     "start_time": "2020-10-30T11:14:30.977996Z"
    }
   },
   "outputs": [],
   "source": [
    "data_act = df2['log_likelihood_ratio'].to_numpy()\n",
    "data_null = df['log_likelihood_ratio'].to_numpy()"
   ]
  },
  {
   "cell_type": "code",
   "execution_count": 207,
   "metadata": {
    "ExecuteTime": {
     "end_time": "2020-10-30T11:15:58.630286Z",
     "start_time": "2020-10-30T11:14:36.193170Z"
    }
   },
   "outputs": [],
   "source": [
    "position = []\n",
    "for i in range(len(data_act)):\n",
    "    for j in range(len(data_null)):\n",
    "\n",
    "        if data_null[j]==data_act[i]:\n",
    "            if data_null[j] == 0:\n",
    "                position.append(j)\n",
    "                break\n",
    "            else:\n",
    "                position.append(j-1)\n",
    "                break      \n",
    "        if data_null[j]>data_act[i]:\n",
    "            position.append(j-1)\n",
    "            break\n",
    "        if j == len(data_null) - 1:\n",
    "            position.append(j)"
   ]
  },
  {
   "cell_type": "code",
   "execution_count": 208,
   "metadata": {
    "ExecuteTime": {
     "end_time": "2020-10-30T11:15:58.644070Z",
     "start_time": "2020-10-30T11:15:58.633274Z"
    },
    "scrolled": true
   },
   "outputs": [],
   "source": [
    "#(n-i)/n\n",
    "p_value_list = []\n",
    "for i in range(len(position)):\n",
    "    p_value_list.append((len(data_null) - position[i])/ len(data_null))"
   ]
  },
  {
   "cell_type": "code",
   "execution_count": 209,
   "metadata": {
    "ExecuteTime": {
     "end_time": "2020-10-30T11:15:58.824498Z",
     "start_time": "2020-10-30T11:15:58.649530Z"
    },
    "scrolled": true
   },
   "outputs": [
    {
     "data": {
      "image/png": "[encoded data removed]",
      "text/plain": [
       "<Figure size 432x288 with 1 Axes>"
      ]
     },
     "metadata": {
      "needs_background": "light"
     },
     "output_type": "display_data"
    }
   ],
   "source": [
    "plt.hist(p_value_list, bins=50, color='darkcyan', ec='k');\n",
    "plt.title('permuted null p-value histogram')\n",
    "plt.ylabel('Number of Genes')\n",
    "plt.xlabel('p-value');\n",
    "plt.tight_layout()\n",
    "# plt.savefig('pvalhistperm.pdf', dpi=100)"
   ]
  },
  {
   "cell_type": "code",
   "execution_count": 210,
   "metadata": {
    "ExecuteTime": {
     "end_time": "2020-10-30T11:15:58.946152Z",
     "start_time": "2020-10-30T11:15:58.826533Z"
    }
   },
   "outputs": [
    {
     "data": {
      "text/plain": [
       "<matplotlib.collections.PathCollection at 0x7fb767003fd0>"
      ]
     },
     "execution_count": 210,
     "metadata": {},
     "output_type": "execute_result"
    },
    {
     "data": {
      "image/png": "[encoded data removed]",
      "text/plain": [
       "<Figure size 432x288 with 1 Axes>"
      ]
     },
     "metadata": {
      "needs_background": "light"
     },
     "output_type": "display_data"
    }
   ],
   "source": [
    "plt.scatter(data_act,np.log(p_value_list))"
   ]
  },
  {
   "cell_type": "code",
   "execution_count": 211,
   "metadata": {
    "ExecuteTime": {
     "end_time": "2020-10-30T11:15:59.386906Z",
     "start_time": "2020-10-30T11:15:58.948011Z"
    }
   },
   "outputs": [
    {
     "data": {
      "image/png": "[encoded data removed]",
      "text/plain": [
       "<Figure size 432x288 with 1 Axes>"
      ]
     },
     "metadata": {
      "needs_background": "light"
     },
     "output_type": "display_data"
    }
   ],
   "source": [
    "plt.hist(pval_or, bins=50, color='darkcyan', ec='k');\n",
    "plt.title('chi-squared null p-value histogram')\n",
    "plt.ylabel('Number of Genes')\n",
    "plt.xlabel('p-value');\n",
    "plt.tight_layout()\n"
   ]
  },
  {
   "cell_type": "code",
   "execution_count": 212,
   "metadata": {
    "ExecuteTime": {
     "end_time": "2020-10-30T11:15:59.397460Z",
     "start_time": "2020-10-30T11:15:59.388384Z"
    }
   },
   "outputs": [],
   "source": [
    "import scipy as sp\n",
    "from scipy import interpolate\n",
    "def qvalue(pv, pi0=None):\n",
    "    '''\n",
    "    Estimates q-values from p-values\n",
    "    This function is modified based on https://github.com/nfusi/qvalue\n",
    "    Args\n",
    "    ====\n",
    "    pi0: if None, it's estimated as suggested in Storey and Tibshirani, 2003.\n",
    "    '''\n",
    "    assert(pv.min() >= 0 and pv.max() <= 1), \"p-values should be between 0 and 1\"\n",
    "\n",
    "    original_shape = pv.shape\n",
    "    pv = pv.ravel()  # flattens the array in place, more efficient than flatten()\n",
    "\n",
    "    m = float(len(pv))\n",
    "\n",
    "    # if the number of hypotheses is small, just set pi0 to 1\n",
    "    if len(pv) < 100 and pi0 is None:\n",
    "        pi0 = 1.0\n",
    "    elif pi0 is not None:\n",
    "        pi0 = pi0\n",
    "    else:\n",
    "        # evaluate pi0 for different lambdas\n",
    "        pi0 = []\n",
    "        lam = sp.arange(0, 0.90, 0.01)\n",
    "        counts = sp.array([(pv > i).sum() for i in sp.arange(0, 0.9, 0.01)])\n",
    "        for l in range(len(lam)):\n",
    "            pi0.append(counts[l]/(m*(1-lam[l])))\n",
    "\n",
    "        pi0 = sp.array(pi0)\n",
    "\n",
    "        # fit natural cubic spline\n",
    "        tck = interpolate.splrep(lam, pi0, k=3)\n",
    "        pi0 = interpolate.splev(lam[-1], tck)\n",
    "\n",
    "        if pi0 > 1:\n",
    "            pi0 = 1.0\n",
    "\n",
    "    assert(pi0 >= 0 and pi0 <= 1), \"pi0 is not between 0 and 1: %f\" % pi0\n",
    "\n",
    "    p_ordered = sp.argsort(pv)\n",
    "    pv = pv[p_ordered]\n",
    "    qv = pi0 * m/len(pv) * pv\n",
    "    qv[-1] = min(qv[-1], 1.0)\n",
    "\n",
    "    for i in range(len(pv)-2, -1, -1):\n",
    "        qv[i] = min(pi0*m*pv[i]/(i+1.0), qv[i+1])\n",
    "\n",
    "    # reorder qvalues\n",
    "    qv_temp = qv.copy()\n",
    "    qv = sp.zeros_like(qv)\n",
    "    qv[p_ordered] = qv_temp\n",
    "\n",
    "    # reshape qvalues\n",
    "    qv = qv.reshape(original_shape)\n",
    "\n",
    "    return qv\n"
   ]
  },
  {
   "cell_type": "code",
   "execution_count": 213,
   "metadata": {
    "ExecuteTime": {
     "end_time": "2020-10-30T11:15:59.448360Z",
     "start_time": "2020-10-30T11:15:59.399585Z"
    }
   },
   "outputs": [
    {
     "name": "stderr",
     "output_type": "stream",
     "text": [
      "/Users/user/opt/anaconda3/envs/tf/lib/python3.7/site-packages/ipykernel_launcher.py:26: DeprecationWarning: scipy.arange is deprecated and will be removed in SciPy 2.0.0, use numpy.arange instead\n",
      "/Users/user/opt/anaconda3/envs/tf/lib/python3.7/site-packages/ipykernel_launcher.py:27: DeprecationWarning: scipy.arange is deprecated and will be removed in SciPy 2.0.0, use numpy.arange instead\n",
      "/Users/user/opt/anaconda3/envs/tf/lib/python3.7/site-packages/ipykernel_launcher.py:27: DeprecationWarning: scipy.array is deprecated and will be removed in SciPy 2.0.0, use numpy.array instead\n",
      "/Users/user/opt/anaconda3/envs/tf/lib/python3.7/site-packages/ipykernel_launcher.py:31: DeprecationWarning: scipy.array is deprecated and will be removed in SciPy 2.0.0, use numpy.array instead\n",
      "/Users/user/opt/anaconda3/envs/tf/lib/python3.7/site-packages/ipykernel_launcher.py:42: DeprecationWarning: scipy.argsort is deprecated and will be removed in SciPy 2.0.0, use numpy.argsort instead\n",
      "/Users/user/opt/anaconda3/envs/tf/lib/python3.7/site-packages/ipykernel_launcher.py:52: DeprecationWarning: scipy.zeros_like is deprecated and will be removed in SciPy 2.0.0, use numpy.zeros_like instead\n"
     ]
    },
    {
     "data": {
      "text/html": [
       "<div>\n",
       "<style scoped>\n",
       "    .dataframe tbody tr th:only-of-type {\n",
       "        vertical-align: middle;\n",
       "    }\n",
       "\n",
       "    .dataframe tbody tr th {\n",
       "        vertical-align: top;\n",
       "    }\n",
       "\n",
       "    .dataframe thead th {\n",
       "        text-align: right;\n",
       "    }\n",
       "</style>\n",
       "<table border=\"1\" class=\"dataframe\">\n",
       "  <thead>\n",
       "    <tr style=\"text-align: right;\">\n",
       "      <th></th>\n",
       "      <th>Dynamic_model_log_likelihood</th>\n",
       "      <th>Constant_model_log_likelihood</th>\n",
       "      <th>log_likelihood_ratio</th>\n",
       "      <th>lengthscale</th>\n",
       "      <th>Unnamed: 5</th>\n",
       "      <th>pval</th>\n",
       "      <th>q value</th>\n",
       "      <th>BIC_periodic</th>\n",
       "      <th>BIC_linear</th>\n",
       "      <th>BIC_rbf</th>\n",
       "      <th>qvalue_permuted</th>\n",
       "    </tr>\n",
       "  </thead>\n",
       "  <tbody>\n",
       "    <tr>\n",
       "      <th>Atp1b2</th>\n",
       "      <td>-1016.227626</td>\n",
       "      <td>-841.977304</td>\n",
       "      <td>-174.250322</td>\n",
       "      <td>2.592762</td>\n",
       "      <td>NaN</td>\n",
       "      <td>1.0</td>\n",
       "      <td>1.0</td>\n",
       "      <td>1697.089426</td>\n",
       "      <td>1691.528740</td>\n",
       "      <td>2054.697979</td>\n",
       "      <td>0.808203</td>\n",
       "    </tr>\n",
       "    <tr>\n",
       "      <th>Prss48</th>\n",
       "      <td>-16.907008</td>\n",
       "      <td>-16.652417</td>\n",
       "      <td>-0.254592</td>\n",
       "      <td>7.692128</td>\n",
       "      <td>NaN</td>\n",
       "      <td>1.0</td>\n",
       "      <td>1.0</td>\n",
       "      <td>55.547560</td>\n",
       "      <td>49.986878</td>\n",
       "      <td>56.056744</td>\n",
       "      <td>0.808149</td>\n",
       "    </tr>\n",
       "    <tr>\n",
       "      <th>Gabrr2</th>\n",
       "      <td>-25.872195</td>\n",
       "      <td>-25.637627</td>\n",
       "      <td>-0.234568</td>\n",
       "      <td>2.268529</td>\n",
       "      <td>NaN</td>\n",
       "      <td>1.0</td>\n",
       "      <td>1.0</td>\n",
       "      <td>79.210680</td>\n",
       "      <td>73.649998</td>\n",
       "      <td>73.987116</td>\n",
       "      <td>0.808149</td>\n",
       "    </tr>\n",
       "    <tr>\n",
       "      <th>Wdr62</th>\n",
       "      <td>-45.502643</td>\n",
       "      <td>-45.501741</td>\n",
       "      <td>-0.000902</td>\n",
       "      <td>0.875815</td>\n",
       "      <td>NaN</td>\n",
       "      <td>1.0</td>\n",
       "      <td>1.0</td>\n",
       "      <td>113.246206</td>\n",
       "      <td>107.685525</td>\n",
       "      <td>113.248013</td>\n",
       "      <td>0.808149</td>\n",
       "    </tr>\n",
       "    <tr>\n",
       "      <th>Gas2l2</th>\n",
       "      <td>-56.111572</td>\n",
       "      <td>-56.110757</td>\n",
       "      <td>-0.000814</td>\n",
       "      <td>0.359540</td>\n",
       "      <td>NaN</td>\n",
       "      <td>1.0</td>\n",
       "      <td>1.0</td>\n",
       "      <td>134.464242</td>\n",
       "      <td>128.903561</td>\n",
       "      <td>134.465870</td>\n",
       "      <td>0.808149</td>\n",
       "    </tr>\n",
       "    <tr>\n",
       "      <th>...</th>\n",
       "      <td>...</td>\n",
       "      <td>...</td>\n",
       "      <td>...</td>\n",
       "      <td>...</td>\n",
       "      <td>...</td>\n",
       "      <td>...</td>\n",
       "      <td>...</td>\n",
       "      <td>...</td>\n",
       "      <td>...</td>\n",
       "      <td>...</td>\n",
       "      <td>...</td>\n",
       "    </tr>\n",
       "    <tr>\n",
       "      <th>Scd1</th>\n",
       "      <td>-887.377675</td>\n",
       "      <td>-1005.961963</td>\n",
       "      <td>118.584288</td>\n",
       "      <td>2.020826</td>\n",
       "      <td>NaN</td>\n",
       "      <td>0.0</td>\n",
       "      <td>0.0</td>\n",
       "      <td>2034.166642</td>\n",
       "      <td>2028.605970</td>\n",
       "      <td>1796.998077</td>\n",
       "      <td>0.004958</td>\n",
       "    </tr>\n",
       "    <tr>\n",
       "      <th>Kif5b</th>\n",
       "      <td>-852.911832</td>\n",
       "      <td>-975.895594</td>\n",
       "      <td>122.983762</td>\n",
       "      <td>1.641483</td>\n",
       "      <td>NaN</td>\n",
       "      <td>0.0</td>\n",
       "      <td>0.0</td>\n",
       "      <td>1974.033914</td>\n",
       "      <td>1968.473250</td>\n",
       "      <td>1728.066392</td>\n",
       "      <td>0.004958</td>\n",
       "    </tr>\n",
       "    <tr>\n",
       "      <th>Apoe</th>\n",
       "      <td>-1380.773688</td>\n",
       "      <td>-1518.292602</td>\n",
       "      <td>137.518914</td>\n",
       "      <td>2.299816</td>\n",
       "      <td>NaN</td>\n",
       "      <td>0.0</td>\n",
       "      <td>0.0</td>\n",
       "      <td>3058.828824</td>\n",
       "      <td>3053.268140</td>\n",
       "      <td>2783.790103</td>\n",
       "      <td>0.004958</td>\n",
       "    </tr>\n",
       "    <tr>\n",
       "      <th>Apod</th>\n",
       "      <td>-1120.543036</td>\n",
       "      <td>-1265.301416</td>\n",
       "      <td>144.758380</td>\n",
       "      <td>1.689753</td>\n",
       "      <td>NaN</td>\n",
       "      <td>0.0</td>\n",
       "      <td>0.0</td>\n",
       "      <td>2552.846733</td>\n",
       "      <td>2547.286150</td>\n",
       "      <td>2263.328799</td>\n",
       "      <td>0.004958</td>\n",
       "    </tr>\n",
       "    <tr>\n",
       "      <th>Fabp7</th>\n",
       "      <td>-1132.469985</td>\n",
       "      <td>-1307.860260</td>\n",
       "      <td>175.390275</td>\n",
       "      <td>1.855784</td>\n",
       "      <td>NaN</td>\n",
       "      <td>0.0</td>\n",
       "      <td>0.0</td>\n",
       "      <td>2637.965784</td>\n",
       "      <td>2632.405120</td>\n",
       "      <td>2287.182697</td>\n",
       "      <td>0.004958</td>\n",
       "    </tr>\n",
       "  </tbody>\n",
       "</table>\n",
       "<p>14859 rows × 11 columns</p>\n",
       "</div>"
      ],
      "text/plain": [
       "        Dynamic_model_log_likelihood  Constant_model_log_likelihood  \\\n",
       "Atp1b2                  -1016.227626                    -841.977304   \n",
       "Prss48                    -16.907008                     -16.652417   \n",
       "Gabrr2                    -25.872195                     -25.637627   \n",
       "Wdr62                     -45.502643                     -45.501741   \n",
       "Gas2l2                    -56.111572                     -56.110757   \n",
       "...                              ...                            ...   \n",
       "Scd1                     -887.377675                   -1005.961963   \n",
       "Kif5b                    -852.911832                    -975.895594   \n",
       "Apoe                    -1380.773688                   -1518.292602   \n",
       "Apod                    -1120.543036                   -1265.301416   \n",
       "Fabp7                   -1132.469985                   -1307.860260   \n",
       "\n",
       "        log_likelihood_ratio  lengthscale  Unnamed: 5  pval  q value  \\\n",
       "Atp1b2           -174.250322     2.592762         NaN   1.0      1.0   \n",
       "Prss48             -0.254592     7.692128         NaN   1.0      1.0   \n",
       "Gabrr2             -0.234568     2.268529         NaN   1.0      1.0   \n",
       "Wdr62              -0.000902     0.875815         NaN   1.0      1.0   \n",
       "Gas2l2             -0.000814     0.359540         NaN   1.0      1.0   \n",
       "...                      ...          ...         ...   ...      ...   \n",
       "Scd1              118.584288     2.020826         NaN   0.0      0.0   \n",
       "Kif5b             122.983762     1.641483         NaN   0.0      0.0   \n",
       "Apoe              137.518914     2.299816         NaN   0.0      0.0   \n",
       "Apod              144.758380     1.689753         NaN   0.0      0.0   \n",
       "Fabp7             175.390275     1.855784         NaN   0.0      0.0   \n",
       "\n",
       "        BIC_periodic   BIC_linear      BIC_rbf  qvalue_permuted  \n",
       "Atp1b2   1697.089426  1691.528740  2054.697979         0.808203  \n",
       "Prss48     55.547560    49.986878    56.056744         0.808149  \n",
       "Gabrr2     79.210680    73.649998    73.987116         0.808149  \n",
       "Wdr62     113.246206   107.685525   113.248013         0.808149  \n",
       "Gas2l2    134.464242   128.903561   134.465870         0.808149  \n",
       "...              ...          ...          ...              ...  \n",
       "Scd1     2034.166642  2028.605970  1796.998077         0.004958  \n",
       "Kif5b    1974.033914  1968.473250  1728.066392         0.004958  \n",
       "Apoe     3058.828824  3053.268140  2783.790103         0.004958  \n",
       "Apod     2552.846733  2547.286150  2263.328799         0.004958  \n",
       "Fabp7    2637.965784  2632.405120  2287.182697         0.004958  \n",
       "\n",
       "[14859 rows x 11 columns]"
      ]
     },
     "execution_count": 213,
     "metadata": {},
     "output_type": "execute_result"
    }
   ],
   "source": [
    "pval = pd.Series(p_value_list)\n",
    "df2['qvalue_permuted'] = qvalue(pval)\n",
    "df2"
   ]
  },
  {
   "cell_type": "code",
   "execution_count": null,
   "metadata": {},
   "outputs": [],
   "source": []
  },
  {
   "cell_type": "code",
   "execution_count": null,
   "metadata": {},
   "outputs": [],
   "source": []
  }
 ],
 "metadata": {
  "kernelspec": {
   "display_name": "Python 3",
   "language": "python",
   "name": "python3"
  },
  "language_info": {
   "codemirror_mode": {
    "name": "ipython",
    "version": 3
   },
   "file_extension": ".py",
   "mimetype": "text/x-python",
   "name": "python",
   "nbconvert_exporter": "python",
   "pygments_lexer": "ipython3",
   "version": "3.7.7"
  }
 },
 "nbformat": 4,
 "nbformat_minor": 4
}
