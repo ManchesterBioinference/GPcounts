{
 "cells": [
  {
   "cell_type": "code",
   "execution_count": 21,
   "metadata": {
    "ExecuteTime": {
     "end_time": "2021-01-12T12:39:29.451365Z",
     "start_time": "2021-01-12T12:39:29.448189Z"
    }
   },
   "outputs": [],
   "source": [
    "import pandas as pd \n",
    "import numpy as np \n",
    "from matplotlib import pyplot as plt\n",
    "from matplotlib import rcParams\n",
    "import matplotlib_venn as venn\n",
    "from matplotlib_venn import venn2, venn2_circles, venn3"
   ]
  },
  {
   "cell_type": "markdown",
   "metadata": {},
   "source": [
    "# CASE 1: Results from null which follows a chi-squared with one degree of freedom distribution"
   ]
  },
  {
   "cell_type": "code",
   "execution_count": 17,
   "metadata": {
    "ExecuteTime": {
     "end_time": "2021-01-12T12:37:42.660317Z",
     "start_time": "2021-01-12T12:37:42.618078Z"
    }
   },
   "outputs": [],
   "source": [
    "df = pd.read_csv('MOUSE_OB_res_plots.csv',index_col=[0])"
   ]
  },
  {
   "cell_type": "code",
   "execution_count": 18,
   "metadata": {
    "ExecuteTime": {
     "end_time": "2021-01-12T12:37:44.183112Z",
     "start_time": "2021-01-12T12:37:44.158449Z"
    }
   },
   "outputs": [
    {
     "data": {
      "text/html": [
       "<div>\n",
       "<style scoped>\n",
       "    .dataframe tbody tr th:only-of-type {\n",
       "        vertical-align: middle;\n",
       "    }\n",
       "\n",
       "    .dataframe tbody tr th {\n",
       "        vertical-align: top;\n",
       "    }\n",
       "\n",
       "    .dataframe thead th {\n",
       "        text-align: right;\n",
       "    }\n",
       "</style>\n",
       "<table border=\"1\" class=\"dataframe\">\n",
       "  <thead>\n",
       "    <tr style=\"text-align: right;\">\n",
       "      <th></th>\n",
       "      <th>sv_genes_spatialde</th>\n",
       "      <th>LLR_gpcounts</th>\n",
       "      <th>LLR_spatialde</th>\n",
       "      <th>sv_genes_gpcounts</th>\n",
       "      <th>gene_sh</th>\n",
       "      <th>llr_gpcounts_shuffled</th>\n",
       "      <th>LLR_shuffled</th>\n",
       "      <th>sv_genes_gpcounts_shuffled</th>\n",
       "      <th>sv_genes_spatialde_shuffled</th>\n",
       "      <th>sv_genes_spark</th>\n",
       "    </tr>\n",
       "    <tr>\n",
       "      <th>gene</th>\n",
       "      <th></th>\n",
       "      <th></th>\n",
       "      <th></th>\n",
       "      <th></th>\n",
       "      <th></th>\n",
       "      <th></th>\n",
       "      <th></th>\n",
       "      <th></th>\n",
       "      <th></th>\n",
       "      <th></th>\n",
       "    </tr>\n",
       "  </thead>\n",
       "  <tbody>\n",
       "    <tr>\n",
       "      <th>Apod</th>\n",
       "      <td>Cpe</td>\n",
       "      <td>144.758380</td>\n",
       "      <td>36.655408</td>\n",
       "      <td>Cldn5</td>\n",
       "      <td>0610007N19Rik</td>\n",
       "      <td>0.843446</td>\n",
       "      <td>0.570876</td>\n",
       "      <td>Myo5a</td>\n",
       "      <td>Cplx1</td>\n",
       "      <td>2010300C02Rik</td>\n",
       "    </tr>\n",
       "    <tr>\n",
       "      <th>Apoe</th>\n",
       "      <td>Fabp7</td>\n",
       "      <td>137.518914</td>\n",
       "      <td>35.698017</td>\n",
       "      <td>Pmepa1</td>\n",
       "      <td>0610007P14Rik</td>\n",
       "      <td>0.000000</td>\n",
       "      <td>0.670662</td>\n",
       "      <td>Eef1a1</td>\n",
       "      <td>Nr2f2</td>\n",
       "      <td>Eef1a1</td>\n",
       "    </tr>\n",
       "    <tr>\n",
       "      <th>Kif5b</th>\n",
       "      <td>Kif5b</td>\n",
       "      <td>122.983762</td>\n",
       "      <td>37.146026</td>\n",
       "      <td>Pcp4</td>\n",
       "      <td>0610009B22Rik</td>\n",
       "      <td>0.660586</td>\n",
       "      <td>0.718966</td>\n",
       "      <td>Mt1</td>\n",
       "      <td>Igfbp5</td>\n",
       "      <td>Sh3gl2</td>\n",
       "    </tr>\n",
       "    <tr>\n",
       "      <th>Scd1</th>\n",
       "      <td>Cck</td>\n",
       "      <td>118.584288</td>\n",
       "      <td>21.540990</td>\n",
       "      <td>Apc</td>\n",
       "      <td>0610009D07Rik</td>\n",
       "      <td>0.787147</td>\n",
       "      <td>1.239042</td>\n",
       "      <td>Cplx1</td>\n",
       "      <td>4933405L10Rik</td>\n",
       "      <td>Fam213a</td>\n",
       "    </tr>\n",
       "    <tr>\n",
       "      <th>S100a5</th>\n",
       "      <td>Apod</td>\n",
       "      <td>108.849838</td>\n",
       "      <td>26.472945</td>\n",
       "      <td>Ube2ql1</td>\n",
       "      <td>0610009L18Rik</td>\n",
       "      <td>0.003964</td>\n",
       "      <td>0.116609</td>\n",
       "      <td>Map2</td>\n",
       "      <td>Gabra1</td>\n",
       "      <td>Dbn1</td>\n",
       "    </tr>\n",
       "    <tr>\n",
       "      <th>...</th>\n",
       "      <td>...</td>\n",
       "      <td>...</td>\n",
       "      <td>...</td>\n",
       "      <td>...</td>\n",
       "      <td>...</td>\n",
       "      <td>...</td>\n",
       "      <td>...</td>\n",
       "      <td>...</td>\n",
       "      <td>...</td>\n",
       "      <td>...</td>\n",
       "    </tr>\n",
       "    <tr>\n",
       "      <th>Zscan29</th>\n",
       "      <td>NaN</td>\n",
       "      <td>0.000000</td>\n",
       "      <td>0.222147</td>\n",
       "      <td>NaN</td>\n",
       "      <td>Zyx</td>\n",
       "      <td>0.000033</td>\n",
       "      <td>0.000964</td>\n",
       "      <td>NaN</td>\n",
       "      <td>NaN</td>\n",
       "      <td>NaN</td>\n",
       "    </tr>\n",
       "    <tr>\n",
       "      <th>Zwilch</th>\n",
       "      <td>NaN</td>\n",
       "      <td>0.000000</td>\n",
       "      <td>0.000964</td>\n",
       "      <td>NaN</td>\n",
       "      <td>Zzef1</td>\n",
       "      <td>0.000000</td>\n",
       "      <td>0.000964</td>\n",
       "      <td>NaN</td>\n",
       "      <td>NaN</td>\n",
       "      <td>NaN</td>\n",
       "    </tr>\n",
       "    <tr>\n",
       "      <th>Zxda</th>\n",
       "      <td>NaN</td>\n",
       "      <td>0.000000</td>\n",
       "      <td>0.000964</td>\n",
       "      <td>NaN</td>\n",
       "      <td>Zzz3</td>\n",
       "      <td>0.000074</td>\n",
       "      <td>0.000964</td>\n",
       "      <td>NaN</td>\n",
       "      <td>NaN</td>\n",
       "      <td>NaN</td>\n",
       "    </tr>\n",
       "    <tr>\n",
       "      <th>Zyg11b</th>\n",
       "      <td>NaN</td>\n",
       "      <td>0.000000</td>\n",
       "      <td>0.000964</td>\n",
       "      <td>NaN</td>\n",
       "      <td>a</td>\n",
       "      <td>0.000000</td>\n",
       "      <td>0.000964</td>\n",
       "      <td>NaN</td>\n",
       "      <td>NaN</td>\n",
       "      <td>NaN</td>\n",
       "    </tr>\n",
       "    <tr>\n",
       "      <th>a</th>\n",
       "      <td>NaN</td>\n",
       "      <td>0.000000</td>\n",
       "      <td>0.000964</td>\n",
       "      <td>NaN</td>\n",
       "      <td>l7Rn6</td>\n",
       "      <td>0.299372</td>\n",
       "      <td>0.414881</td>\n",
       "      <td>NaN</td>\n",
       "      <td>NaN</td>\n",
       "      <td>NaN</td>\n",
       "    </tr>\n",
       "  </tbody>\n",
       "</table>\n",
       "<p>14859 rows × 10 columns</p>\n",
       "</div>"
      ],
      "text/plain": [
       "        sv_genes_spatialde  LLR_gpcounts  LLR_spatialde sv_genes_gpcounts  \\\n",
       "gene                                                                        \n",
       "Apod                   Cpe    144.758380      36.655408             Cldn5   \n",
       "Apoe                 Fabp7    137.518914      35.698017            Pmepa1   \n",
       "Kif5b                Kif5b    122.983762      37.146026              Pcp4   \n",
       "Scd1                   Cck    118.584288      21.540990               Apc   \n",
       "S100a5                Apod    108.849838      26.472945           Ube2ql1   \n",
       "...                    ...           ...            ...               ...   \n",
       "Zscan29                NaN      0.000000       0.222147               NaN   \n",
       "Zwilch                 NaN      0.000000       0.000964               NaN   \n",
       "Zxda                   NaN      0.000000       0.000964               NaN   \n",
       "Zyg11b                 NaN      0.000000       0.000964               NaN   \n",
       "a                      NaN      0.000000       0.000964               NaN   \n",
       "\n",
       "               gene_sh  llr_gpcounts_shuffled  LLR_shuffled  \\\n",
       "gene                                                          \n",
       "Apod     0610007N19Rik               0.843446      0.570876   \n",
       "Apoe     0610007P14Rik               0.000000      0.670662   \n",
       "Kif5b    0610009B22Rik               0.660586      0.718966   \n",
       "Scd1     0610009D07Rik               0.787147      1.239042   \n",
       "S100a5   0610009L18Rik               0.003964      0.116609   \n",
       "...                ...                    ...           ...   \n",
       "Zscan29            Zyx               0.000033      0.000964   \n",
       "Zwilch           Zzef1               0.000000      0.000964   \n",
       "Zxda              Zzz3               0.000074      0.000964   \n",
       "Zyg11b               a               0.000000      0.000964   \n",
       "a                l7Rn6               0.299372      0.414881   \n",
       "\n",
       "        sv_genes_gpcounts_shuffled sv_genes_spatialde_shuffled sv_genes_spark  \n",
       "gene                                                                           \n",
       "Apod                         Myo5a                       Cplx1  2010300C02Rik  \n",
       "Apoe                        Eef1a1                       Nr2f2         Eef1a1  \n",
       "Kif5b                          Mt1                      Igfbp5         Sh3gl2  \n",
       "Scd1                         Cplx1               4933405L10Rik        Fam213a  \n",
       "S100a5                        Map2                      Gabra1           Dbn1  \n",
       "...                            ...                         ...            ...  \n",
       "Zscan29                        NaN                         NaN            NaN  \n",
       "Zwilch                         NaN                         NaN            NaN  \n",
       "Zxda                           NaN                         NaN            NaN  \n",
       "Zyg11b                         NaN                         NaN            NaN  \n",
       "a                              NaN                         NaN            NaN  \n",
       "\n",
       "[14859 rows x 10 columns]"
      ]
     },
     "execution_count": 18,
     "metadata": {},
     "output_type": "execute_result"
    }
   ],
   "source": [
    "df"
   ]
  },
  {
   "cell_type": "code",
   "execution_count": 35,
   "metadata": {
    "ExecuteTime": {
     "end_time": "2021-01-12T15:32:11.940498Z",
     "start_time": "2021-01-12T15:32:11.811848Z"
    }
   },
   "outputs": [
    {
     "name": "stdout",
     "output_type": "stream",
     "text": [
      "{'Olfr635', 'Taf7l', 'Gna14', '4933405L10Rik', 'Tspan7'}\n"
     ]
    },
    {
     "data": {
      "image/png": "[encoded data removed]",
      "text/plain": [
       "<Figure size 432x288 with 1 Axes>"
      ]
     },
     "metadata": {},
     "output_type": "display_data"
    }
   ],
   "source": [
    "gpcounts = df['sv_genes_gpcounts']\n",
    "spatialde = df['sv_genes_spatialde']\n",
    "spark = df['sv_genes_spark']\n",
    "gpcounts = gpcounts.iloc[0:1096]\n",
    "spatialde = spatialde.iloc[0:67]\n",
    "spark = spark.iloc[0:772]\n",
    "labels = ['Taf7l', 'Gna14', 'Olfr635', '4933405LRik']\n",
    "v = venn3([set(gpcounts),set(spatialde),set(spark)],set_labels = ('GPcounts', 'SpatialDE', 'SPARK'))\n",
    "# plt.show()\n",
    "print(set(spatialde).difference(set(spark)))\n",
    "print(set(spatialde).difference(set(gpcounts)))\n",
    "# plt.savefig('venn_updated_withspark.pdf',dpi=100)"
   ]
  },
  {
   "cell_type": "code",
   "execution_count": 8,
   "metadata": {
    "ExecuteTime": {
     "end_time": "2021-01-12T11:52:59.717470Z",
     "start_time": "2021-01-12T11:52:57.940076Z"
    }
   },
   "outputs": [
    {
     "name": "stdout",
     "output_type": "stream",
     "text": [
      "Requirement already satisfied: pyreadr in /Users/user/opt/anaconda3/lib/python3.8/site-packages (0.4.0)\r\n",
      "Requirement already satisfied: pandas>0.24.0 in /Users/user/opt/anaconda3/lib/python3.8/site-packages (from pyreadr) (1.1.1)\r\n",
      "Requirement already satisfied: pytz>=2017.2 in /Users/user/opt/anaconda3/lib/python3.8/site-packages (from pandas>0.24.0->pyreadr) (2020.1)\r\n",
      "Requirement already satisfied: numpy>=1.15.4 in /Users/user/opt/anaconda3/lib/python3.8/site-packages (from pandas>0.24.0->pyreadr) (1.19.5)\r\n",
      "Requirement already satisfied: python-dateutil>=2.7.3 in /Users/user/opt/anaconda3/lib/python3.8/site-packages (from pandas>0.24.0->pyreadr) (2.8.1)\r\n",
      "Requirement already satisfied: six>=1.5 in /Users/user/opt/anaconda3/lib/python3.8/site-packages (from python-dateutil>=2.7.3->pandas>0.24.0->pyreadr) (1.12.0)\r\n"
     ]
    }
   ],
   "source": [
    "!pip install pyreadr"
   ]
  },
  {
   "cell_type": "code",
   "execution_count": 9,
   "metadata": {
    "ExecuteTime": {
     "end_time": "2021-01-12T11:53:02.122581Z",
     "start_time": "2021-01-12T11:53:02.104285Z"
    }
   },
   "outputs": [
    {
     "ename": "ModuleNotFoundError",
     "evalue": "No module named 'pyreadr'",
     "output_type": "error",
     "traceback": [
      "\u001b[0;31m---------------------------------------------------------------------------\u001b[0m",
      "\u001b[0;31mModuleNotFoundError\u001b[0m                       Traceback (most recent call last)",
      "\u001b[0;32m<ipython-input-9-62ddb2173d31>\u001b[0m in \u001b[0;36m<module>\u001b[0;34m\u001b[0m\n\u001b[0;32m----> 1\u001b[0;31m \u001b[0;32mimport\u001b[0m \u001b[0mpyreadr\u001b[0m\u001b[0;34m\u001b[0m\u001b[0;34m\u001b[0m\u001b[0m\n\u001b[0m\u001b[1;32m      2\u001b[0m \u001b[0;34m\u001b[0m\u001b[0m\n\u001b[1;32m      3\u001b[0m \u001b[0mresult\u001b[0m \u001b[0;34m=\u001b[0m \u001b[0mpyreadr\u001b[0m\u001b[0;34m.\u001b[0m\u001b[0mread_r\u001b[0m\u001b[0;34m(\u001b[0m\u001b[0;34m'Rep11_MOB_spark.rds'\u001b[0m\u001b[0;34m)\u001b[0m \u001b[0;31m# also works for RData\u001b[0m\u001b[0;34m\u001b[0m\u001b[0;34m\u001b[0m\u001b[0m\n",
      "\u001b[0;31mModuleNotFoundError\u001b[0m: No module named 'pyreadr'"
     ]
    }
   ],
   "source": [
    "import pyreadr\n",
    "\n",
    "result = pyreadr.read_r('Rep11_MOB_spark.rds') # also works for RData\n"
   ]
  },
  {
   "cell_type": "code",
   "execution_count": 13,
   "metadata": {
    "ExecuteTime": {
     "end_time": "2020-11-18T09:56:13.660786Z",
     "start_time": "2020-11-18T09:56:12.101367Z"
    },
    "scrolled": true
   },
   "outputs": [
    {
     "name": "stderr",
     "output_type": "stream",
     "text": [
      "/Users/user/opt/anaconda3/envs/tf/lib/python3.7/site-packages/ipykernel_launcher.py:32: MatplotlibDeprecationWarning: The 's' parameter of annotate() has been renamed 'text' since Matplotlib 3.3; support for the old name will be dropped two minor releases later.\n"
     ]
    },
    {
     "data": {
      "image/png": "[encoded data removed]",
      "text/plain": [
       "<Figure size 432x288 with 1 Axes>"
      ]
     },
     "metadata": {
      "needs_background": "light"
     },
     "output_type": "display_data"
    }
   ],
   "source": [
    "def pltcolor(lst):\n",
    "    cols=[]\n",
    "    for l in lst:\n",
    "        if l>10:\n",
    "            cols.append('mediumseagreen')\n",
    "        else:\n",
    "            cols.append('lightcoral')\n",
    "\n",
    "    return cols\n",
    "\n",
    "llr_gp = df['LLR_gpcounts']\n",
    "llr_sd = df['LLR_spatialde']\n",
    "cols=pltcolor(df.LLR_gpcounts)\n",
    "plt.scatter(llr_gp, llr_sd, c=cols, s=2, alpha=0.8)\n",
    "plt.axhline(y=13.64, color=\"dimgrey\",linestyle=\"--\", gid='p')\n",
    "plt.axvline(x=9.95, color=\"dimgrey\",linestyle=\"--\")\n",
    "plt.ylabel('Log Likehood Ratio SpatialDE')\n",
    "plt.xlabel('Log Likelihood Ratio GPcounts')\n",
    "\n",
    "names = ['Taf7l', '4933405L10Rik', 'Gna14', 'Olfr635', \n",
    "         'Glul', 'Cpe', 'Fabp7', 'Apoe', 'Cck', 'Mrpl22', 'Penk', 'Ccnd1', 'Fam50a','Apod']\n",
    "coorx = [2.90e-07,1.63E-08,1.63E-08,1.63E-08,72.04457624,\n",
    "         55.79384567,55.87592238,137.5189143,61.33918072,0.621936523,50.39398168,52.21644669,0.189971479,144.75838]\n",
    "coory = [25.802,19.15060518,14.84815196,14.84815196,28.81973096,\n",
    "         55.87592238,41.96622866,35.69801676,37.57358376,0.15647426,16.07397632,17.90521864,0.053959575,36.65540836]\n",
    "off_x = [6,10,6,6,6,6,6,6,6,6,6,6,4,-3]\n",
    "off_y = [2,6,2,-4,2,1,2,2,2,4,2,6,2,-6]\n",
    "\n",
    "for i in range(len(names)):\n",
    "    plt.annotate(\n",
    "    s=names[i], xy=(coorx[i],coory[i]), xytext=(coorx[i]+off_x[i], coory[i]+off_y[i]),\n",
    "    arrowprops=dict(facecolor='red', arrowstyle ='-'), fontsize=12)\n"
   ]
  },
  {
   "cell_type": "markdown",
   "metadata": {},
   "source": [
    "# CASE 2: Results from permuted null distribution"
   ]
  },
  {
   "cell_type": "code",
   "execution_count": 72,
   "metadata": {
    "ExecuteTime": {
     "end_time": "2020-10-30T13:36:05.509295Z",
     "start_time": "2020-10-30T13:36:05.444242Z"
    },
    "scrolled": true
   },
   "outputs": [
    {
     "data": {
      "image/png": "[encoded data removed]",
      "text/plain": [
       "<Figure size 432x288 with 1 Axes>"
      ]
     },
     "metadata": {},
     "output_type": "display_data"
    }
   ],
   "source": [
    "# gpcounts permutation test and computation of the p values using the shuffled LLR distribution while for spatialDE the original results (not permuted) have been used.\n",
    "gpcounts = df['sv_genes_gpcounts_shuffled']\n",
    "spatialde = df['sv_genes_spatialde']\n",
    "gpcounts = gpcounts.iloc[0:1202]\n",
    "spatialde = spatialde.iloc[0:67]\n",
    "labels = ['Taf7l', \n",
    "          'Gna14', \n",
    "          'Olfr635', \n",
    "          '4933405L10Rik']\n",
    "v = venn2([set(gpcounts),set(spatialde)],set_labels = ('GPcounts', 'SpatialDE'))\n",
    "\n",
    "plt.annotate(labels, xy=v.get_label_by_id('010').get_position() +\n",
    "             np.array([0, -0.1]), xytext=(30,60),\n",
    "             textcoords='offset points', \n",
    "             bbox=dict(boxstyle='square',fc='teal', alpha=0.3),\n",
    "             arrowprops=dict(arrowstyle='->'))\n"
   ]
  },
  {
   "cell_type": "code",
   "execution_count": 70,
   "metadata": {
    "ExecuteTime": {
     "end_time": "2020-10-30T13:35:37.742017Z",
     "start_time": "2020-10-30T13:35:37.736681Z"
    }
   },
   "outputs": [
    {
     "data": {
      "text/plain": [
       "'Pi4ka'"
      ]
     },
     "execution_count": 70,
     "metadata": {},
     "output_type": "execute_result"
    }
   ],
   "source": [
    "gpcounts[1201]"
   ]
  },
  {
   "cell_type": "code",
   "execution_count": 77,
   "metadata": {
    "ExecuteTime": {
     "end_time": "2020-10-30T13:37:38.379988Z",
     "start_time": "2020-10-30T13:37:38.312876Z"
    }
   },
   "outputs": [
    {
     "data": {
      "text/plain": [
       "Text(30, 60, \"['Taf7l', '4933405L10Rik']\")"
      ]
     },
     "execution_count": 77,
     "metadata": {},
     "output_type": "execute_result"
    },
    {
     "data": {
      "image/png": "[encoded data removed]",
      "text/plain": [
       "<Figure size 432x288 with 1 Axes>"
      ]
     },
     "metadata": {},
     "output_type": "display_data"
    }
   ],
   "source": [
    "# the results are taken from spatialDE and gpcounts permutation tests and computation of the p values using the shuffled LLR distribution (without assuming chi-squared distributed null)\n",
    "\n",
    "gpcounts = df['sv_genes_gpcounts_shuffled']\n",
    "spatialde = df['sv_genes_spatialde_shuffled']\n",
    "gpcounts = gpcounts.iloc[0:1202]\n",
    "spatialde = spatialde.iloc[0:44]\n",
    "v = venn2([set(gpcounts),set(spatialde)],set_labels = ('GPcounts', 'SpatialDE'))\n",
    "labels = ['Taf7l','4933405L10Rik']\n",
    "\n",
    "plt.annotate(labels, xy=v.get_label_by_id('010').get_position() +\n",
    "             np.array([0, -0.1]), xytext=(30,60),\n",
    "             textcoords='offset points', \n",
    "             bbox=dict(boxstyle='square', fc='teal', alpha=0.3),\n",
    "             arrowprops=dict(arrowstyle='->'))"
   ]
  },
  {
   "cell_type": "code",
   "execution_count": 75,
   "metadata": {
    "ExecuteTime": {
     "end_time": "2020-10-30T13:37:00.405272Z",
     "start_time": "2020-10-30T13:37:00.399593Z"
    }
   },
   "outputs": [
    {
     "data": {
      "text/plain": [
       "'Ccnd1'"
      ]
     },
     "execution_count": 75,
     "metadata": {},
     "output_type": "execute_result"
    }
   ],
   "source": [
    "spatialde[43]"
   ]
  },
  {
   "cell_type": "code",
   "execution_count": null,
   "metadata": {},
   "outputs": [],
   "source": []
  }
 ],
 "metadata": {
  "kernelspec": {
   "display_name": "Python 3",
   "language": "python",
   "name": "python3"
  },
  "language_info": {
   "codemirror_mode": {
    "name": "ipython",
    "version": 3
   },
   "file_extension": ".py",
   "mimetype": "text/x-python",
   "name": "python",
   "nbconvert_exporter": "python",
   "pygments_lexer": "ipython3",
   "version": "3.7.9"
  }
 },
 "nbformat": 4,
 "nbformat_minor": 4
}
