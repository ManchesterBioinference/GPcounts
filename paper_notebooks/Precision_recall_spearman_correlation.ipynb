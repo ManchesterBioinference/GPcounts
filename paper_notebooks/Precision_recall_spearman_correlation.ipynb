{
 "cells": [
  {
   "cell_type": "markdown",
   "metadata": {},
   "source": [
    "# Precision-recall curves and Spearman correlation on ScRNA-seq"
   ]
  },
  {
   "cell_type": "markdown",
   "metadata": {},
   "source": [
    "Nuha BinTayyash, 2020\n",
    "\n",
    "This notebook shows the precision-recall curves and Spearman correlation scores resulted from running [DESeq2](https://bioconductor.org/packages/release/bioc/html/DESeq2.html) R package and GPcounts one sample test with negative binomial and Gaussian likelihoods on ScRNA-seq gene expression data in Islet $\\alpha$ cell from [GSE8737 single cell RNA-seq ](https://www.ncbi.nlm.nih.gov/geo/query/acc.cgi?acc=GSE87375) dataset."
   ]
  },
  {
   "cell_type": "code",
   "execution_count": 1,
   "metadata": {},
   "outputs": [],
   "source": [
    "import numpy as np\n",
    "from matplotlib import pyplot as plt\n",
    "from sklearn import metrics\n",
    "import pandas as pd\n",
    "from scipy import stats\n",
    "from IPython.display import display"
   ]
  },
  {
   "cell_type": "markdown",
   "metadata": {},
   "source": [
    "To normalize ScRNA-seq gene expression data in Islet $\\alpha$ cell from [GSE8737 single cell RNA-seq ](https://www.ncbi.nlm.nih.gov/geo/query/acc.cgi?acc=GSE87375) dataset and to run one sample test using [DESeq2](https://bioconductor.org/packages/release/bioc/html/DESeq2.html) R package run DESeq2_scRNA_seq.Rmd R notebook"
   ]
  },
  {
   "cell_type": "code",
   "execution_count": 2,
   "metadata": {},
   "outputs": [
    {
     "name": "stdout",
     "output_type": "stream",
     "text": [
      "(18274, 6)\n"
     ]
    }
   ],
   "source": [
    "DESeq2 = pd.read_csv('../data/alpha_DESeq2.csv',index_col=[0])\n",
    "print(DESeq2.shape)"
   ]
  },
  {
   "cell_type": "markdown",
   "metadata": {},
   "source": [
    "\\* Note that all negative log likelihood ratios are set to zero"
   ]
  },
  {
   "cell_type": "code",
   "execution_count": 3,
   "metadata": {},
   "outputs": [
    {
     "name": "stdout",
     "output_type": "stream",
     "text": [
      "(18274, 3)\n",
      "(18274, 3)\n"
     ]
    }
   ],
   "source": [
    "GPcounts_NB = pd.read_csv('../data/ll_Negative_binomial_normalized_alpha_counts.csv',index_col=[0])\n",
    "GPcounts_G = pd.read_csv('../data/ll_Gaussian_normalized_alpha_counts.csv',index_col=[0])\n",
    "print(GPcounts_NB.shape)\n",
    "print(GPcounts_G.shape)"
   ]
  },
  {
   "cell_type": "markdown",
   "metadata": {},
   "source": [
    "Remove NaNs from DESeq2 results "
   ]
  },
  {
   "cell_type": "code",
   "execution_count": 4,
   "metadata": {},
   "outputs": [
    {
     "data": {
      "text/html": [
       "<div>\n",
       "<style scoped>\n",
       "    .dataframe tbody tr th:only-of-type {\n",
       "        vertical-align: middle;\n",
       "    }\n",
       "\n",
       "    .dataframe tbody tr th {\n",
       "        vertical-align: top;\n",
       "    }\n",
       "\n",
       "    .dataframe thead th {\n",
       "        text-align: right;\n",
       "    }\n",
       "</style>\n",
       "<table border=\"1\" class=\"dataframe\">\n",
       "  <thead>\n",
       "    <tr style=\"text-align: right;\">\n",
       "      <th></th>\n",
       "      <th>baseMean</th>\n",
       "      <th>log2FoldChange</th>\n",
       "      <th>lfcSE</th>\n",
       "      <th>stat</th>\n",
       "      <th>pvalue</th>\n",
       "      <th>padj</th>\n",
       "    </tr>\n",
       "  </thead>\n",
       "  <tbody>\n",
       "    <tr>\n",
       "      <th>ENSMUSG00000000001</th>\n",
       "      <td>123.914854</td>\n",
       "      <td>-1.450563</td>\n",
       "      <td>0.332834</td>\n",
       "      <td>20.681661</td>\n",
       "      <td>0.000005</td>\n",
       "      <td>0.000102</td>\n",
       "    </tr>\n",
       "    <tr>\n",
       "      <th>ENSMUSG00000000028</th>\n",
       "      <td>8.918803</td>\n",
       "      <td>-4.498371</td>\n",
       "      <td>1.855694</td>\n",
       "      <td>6.261511</td>\n",
       "      <td>0.012339</td>\n",
       "      <td>0.069156</td>\n",
       "    </tr>\n",
       "    <tr>\n",
       "      <th>ENSMUSG00000000031</th>\n",
       "      <td>0.515605</td>\n",
       "      <td>0.154787</td>\n",
       "      <td>1.565667</td>\n",
       "      <td>0.005131</td>\n",
       "      <td>0.942894</td>\n",
       "      <td>0.984825</td>\n",
       "    </tr>\n",
       "    <tr>\n",
       "      <th>ENSMUSG00000000037</th>\n",
       "      <td>1.468900</td>\n",
       "      <td>-2.194759</td>\n",
       "      <td>2.309940</td>\n",
       "      <td>1.013488</td>\n",
       "      <td>0.314069</td>\n",
       "      <td>0.606066</td>\n",
       "    </tr>\n",
       "    <tr>\n",
       "      <th>ENSMUSG00000000049</th>\n",
       "      <td>0.479602</td>\n",
       "      <td>-4.598312</td>\n",
       "      <td>4.380796</td>\n",
       "      <td>1.909780</td>\n",
       "      <td>0.166988</td>\n",
       "      <td>0.425824</td>\n",
       "    </tr>\n",
       "  </tbody>\n",
       "</table>\n",
       "</div>"
      ],
      "text/plain": [
       "                      baseMean  log2FoldChange     lfcSE       stat    pvalue  \\\n",
       "ENSMUSG00000000001  123.914854       -1.450563  0.332834  20.681661  0.000005   \n",
       "ENSMUSG00000000028    8.918803       -4.498371  1.855694   6.261511  0.012339   \n",
       "ENSMUSG00000000031    0.515605        0.154787  1.565667   0.005131  0.942894   \n",
       "ENSMUSG00000000037    1.468900       -2.194759  2.309940   1.013488  0.314069   \n",
       "ENSMUSG00000000049    0.479602       -4.598312  4.380796   1.909780  0.166988   \n",
       "\n",
       "                        padj  \n",
       "ENSMUSG00000000001  0.000102  \n",
       "ENSMUSG00000000028  0.069156  \n",
       "ENSMUSG00000000031  0.984825  \n",
       "ENSMUSG00000000037  0.606066  \n",
       "ENSMUSG00000000049  0.425824  "
      ]
     },
     "execution_count": 4,
     "metadata": {},
     "output_type": "execute_result"
    }
   ],
   "source": [
    "nan_gene = list(DESeq2[DESeq2['padj'].isnull()].index.values)\n",
    "DESeq2 = DESeq2.drop(nan_gene)\n",
    "DESeq2.head()"
   ]
  },
  {
   "cell_type": "code",
   "execution_count": 5,
   "metadata": {},
   "outputs": [
    {
     "data": {
      "text/html": [
       "<div>\n",
       "<style scoped>\n",
       "    .dataframe tbody tr th:only-of-type {\n",
       "        vertical-align: middle;\n",
       "    }\n",
       "\n",
       "    .dataframe tbody tr th {\n",
       "        vertical-align: top;\n",
       "    }\n",
       "\n",
       "    .dataframe thead th {\n",
       "        text-align: right;\n",
       "    }\n",
       "</style>\n",
       "<table border=\"1\" class=\"dataframe\">\n",
       "  <thead>\n",
       "    <tr style=\"text-align: right;\">\n",
       "      <th></th>\n",
       "      <th>Dynamic_model_log_likelihood</th>\n",
       "      <th>Constant_model_log_likelihood</th>\n",
       "      <th>log_likelihood_ratio</th>\n",
       "    </tr>\n",
       "  </thead>\n",
       "  <tbody>\n",
       "    <tr>\n",
       "      <th>ENSMUSG00000000001</th>\n",
       "      <td>-1878.607007</td>\n",
       "      <td>-1886.426437</td>\n",
       "      <td>7.819430</td>\n",
       "    </tr>\n",
       "    <tr>\n",
       "      <th>ENSMUSG00000000028</th>\n",
       "      <td>-310.960674</td>\n",
       "      <td>-312.491949</td>\n",
       "      <td>1.531276</td>\n",
       "    </tr>\n",
       "    <tr>\n",
       "      <th>ENSMUSG00000000031</th>\n",
       "      <td>-128.686494</td>\n",
       "      <td>-128.685865</td>\n",
       "      <td>0.000000</td>\n",
       "    </tr>\n",
       "    <tr>\n",
       "      <th>ENSMUSG00000000037</th>\n",
       "      <td>-164.352208</td>\n",
       "      <td>-164.352204</td>\n",
       "      <td>0.000000</td>\n",
       "    </tr>\n",
       "    <tr>\n",
       "      <th>ENSMUSG00000000049</th>\n",
       "      <td>-45.235383</td>\n",
       "      <td>-45.714519</td>\n",
       "      <td>0.479136</td>\n",
       "    </tr>\n",
       "    <tr>\n",
       "      <th>...</th>\n",
       "      <td>...</td>\n",
       "      <td>...</td>\n",
       "      <td>...</td>\n",
       "    </tr>\n",
       "    <tr>\n",
       "      <th>ENSMUSG00000102059</th>\n",
       "      <td>-673.636915</td>\n",
       "      <td>-674.774972</td>\n",
       "      <td>1.138057</td>\n",
       "    </tr>\n",
       "    <tr>\n",
       "      <th>ENSMUSG00000102070</th>\n",
       "      <td>-2509.662422</td>\n",
       "      <td>-2532.851699</td>\n",
       "      <td>23.189277</td>\n",
       "    </tr>\n",
       "    <tr>\n",
       "      <th>ENSMUSG00000102097</th>\n",
       "      <td>-328.205418</td>\n",
       "      <td>-328.205380</td>\n",
       "      <td>0.000000</td>\n",
       "    </tr>\n",
       "    <tr>\n",
       "      <th>ENSMUSG00000102101</th>\n",
       "      <td>-571.665489</td>\n",
       "      <td>-571.693336</td>\n",
       "      <td>0.027846</td>\n",
       "    </tr>\n",
       "    <tr>\n",
       "      <th>ENSMUSG00000102112</th>\n",
       "      <td>-282.275065</td>\n",
       "      <td>-282.103856</td>\n",
       "      <td>0.000000</td>\n",
       "    </tr>\n",
       "  </tbody>\n",
       "</table>\n",
       "<p>15794 rows × 3 columns</p>\n",
       "</div>"
      ],
      "text/plain": [
       "                    Dynamic_model_log_likelihood  \\\n",
       "ENSMUSG00000000001                  -1878.607007   \n",
       "ENSMUSG00000000028                   -310.960674   \n",
       "ENSMUSG00000000031                   -128.686494   \n",
       "ENSMUSG00000000037                   -164.352208   \n",
       "ENSMUSG00000000049                    -45.235383   \n",
       "...                                          ...   \n",
       "ENSMUSG00000102059                   -673.636915   \n",
       "ENSMUSG00000102070                  -2509.662422   \n",
       "ENSMUSG00000102097                   -328.205418   \n",
       "ENSMUSG00000102101                   -571.665489   \n",
       "ENSMUSG00000102112                   -282.275065   \n",
       "\n",
       "                    Constant_model_log_likelihood  log_likelihood_ratio  \n",
       "ENSMUSG00000000001                   -1886.426437              7.819430  \n",
       "ENSMUSG00000000028                    -312.491949              1.531276  \n",
       "ENSMUSG00000000031                    -128.685865              0.000000  \n",
       "ENSMUSG00000000037                    -164.352204              0.000000  \n",
       "ENSMUSG00000000049                     -45.714519              0.479136  \n",
       "...                                           ...                   ...  \n",
       "ENSMUSG00000102059                    -674.774972              1.138057  \n",
       "ENSMUSG00000102070                   -2532.851699             23.189277  \n",
       "ENSMUSG00000102097                    -328.205380              0.000000  \n",
       "ENSMUSG00000102101                    -571.693336              0.027846  \n",
       "ENSMUSG00000102112                    -282.103856              0.000000  \n",
       "\n",
       "[15794 rows x 3 columns]"
      ]
     },
     "execution_count": 5,
     "metadata": {},
     "output_type": "execute_result"
    }
   ],
   "source": [
    "GPcounts_NB = GPcounts_NB.drop(nan_gene)\n",
    "GPcounts_NB"
   ]
  },
  {
   "cell_type": "code",
   "execution_count": 6,
   "metadata": {},
   "outputs": [
    {
     "data": {
      "text/html": [
       "<div>\n",
       "<style scoped>\n",
       "    .dataframe tbody tr th:only-of-type {\n",
       "        vertical-align: middle;\n",
       "    }\n",
       "\n",
       "    .dataframe tbody tr th {\n",
       "        vertical-align: top;\n",
       "    }\n",
       "\n",
       "    .dataframe thead th {\n",
       "        text-align: right;\n",
       "    }\n",
       "</style>\n",
       "<table border=\"1\" class=\"dataframe\">\n",
       "  <thead>\n",
       "    <tr style=\"text-align: right;\">\n",
       "      <th></th>\n",
       "      <th>Dynamic_model_log_likelihood</th>\n",
       "      <th>Constant_model_log_likelihood</th>\n",
       "      <th>log_likelihood_ratio</th>\n",
       "    </tr>\n",
       "  </thead>\n",
       "  <tbody>\n",
       "    <tr>\n",
       "      <th>ENSMUSG00000000001</th>\n",
       "      <td>-647.855596</td>\n",
       "      <td>-668.011537</td>\n",
       "      <td>20.155942</td>\n",
       "    </tr>\n",
       "    <tr>\n",
       "      <th>ENSMUSG00000000028</th>\n",
       "      <td>-529.117237</td>\n",
       "      <td>-535.982452</td>\n",
       "      <td>6.865215</td>\n",
       "    </tr>\n",
       "    <tr>\n",
       "      <th>ENSMUSG00000000031</th>\n",
       "      <td>-205.861448</td>\n",
       "      <td>-205.861245</td>\n",
       "      <td>0.000000</td>\n",
       "    </tr>\n",
       "    <tr>\n",
       "      <th>ENSMUSG00000000037</th>\n",
       "      <td>-368.759806</td>\n",
       "      <td>-369.672432</td>\n",
       "      <td>0.912626</td>\n",
       "    </tr>\n",
       "    <tr>\n",
       "      <th>ENSMUSG00000000049</th>\n",
       "      <td>-127.913691</td>\n",
       "      <td>-128.987922</td>\n",
       "      <td>1.074230</td>\n",
       "    </tr>\n",
       "  </tbody>\n",
       "</table>\n",
       "</div>"
      ],
      "text/plain": [
       "                    Dynamic_model_log_likelihood  \\\n",
       "ENSMUSG00000000001                   -647.855596   \n",
       "ENSMUSG00000000028                   -529.117237   \n",
       "ENSMUSG00000000031                   -205.861448   \n",
       "ENSMUSG00000000037                   -368.759806   \n",
       "ENSMUSG00000000049                   -127.913691   \n",
       "\n",
       "                    Constant_model_log_likelihood  log_likelihood_ratio  \n",
       "ENSMUSG00000000001                    -668.011537             20.155942  \n",
       "ENSMUSG00000000028                    -535.982452              6.865215  \n",
       "ENSMUSG00000000031                    -205.861245              0.000000  \n",
       "ENSMUSG00000000037                    -369.672432              0.912626  \n",
       "ENSMUSG00000000049                    -128.987922              1.074230  "
      ]
     },
     "execution_count": 6,
     "metadata": {},
     "output_type": "execute_result"
    }
   ],
   "source": [
    "GPcounts_G = GPcounts_G.drop(nan_gene)\n",
    "GPcounts_G.head()"
   ]
  },
  {
   "cell_type": "markdown",
   "metadata": {},
   "source": [
    "#### label genes as differentially expressed using DESeq2 padj score"
   ]
  },
  {
   "cell_type": "code",
   "execution_count": null,
   "metadata": {},
   "outputs": [],
   "source": [
    "padj = [.05,.2,.5] # Threshold  \n",
    "fig = plt.figure()\n",
    "\n",
    "dfs = [GPcounts_NB['log_likelihood_ratio'],GPcounts_G['log_likelihood_ratio']]\n",
    "\n",
    "for df in range(len(dfs)):\n",
    "    D = len(DESeq2)\n",
    "    for i in range(3):\n",
    "        true_label = np.zeros(D)\n",
    "  \n",
    "        for j in range(D):\n",
    "            # label gene as differentially expressed if DESeq2 give it a score lower than the threshold\n",
    "            if DESeq2['padj'][j] <= padj[i]:\n",
    "                true_label[j] = 1 \n",
    "        labels = pd.DataFrame(true_label, index =DESeq2.index.values, columns =['label'])\n",
    "        \n",
    "        precision, recall, thresholds = metrics.precision_recall_curve(labels['label'],dfs[df])\n",
    "\n",
    "        plt.plot( recall,precision,label='adjusted p-value='+str(padj[i]))\n",
    "        plt.tick_params(labelsize='large', width=2) \n",
    "        \n",
    "        plt.xlabel('recall',fontsize=16)\n",
    "        plt.ylabel('precision', fontsize=16)\n",
    "        \n",
    "        if df == 0:\n",
    "            plt.legend(loc='best', bbox_to_anchor=(.61, .32))\n",
    "            title = ' NB likelihood'\n",
    "        \n",
    "        else:\n",
    "            title = 'Gaussian likelihood'\n",
    "           \n",
    "        plt.title(title,fontsize=16)\n",
    "        plt.ylim([-.1,1.1])\n",
    "        \n",
    "    plt.show()\n"
   ]
  },
  {
   "cell_type": "markdown",
   "metadata": {},
   "source": [
    "### Corrolate DESeq2 with GPcounts with NB likelihood"
   ]
  },
  {
   "cell_type": "markdown",
   "metadata": {},
   "source": [
    "DESeq2 and GPcounts with NB likelihood identify similar top 4 genes"
   ]
  },
  {
   "cell_type": "code",
   "execution_count": 8,
   "metadata": {},
   "outputs": [
    {
     "data": {
      "text/html": [
       "<div>\n",
       "<style scoped>\n",
       "    .dataframe tbody tr th:only-of-type {\n",
       "        vertical-align: middle;\n",
       "    }\n",
       "\n",
       "    .dataframe tbody tr th {\n",
       "        vertical-align: top;\n",
       "    }\n",
       "\n",
       "    .dataframe thead th {\n",
       "        text-align: right;\n",
       "    }\n",
       "</style>\n",
       "<table border=\"1\" class=\"dataframe\">\n",
       "  <thead>\n",
       "    <tr style=\"text-align: right;\">\n",
       "      <th></th>\n",
       "      <th>baseMean</th>\n",
       "      <th>log2FoldChange</th>\n",
       "      <th>lfcSE</th>\n",
       "      <th>stat</th>\n",
       "      <th>pvalue</th>\n",
       "      <th>padj</th>\n",
       "    </tr>\n",
       "  </thead>\n",
       "  <tbody>\n",
       "    <tr>\n",
       "      <th>ENSMUSG00000000394</th>\n",
       "      <td>338406.987012</td>\n",
       "      <td>2.924096</td>\n",
       "      <td>0.092345</td>\n",
       "      <td>848.511483</td>\n",
       "      <td>1.531699e-186</td>\n",
       "      <td>2.419165e-182</td>\n",
       "    </tr>\n",
       "    <tr>\n",
       "      <th>ENSMUSG00000023944</th>\n",
       "      <td>1336.307294</td>\n",
       "      <td>-1.948810</td>\n",
       "      <td>0.085680</td>\n",
       "      <td>574.353175</td>\n",
       "      <td>6.344396e-127</td>\n",
       "      <td>5.010170e-123</td>\n",
       "    </tr>\n",
       "    <tr>\n",
       "      <th>ENSMUSG00000040856</th>\n",
       "      <td>21.171989</td>\n",
       "      <td>-11.540402</td>\n",
       "      <td>0.489058</td>\n",
       "      <td>424.702760</td>\n",
       "      <td>2.311257e-94</td>\n",
       "      <td>1.216800e-90</td>\n",
       "    </tr>\n",
       "    <tr>\n",
       "      <th>ENSMUSG00000021270</th>\n",
       "      <td>380.144931</td>\n",
       "      <td>-2.526495</td>\n",
       "      <td>0.137592</td>\n",
       "      <td>376.412803</td>\n",
       "      <td>7.515536e-84</td>\n",
       "      <td>2.967509e-80</td>\n",
       "    </tr>\n",
       "    <tr>\n",
       "      <th>ENSMUSG00000027419</th>\n",
       "      <td>4779.955765</td>\n",
       "      <td>1.505738</td>\n",
       "      <td>0.076123</td>\n",
       "      <td>356.010722</td>\n",
       "      <td>2.080899e-79</td>\n",
       "      <td>6.573143e-76</td>\n",
       "    </tr>\n",
       "  </tbody>\n",
       "</table>\n",
       "</div>"
      ],
      "text/plain": [
       "                         baseMean  log2FoldChange     lfcSE        stat  \\\n",
       "ENSMUSG00000000394  338406.987012        2.924096  0.092345  848.511483   \n",
       "ENSMUSG00000023944    1336.307294       -1.948810  0.085680  574.353175   \n",
       "ENSMUSG00000040856      21.171989      -11.540402  0.489058  424.702760   \n",
       "ENSMUSG00000021270     380.144931       -2.526495  0.137592  376.412803   \n",
       "ENSMUSG00000027419    4779.955765        1.505738  0.076123  356.010722   \n",
       "\n",
       "                           pvalue           padj  \n",
       "ENSMUSG00000000394  1.531699e-186  2.419165e-182  \n",
       "ENSMUSG00000023944  6.344396e-127  5.010170e-123  \n",
       "ENSMUSG00000040856   2.311257e-94   1.216800e-90  \n",
       "ENSMUSG00000021270   7.515536e-84   2.967509e-80  \n",
       "ENSMUSG00000027419   2.080899e-79   6.573143e-76  "
      ]
     },
     "metadata": {},
     "output_type": "display_data"
    },
    {
     "data": {
      "text/html": [
       "<div>\n",
       "<style scoped>\n",
       "    .dataframe tbody tr th:only-of-type {\n",
       "        vertical-align: middle;\n",
       "    }\n",
       "\n",
       "    .dataframe tbody tr th {\n",
       "        vertical-align: top;\n",
       "    }\n",
       "\n",
       "    .dataframe thead th {\n",
       "        text-align: right;\n",
       "    }\n",
       "</style>\n",
       "<table border=\"1\" class=\"dataframe\">\n",
       "  <thead>\n",
       "    <tr style=\"text-align: right;\">\n",
       "      <th></th>\n",
       "      <th>Dynamic_model_log_likelihood</th>\n",
       "      <th>Constant_model_log_likelihood</th>\n",
       "      <th>log_likelihood_ratio</th>\n",
       "    </tr>\n",
       "  </thead>\n",
       "  <tbody>\n",
       "    <tr>\n",
       "      <th>ENSMUSG00000000394</th>\n",
       "      <td>-4231.990874</td>\n",
       "      <td>-4451.189403</td>\n",
       "      <td>219.198529</td>\n",
       "    </tr>\n",
       "    <tr>\n",
       "      <th>ENSMUSG00000023944</th>\n",
       "      <td>-2420.093485</td>\n",
       "      <td>-2587.806608</td>\n",
       "      <td>167.713122</td>\n",
       "    </tr>\n",
       "    <tr>\n",
       "      <th>ENSMUSG00000021270</th>\n",
       "      <td>-2124.670688</td>\n",
       "      <td>-2250.920953</td>\n",
       "      <td>126.250265</td>\n",
       "    </tr>\n",
       "    <tr>\n",
       "      <th>ENSMUSG00000040856</th>\n",
       "      <td>-759.272905</td>\n",
       "      <td>-884.484654</td>\n",
       "      <td>125.211750</td>\n",
       "    </tr>\n",
       "    <tr>\n",
       "      <th>ENSMUSG00000027447</th>\n",
       "      <td>-2404.743861</td>\n",
       "      <td>-2526.950594</td>\n",
       "      <td>122.206733</td>\n",
       "    </tr>\n",
       "  </tbody>\n",
       "</table>\n",
       "</div>"
      ],
      "text/plain": [
       "                    Dynamic_model_log_likelihood  \\\n",
       "ENSMUSG00000000394                  -4231.990874   \n",
       "ENSMUSG00000023944                  -2420.093485   \n",
       "ENSMUSG00000021270                  -2124.670688   \n",
       "ENSMUSG00000040856                   -759.272905   \n",
       "ENSMUSG00000027447                  -2404.743861   \n",
       "\n",
       "                    Constant_model_log_likelihood  log_likelihood_ratio  \n",
       "ENSMUSG00000000394                   -4451.189403            219.198529  \n",
       "ENSMUSG00000023944                   -2587.806608            167.713122  \n",
       "ENSMUSG00000021270                   -2250.920953            126.250265  \n",
       "ENSMUSG00000040856                    -884.484654            125.211750  \n",
       "ENSMUSG00000027447                   -2526.950594            122.206733  "
      ]
     },
     "metadata": {},
     "output_type": "display_data"
    },
    {
     "data": {
      "text/html": [
       "<div>\n",
       "<style scoped>\n",
       "    .dataframe tbody tr th:only-of-type {\n",
       "        vertical-align: middle;\n",
       "    }\n",
       "\n",
       "    .dataframe tbody tr th {\n",
       "        vertical-align: top;\n",
       "    }\n",
       "\n",
       "    .dataframe thead th {\n",
       "        text-align: right;\n",
       "    }\n",
       "</style>\n",
       "<table border=\"1\" class=\"dataframe\">\n",
       "  <thead>\n",
       "    <tr style=\"text-align: right;\">\n",
       "      <th></th>\n",
       "      <th>Dynamic_model_log_likelihood</th>\n",
       "      <th>Constant_model_log_likelihood</th>\n",
       "      <th>log_likelihood_ratio</th>\n",
       "    </tr>\n",
       "  </thead>\n",
       "  <tbody>\n",
       "    <tr>\n",
       "      <th>ENSMUSG00000027074</th>\n",
       "      <td>950.245073</td>\n",
       "      <td>-55.321005</td>\n",
       "      <td>1005.566079</td>\n",
       "    </tr>\n",
       "    <tr>\n",
       "      <th>ENSMUSG00000022821</th>\n",
       "      <td>762.541986</td>\n",
       "      <td>-75.123906</td>\n",
       "      <td>837.665892</td>\n",
       "    </tr>\n",
       "    <tr>\n",
       "      <th>ENSMUSG00000032315</th>\n",
       "      <td>611.513734</td>\n",
       "      <td>-18.371102</td>\n",
       "      <td>629.884836</td>\n",
       "    </tr>\n",
       "    <tr>\n",
       "      <th>ENSMUSG00000038151</th>\n",
       "      <td>473.611213</td>\n",
       "      <td>-123.377943</td>\n",
       "      <td>596.989156</td>\n",
       "    </tr>\n",
       "    <tr>\n",
       "      <th>ENSMUSG00000060613</th>\n",
       "      <td>422.814837</td>\n",
       "      <td>-134.169694</td>\n",
       "      <td>556.984531</td>\n",
       "    </tr>\n",
       "  </tbody>\n",
       "</table>\n",
       "</div>"
      ],
      "text/plain": [
       "                    Dynamic_model_log_likelihood  \\\n",
       "ENSMUSG00000027074                    950.245073   \n",
       "ENSMUSG00000022821                    762.541986   \n",
       "ENSMUSG00000032315                    611.513734   \n",
       "ENSMUSG00000038151                    473.611213   \n",
       "ENSMUSG00000060613                    422.814837   \n",
       "\n",
       "                    Constant_model_log_likelihood  log_likelihood_ratio  \n",
       "ENSMUSG00000027074                     -55.321005           1005.566079  \n",
       "ENSMUSG00000022821                     -75.123906            837.665892  \n",
       "ENSMUSG00000032315                     -18.371102            629.884836  \n",
       "ENSMUSG00000038151                    -123.377943            596.989156  \n",
       "ENSMUSG00000060613                    -134.169694            556.984531  "
      ]
     },
     "metadata": {},
     "output_type": "display_data"
    }
   ],
   "source": [
    "DESeq_sorted = DESeq2.sort_values(by=['padj'])\n",
    "display(DESeq_sorted.head())\n",
    "GPcounts_NB_sorted = GPcounts_NB.sort_values(by=['log_likelihood_ratio'], ascending=False)\n",
    "display(GPcounts_NB_sorted.head())\n",
    "GPcounts_G_sorted = GPcounts_G.sort_values(by=['log_likelihood_ratio'], ascending=False)\n",
    "display(GPcounts_G_sorted.head())"
   ]
  },
  {
   "cell_type": "code",
   "execution_count": 9,
   "metadata": {},
   "outputs": [
    {
     "name": "stdout",
     "output_type": "stream",
     "text": [
      "Correlation score at:0.1 of the dataset:\n",
      "NB likelihood 0.918935556907372\n",
      "Gaussian likelihood 0.918935556907372\n",
      "Correlation score at:0.2 of the dataset:\n",
      "NB likelihood 0.9188816337881559\n",
      "Gaussian likelihood 0.9188816337881559\n",
      "Correlation score at:0.30000000000000004 of the dataset:\n",
      "NB likelihood 0.9159717960132727\n",
      "Gaussian likelihood 0.9159717960132727\n",
      "Correlation score at:0.4 of the dataset:\n",
      "NB likelihood 0.9140703823055687\n",
      "Gaussian likelihood 0.9140703823055687\n",
      "Correlation score at:0.5 of the dataset:\n",
      "NB likelihood 0.9063301906062045\n",
      "Gaussian likelihood 0.9063301906062045\n",
      "Correlation score at:0.6000000000000001 of the dataset:\n",
      "NB likelihood 0.906905974022614\n",
      "Gaussian likelihood 0.906905974022614\n",
      "Correlation score at:0.7000000000000001 of the dataset:\n",
      "NB likelihood 0.8882472909213892\n",
      "Gaussian likelihood 0.8882472909213892\n",
      "Correlation score at:0.8 of the dataset:\n",
      "NB likelihood 0.8637321794310125\n",
      "Gaussian likelihood 0.8637321794310125\n",
      "Correlation score at:0.9 of the dataset:\n",
      "NB likelihood 0.8342545011552357\n",
      "Gaussian likelihood 0.8342545011552357\n",
      "Correlation score at:1.0 of the dataset:\n",
      "NB likelihood 0.7972961788027636\n",
      "Gaussian likelihood 0.7972961788027636\n"
     ]
    }
   ],
   "source": [
    "percentage = np.array(list(range(1,11)))\n",
    "percentage = percentage * .10 # cut a percentage from the dataset\n",
    "# index of genes ranked by padj from DESeq2\n",
    "DESeq_index = list(DESeq_sorted.index.values) \n",
    "# index of genes ranked by log likelihood ratio from GPcounts with NB likelihood\n",
    "GPcounts_NB_index = list(GPcounts_NB_sorted.index.values) \n",
    "# index of genes ranked by log likelihood ratio from GPcounts with Gaussian likelihood\n",
    "GPcounts_G_index = list(GPcounts_G_sorted.index.values)\n",
    "\n",
    "corr_NB = [] # correlation score  between DEseq2 rank and GPcounts_NB rank\n",
    "corr_G = [] # correlation score  between DEseq2 rank and GPcounts_Gaussian rank\n",
    "\n",
    "for count in range(10):\n",
    "    print('Correlation score at:'+str(percentage[count])+' of the dataset:')\n",
    "    # cut a percentage from the indexes\n",
    "    DESeq_index_part= DESeq_index[int(len(DESeq_index) * .0) : int(len(DESeq_index) * percentage[count])]\n",
    "    GPcounts_NB_rank_part = []\n",
    "    GPcounts_G_rank_part = []\n",
    "    for i in DESeq_index_part:\n",
    "        # locate gene from DESeq rank in GPcounts rank to correlate ranking\n",
    "        GPcounts_NB_rank_part.append(GPcounts_NB_index.index(i))\n",
    "        GPcounts_G_rank_part.append(GPcounts_G_index.index(i))\n",
    "    \n",
    "    DESeq_rank_part = list(range(0,len(DESeq_index_part)))\n",
    "   \n",
    "    rho, pval = stats.spearmanr(DESeq_rank_part,GPcounts_NB_rank_part)\n",
    "    print('NB likelihood',rho)\n",
    "    corr_NB.append(rho)\n",
    "    \n",
    "    print('Gaussian likelihood',rho)\n",
    "    rho, pval = stats.spearmanr(DESeq_rank_part,GPcounts_G_rank_part)\n",
    "    corr_G.append(rho)\n",
    "   "
   ]
  },
  {
   "cell_type": "markdown",
   "metadata": {},
   "source": [
    "Plot Spearman correlation score with the percentage of the dataset"
   ]
  },
  {
   "cell_type": "code",
   "execution_count": 10,
   "metadata": {},
   "outputs": [
    {
     "data": {
      "image/png": "[encoded data removed]",
      "text/plain": [
       "<Figure size 432x288 with 1 Axes>"
      ]
     },
     "metadata": {
      "needs_background": "light"
     },
     "output_type": "display_data"
    },
    {
     "data": {
      "image/png": "[encoded data removed]",
      "text/plain": [
       "<Figure size 432x288 with 1 Axes>"
      ]
     },
     "metadata": {
      "needs_background": "light"
     },
     "output_type": "display_data"
    }
   ],
   "source": [
    "plt.rcParams.update({'font.size': 13})\n",
    "plt.xticks(percentage*100)\n",
    "plt.ylim(0.,1.)\n",
    "plt.tick_params(labelsize='large', width=2)  \n",
    "\n",
    "plt.scatter(percentage*100,corr_NB,s=30,label = 'NB likelihood')\n",
    "plt.legend(bbox_to_anchor=(.58, 0), loc='lower left', ncol=1)\n",
    "plt.show()\n",
    "\n",
    "plt.xticks(percentage*100)\n",
    "plt.scatter(percentage*100,corr_G,s=30,color = 'darkorange',label = 'Gaussian likelihood')\n",
    "\n",
    "plt.xlabel('percentage of dataset', fontsize=16)\n",
    "plt.ylabel('Spearman correlation', fontsize=16)\n",
    "plt.ylim(0.,1.)\n",
    "plt.tick_params(labelsize='large', width=2)  \n",
    "plt.legend(bbox_to_anchor=(.45, 0), loc='lower left', ncol=1)\n",
    "plt.show()"
   ]
  },
  {
   "cell_type": "code",
   "execution_count": 11,
   "metadata": {},
   "outputs": [
    {
     "name": "stdout",
     "output_type": "stream",
     "text": [
      "Correlation score at:0.1 of the dataset:\n",
      "Gaussian likelihood 0.47361426259239553\n",
      "Correlation score at:0.2 of the dataset:\n",
      "Gaussian likelihood 0.4772717796346006\n",
      "Correlation score at:0.30000000000000004 of the dataset:\n",
      "Gaussian likelihood 0.4859789091548417\n",
      "Correlation score at:0.4 of the dataset:\n",
      "Gaussian likelihood 0.5288351923112701\n",
      "Correlation score at:0.5 of the dataset:\n",
      "Gaussian likelihood 0.5740735516100635\n",
      "Correlation score at:0.6000000000000001 of the dataset:\n",
      "Gaussian likelihood 0.6181543097179112\n",
      "Correlation score at:0.7000000000000001 of the dataset:\n",
      "Gaussian likelihood 0.6447210533676103\n",
      "Correlation score at:0.8 of the dataset:\n",
      "Gaussian likelihood 0.6285885474344675\n",
      "Correlation score at:0.9 of the dataset:\n",
      "Gaussian likelihood 0.6047951209357452\n",
      "Correlation score at:1.0 of the dataset:\n",
      "Gaussian likelihood 0.583646001363148\n"
     ]
    }
   ],
   "source": [
    "percentage = np.array(list(range(1,11)))\n",
    "percentage = percentage * .10 # cut a percentage from the dataset\n",
    "\n",
    "# index of genes ranked by log likelihood ratio from GPcounts with NB likelihood\n",
    "GPcounts_NB_index = list(GPcounts_NB_sorted.index.values) \n",
    "# index of genes ranked by log likelihood ratio from GPcounts with Gaussian likelihood\n",
    "GPcounts_G_index = list(GPcounts_G_sorted.index.values)\n",
    "\n",
    "corr_G = [] # correlation score  between GPcounts_NB rank and GPcounts_Gaussian rank\n",
    "\n",
    "for count in range(10):\n",
    "    print('Correlation score at:'+str(percentage[count])+' of the dataset:')\n",
    "    # cut a percentage from the indexes\n",
    "    GPcounts_NB_index_part= GPcounts_NB_index[int(len(GPcounts_NB_index) * .0) : int(len(GPcounts_NB_index) * percentage[count])]\n",
    "    GPcounts_G_rank_part = []\n",
    "    \n",
    "    for i in GPcounts_NB_index_part:\n",
    "        # locate gene from DESeq rank in GPcounts rank to correlate ranking\n",
    "        GPcounts_G_rank_part.append(GPcounts_G_index.index(i))\n",
    "    \n",
    "    GPcounts_NB_rank_part = list(range(0,len(GPcounts_NB_index_part)))\n",
    "    \n",
    "    rho, pval = stats.spearmanr(GPcounts_NB_rank_part,GPcounts_G_rank_part)\n",
    "    corr_G.append(rho)\n",
    "    print('Gaussian likelihood',rho)"
   ]
  },
  {
   "cell_type": "code",
   "execution_count": 12,
   "metadata": {},
   "outputs": [
    {
     "data": {
      "image/png": "[encoded data removed]",
      "text/plain": [
       "<Figure size 432x288 with 1 Axes>"
      ]
     },
     "metadata": {
      "needs_background": "light"
     },
     "output_type": "display_data"
    }
   ],
   "source": [
    "plt.rcParams.update({'font.size': 13})\n",
    "plt.xticks(percentage*100)\n",
    "plt.scatter(percentage*100,corr_G,s=30,color = 'darkorange',label = 'Gaussian likelihood')\n",
    "\n",
    "plt.xlabel('percentage of dataset', fontsize=16)\n",
    "plt.ylabel('Spearman correlation', fontsize=16)\n",
    "plt.ylim(0.,1.)\n",
    "plt.tick_params(labelsize='large', width=2)\n",
    "plt.legend(bbox_to_anchor=(.45, 0), loc='lower left', ncol=1)\n",
    "plt.show()"
   ]
  },
  {
   "cell_type": "code",
   "execution_count": null,
   "metadata": {},
   "outputs": [],
   "source": []
  }
 ],
 "metadata": {
  "kernelspec": {
   "display_name": "Python [conda env:myenv] *",
   "language": "python",
   "name": "conda-env-myenv-py"
  },
  "language_info": {
   "codemirror_mode": {
    "name": "ipython",
    "version": 3
   },
   "file_extension": ".py",
   "mimetype": "text/x-python",
   "name": "python",
   "nbconvert_exporter": "python",
   "pygments_lexer": "ipython3",
   "version": "3.11.5"
  }
 },
 "nbformat": 4,
 "nbformat_minor": 2
}
