{
 "cells": [
  {
   "cell_type": "code",
   "execution_count": 1,
   "metadata": {},
   "outputs": [
    {
     "ename": "ModuleNotFoundError",
     "evalue": "No module named 'psutil'",
     "output_type": "error",
     "traceback": [
      "\u001b[0;31m---------------------------------------------------------------------------\u001b[0m",
      "\u001b[0;31mModuleNotFoundError\u001b[0m                       Traceback (most recent call last)",
      "\u001b[0;32m/var/folders/kf/ktthtskj4xz6cmggksd1cq3h0000gn/T/ipykernel_2088/2663677919.py\u001b[0m in \u001b[0;36m<module>\u001b[0;34m\u001b[0m\n\u001b[1;32m      1\u001b[0m \u001b[0;32mimport\u001b[0m \u001b[0mtime\u001b[0m\u001b[0;34m\u001b[0m\u001b[0;34m\u001b[0m\u001b[0m\n\u001b[1;32m      2\u001b[0m \u001b[0;32mimport\u001b[0m \u001b[0mos\u001b[0m\u001b[0;34m\u001b[0m\u001b[0;34m\u001b[0m\u001b[0m\n\u001b[0;32m----> 3\u001b[0;31m \u001b[0;32mimport\u001b[0m \u001b[0mpsutil\u001b[0m\u001b[0;34m\u001b[0m\u001b[0;34m\u001b[0m\u001b[0m\n\u001b[0m\u001b[1;32m      4\u001b[0m \u001b[0;32mimport\u001b[0m \u001b[0mdatetime\u001b[0m\u001b[0;34m\u001b[0m\u001b[0;34m\u001b[0m\u001b[0m\n\u001b[1;32m      5\u001b[0m \u001b[0;32mfrom\u001b[0m \u001b[0mmatplotlib\u001b[0m \u001b[0;32mimport\u001b[0m \u001b[0mpyplot\u001b[0m \u001b[0;32mas\u001b[0m \u001b[0mplt\u001b[0m\u001b[0;34m\u001b[0m\u001b[0;34m\u001b[0m\u001b[0m\n",
      "\u001b[0;31mModuleNotFoundError\u001b[0m: No module named 'psutil'"
     ]
    }
   ],
   "source": [
    "import time\n",
    "import os \n",
    "import psutil\n",
    "import datetime\n",
    "from matplotlib import pyplot as plt\n",
    "import numpy as np\n",
    "from sklearn import metrics\n",
    "import pandas as pd\n",
    "from scipy import stats\n",
    "from IPython.display import display\n",
    "import tensorflow as tf\n",
    "import gpflow "
   ]
  },
  {
   "cell_type": "code",
   "execution_count": null,
   "metadata": {},
   "outputs": [],
   "source": [
    "percentages = [1,2,5,10,20,30,40,50,60,70,80,90,100]\n",
    "for i in percentages:\n",
    "    tf.compat.v1.get_default_graph()\n",
    "    tf.compat.v1.set_random_seed(0)\n",
    "    tf.random.set_seed(0)\n",
    "    gpflow.config.set_default_float(np.float64)\n",
    "    %run ./time.py $i\n"
   ]
  },
  {
   "cell_type": "code",
   "execution_count": null,
   "metadata": {},
   "outputs": [],
   "source": [
    "percentages = [2,5,10,20,30,40,50,60,70,80,90,100]\n",
    "time_list = ['00:16:42','00:16:41','00:18:17','00:22:41','00:27:10','00:34:15','00:43:29','00:54:14','1:07:06','1:24:55','1:49:09','2:20:52']\n",
    "minutes= []\n",
    "for i in range(len(time_list)):\n",
    "    x = time.strptime(time_list[i].split(',')[0],'%H:%M:%S')\n",
    "    second = datetime.timedelta(hours=x.tm_hour,minutes=x.tm_min,seconds=x.tm_sec).total_seconds()\n",
    "    minutes.append(second/60.0)\n",
    "    print(minutes[i])"
   ]
  },
  {
   "cell_type": "code",
   "execution_count": null,
   "metadata": {},
   "outputs": [],
   "source": [
    "percentages = [2,5,10,20,30,40,50,60,70,80,90,100]\n",
    "plt.figure(figsize=(9,5))\n",
    "plt.rcParams.update({'font.size': 13})\n",
    "plt.xticks(percentages)\n",
    "plt.scatter(percentages,minutes,s=30,label ='time in minutes')\n",
    "plt.tick_params(labelsize='large', width=2)\n",
    "\n",
    "plt.show()"
   ]
  },
  {
   "cell_type": "code",
   "execution_count": null,
   "metadata": {},
   "outputs": [],
   "source": [
    "GPcounts_NB_full = pd.read_csv('ll_true_100_percentage_Negative_binomial_pseudoT_Index_10.csv',index_col=[0])\n",
    "GPcounts_NB_full_sorted = GPcounts_NB_full.sort_values(by=['log_likelihood_ratio'], ascending=False)"
   ]
  },
  {
   "cell_type": "code",
   "execution_count": null,
   "metadata": {},
   "outputs": [],
   "source": [
    "percentage = np.array(list(range(1,11)))\n",
    "percentage = percentage * .10 # cut a percentage from the dataset\n",
    "percentages = [1,2,5,10]\n",
    "M = [5,10,25,50]\n",
    "counts = 0\n",
    "for dataset in percentages:\n",
    "    print(dataset)\n",
    "    GPcounts_NB = pd.read_csv('ll_true_'+str(dataset)+'_percentage_Negative_binomial_pseudoT_Index_10.csv',index_col=[0])\n",
    "    GPcounts_NB_sorted = GPcounts_NB.sort_values(by=['log_likelihood_ratio'], ascending=False)\n",
    "    print(GPcounts_NB.shape)\n",
    "    GPcounts_NB_index = list(GPcounts_NB_sorted.index.values)\n",
    "    # index of genes ranked by log likelihood ratio from GPcounts with full NB likelihood\n",
    "    GPcounts_NB_full_index = list(GPcounts_NB_full_sorted.index.values) \n",
    "    # index of genes ranked by log likelihood ratio from GPcounts with sparse NB likelihood\n",
    "    GPcounts_NB_index = list(GPcounts_NB_sorted.index.values)\n",
    "\n",
    "    corr_NB = [] # correlation score between GPcounts_NB full rank and GPcounts_NB sparse rank\n",
    "\n",
    "    for count in range(10):\n",
    "        print('Correlation score at:'+str(percentage[count])+' of the dataset:')\n",
    "        # cut a percentage from the indexes\n",
    "        GPcounts_NB_full_index_part= GPcounts_NB_full_index[int(len(GPcounts_NB_full_index) * .0) : int(len(GPcounts_NB_full_index) * percentage[count])]\n",
    "        GPcounts_NB_rank_part = []\n",
    "\n",
    "        for i in GPcounts_NB_full_index_part:\n",
    "            # locate gene from NB full rank in GPcounts sparse rank to correlate ranking\n",
    "            GPcounts_NB_rank_part.append(GPcounts_NB_index.index(i))\n",
    "\n",
    "        GPcounts_NB_full_rank_part = list(range(0,len(GPcounts_NB_full_index_part)))\n",
    "\n",
    "        rho, pval = stats.spearmanr(GPcounts_NB_full_rank_part,GPcounts_NB_rank_part)\n",
    "        corr_NB.append(rho)\n",
    "        print('NB sparse likelihood',rho)\n",
    " \n",
    "    plt.scatter(percentage*100,corr_NB,s=30,label ='M='+str(M[counts])+'='+str(dataset)+'%')\n",
    "    plt.tick_params(labelsize='large', width=2)\n",
    "    plt.ylim(0.0,1.1)\n",
    "    plt.legend(bbox_to_anchor=(.6, .0), loc='lower left', ncol=1)\n",
    "    print(sum(corr_NB))\n",
    "    counts = counts + 1\n",
    "    #plt.legend()\n",
    "plt.show()"
   ]
  },
  {
   "cell_type": "code",
   "execution_count": null,
   "metadata": {},
   "outputs": [],
   "source": []
  }
 ],
 "metadata": {
  "kernelspec": {
   "display_name": "Python [conda env:GPcounts_GPflow] *",
   "language": "python",
   "name": "conda-env-GPcounts_GPflow-py"
  },
  "language_info": {
   "codemirror_mode": {
    "name": "ipython",
    "version": 3
   },
   "file_extension": ".py",
   "mimetype": "text/x-python",
   "name": "python",
   "nbconvert_exporter": "python",
   "pygments_lexer": "ipython3",
   "version": "3.8.12"
  }
 },
 "nbformat": 4,
 "nbformat_minor": 2
}
