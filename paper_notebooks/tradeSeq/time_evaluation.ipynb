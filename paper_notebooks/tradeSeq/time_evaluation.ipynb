{
 "cells": [
  {
   "cell_type": "code",
   "execution_count": 1,
   "metadata": {},
   "outputs": [],
   "source": [
    "import time\n",
    "import os \n",
    "import psutil\n",
    "import datetime\n",
    "from matplotlib import pyplot as plt\n",
    "import numpy as np\n",
    "from sklearn import metrics\n",
    "import pandas as pd\n",
    "from scipy import stats\n",
    "from IPython.display import display\n",
    "import tensorflow as tf\n",
    "import gpflow "
   ]
  },
  {
   "cell_type": "code",
   "execution_count": 2,
   "metadata": {},
   "outputs": [
    {
     "name": "stderr",
     "output_type": "stream",
     "text": [
      "\r",
      "  0%|          | 0/312 [00:00<?, ?it/s]"
     ]
    },
    {
     "name": "stdout",
     "output_type": "stream",
     "text": [
      "1\n"
     ]
    },
    {
     "name": "stderr",
     "output_type": "stream",
     "text": [
      "100%|██████████| 312/312 [16:23<00:00,  3.15s/it]\n",
      "  0%|          | 0/312 [00:00<?, ?it/s]"
     ]
    },
    {
     "name": "stdout",
     "output_type": "stream",
     "text": [
      "2\n"
     ]
    },
    {
     "name": "stderr",
     "output_type": "stream",
     "text": [
      "100%|██████████| 312/312 [16:42<00:00,  3.21s/it]\n",
      "  0%|          | 0/312 [00:00<?, ?it/s]"
     ]
    },
    {
     "name": "stdout",
     "output_type": "stream",
     "text": [
      "5\n"
     ]
    },
    {
     "name": "stderr",
     "output_type": "stream",
     "text": [
      "100%|██████████| 312/312 [16:41<00:00,  3.21s/it]\n",
      "  0%|          | 0/312 [00:00<?, ?it/s]"
     ]
    },
    {
     "name": "stdout",
     "output_type": "stream",
     "text": [
      "10\n"
     ]
    },
    {
     "name": "stderr",
     "output_type": "stream",
     "text": [
      "100%|██████████| 312/312 [18:17<00:00,  3.52s/it]\n",
      "  0%|          | 0/312 [00:00<?, ?it/s]"
     ]
    },
    {
     "name": "stdout",
     "output_type": "stream",
     "text": [
      "20\n"
     ]
    },
    {
     "name": "stderr",
     "output_type": "stream",
     "text": [
      "100%|██████████| 312/312 [22:41<00:00,  4.36s/it]\n",
      "  0%|          | 0/312 [00:00<?, ?it/s]"
     ]
    },
    {
     "name": "stdout",
     "output_type": "stream",
     "text": [
      "30\n"
     ]
    },
    {
     "name": "stderr",
     "output_type": "stream",
     "text": [
      "100%|██████████| 312/312 [27:10<00:00,  5.23s/it]\n",
      "  0%|          | 0/312 [00:00<?, ?it/s]"
     ]
    },
    {
     "name": "stdout",
     "output_type": "stream",
     "text": [
      "40\n"
     ]
    },
    {
     "name": "stderr",
     "output_type": "stream",
     "text": [
      "100%|██████████| 312/312 [34:15<00:00,  6.59s/it]\n",
      "  0%|          | 0/312 [00:00<?, ?it/s]"
     ]
    },
    {
     "name": "stdout",
     "output_type": "stream",
     "text": [
      "50\n"
     ]
    },
    {
     "name": "stderr",
     "output_type": "stream",
     "text": [
      "100%|██████████| 312/312 [43:29<00:00,  8.37s/it] \n",
      "  0%|          | 0/312 [00:00<?, ?it/s]"
     ]
    },
    {
     "name": "stdout",
     "output_type": "stream",
     "text": [
      "60\n"
     ]
    },
    {
     "name": "stderr",
     "output_type": "stream",
     "text": [
      "100%|██████████| 312/312 [54:14<00:00, 10.43s/it] \n",
      "  0%|          | 0/312 [00:00<?, ?it/s]"
     ]
    },
    {
     "name": "stdout",
     "output_type": "stream",
     "text": [
      "70\n"
     ]
    },
    {
     "name": "stderr",
     "output_type": "stream",
     "text": [
      "100%|██████████| 312/312 [1:07:06<00:00, 12.90s/it]\n",
      "  0%|          | 0/312 [00:00<?, ?it/s]"
     ]
    },
    {
     "name": "stdout",
     "output_type": "stream",
     "text": [
      "80\n"
     ]
    },
    {
     "name": "stderr",
     "output_type": "stream",
     "text": [
      "100%|██████████| 312/312 [1:24:55<00:00, 16.33s/it]\n",
      "  0%|          | 0/312 [00:00<?, ?it/s]"
     ]
    },
    {
     "name": "stdout",
     "output_type": "stream",
     "text": [
      "90\n"
     ]
    },
    {
     "name": "stderr",
     "output_type": "stream",
     "text": [
      "100%|██████████| 312/312 [1:49:09<00:00, 20.99s/it]\n",
      "  0%|          | 0/312 [00:00<?, ?it/s]"
     ]
    },
    {
     "name": "stdout",
     "output_type": "stream",
     "text": [
      "100\n"
     ]
    },
    {
     "name": "stderr",
     "output_type": "stream",
     "text": [
      "100%|██████████| 312/312 [2:20:52<00:00, 27.09s/it]  \n"
     ]
    }
   ],
   "source": [
    "percentages = [1,2,5,10,20,30,40,50,60,70,80,90,100]\n",
    "for i in percentages:\n",
    "    tf.compat.v1.get_default_graph()\n",
    "    tf.compat.v1.set_random_seed(0)\n",
    "    tf.random.set_seed(0)\n",
    "    gpflow.config.set_default_float(np.float64)\n",
    "    %run ./time.py $i\n"
   ]
  },
  {
   "cell_type": "code",
   "execution_count": 17,
   "metadata": {},
   "outputs": [
    {
     "name": "stdout",
     "output_type": "stream",
     "text": [
      "16.7\n",
      "16.683333333333334\n",
      "18.283333333333335\n",
      "22.683333333333334\n",
      "27.166666666666668\n",
      "34.25\n",
      "43.483333333333334\n",
      "54.233333333333334\n",
      "67.1\n",
      "84.91666666666667\n",
      "109.15\n",
      "140.86666666666667\n"
     ]
    }
   ],
   "source": [
    "percentages = [2,5,10,20,30,40,50,60,70,80,90,100]\n",
    "time_list = ['00:16:42','00:16:41','00:18:17','00:22:41','00:27:10','00:34:15','00:43:29','00:54:14','1:07:06','1:24:55','1:49:09','2:20:52']\n",
    "minutes= []\n",
    "for i in range(len(time_list)):\n",
    "    x = time.strptime(time_list[i].split(',')[0],'%H:%M:%S')\n",
    "    second = datetime.timedelta(hours=x.tm_hour,minutes=x.tm_min,seconds=x.tm_sec).total_seconds()\n",
    "    minutes.append(second/60.0)\n",
    "    print(minutes[i])"
   ]
  },
  {
   "cell_type": "code",
   "execution_count": 25,
   "metadata": {},
   "outputs": [
    {
     "data": {
      "image/png": "[encoded data removed]",
      "text/plain": [
       "<Figure size 648x360 with 1 Axes>"
      ]
     },
     "metadata": {
      "needs_background": "light"
     },
     "output_type": "display_data"
    }
   ],
   "source": [
    "percentages = [2,5,10,20,30,40,50,60,70,80,90,100]\n",
    "plt.figure(figsize=(9,5))\n",
    "plt.rcParams.update({'font.size': 13})\n",
    "plt.xticks(percentages)\n",
    "plt.scatter(percentages,minutes,s=30,label ='time in minutes')\n",
    "plt.tick_params(labelsize='large', width=2)\n",
    "\n",
    "plt.show()"
   ]
  },
  {
   "cell_type": "code",
   "execution_count": 19,
   "metadata": {},
   "outputs": [],
   "source": [
    "GPcounts_NB_full = pd.read_csv('ll_true_100_percentage_Negative_binomial_pseudoT_Index_10.csv',index_col=[0])\n",
    "GPcounts_NB_full_sorted = GPcounts_NB_full.sort_values(by=['log_likelihood_ratio'], ascending=False)"
   ]
  },
  {
   "cell_type": "code",
   "execution_count": 20,
   "metadata": {},
   "outputs": [
    {
     "name": "stdout",
     "output_type": "stream",
     "text": [
      "1\n",
      "(312, 3)\n",
      "Correlation score at:0.1 of the dataset:\n",
      "NB sparse likelihood 0.3463709677419355\n",
      "Correlation score at:0.2 of the dataset:\n",
      "NB sparse likelihood 0.37150915363501297\n",
      "Correlation score at:0.30000000000000004 of the dataset:\n",
      "NB sparse likelihood 0.43620005371370585\n",
      "Correlation score at:0.4 of the dataset:\n",
      "NB sparse likelihood 0.47381904012588516\n",
      "Correlation score at:0.5 of the dataset:\n",
      "NB sparse likelihood 0.4865704667225111\n",
      "Correlation score at:0.6000000000000001 of the dataset:\n",
      "NB sparse likelihood 0.5367835160519565\n",
      "Correlation score at:0.7000000000000001 of the dataset:\n",
      "NB sparse likelihood 0.5837974736327576\n",
      "Correlation score at:0.8 of the dataset:\n",
      "NB sparse likelihood 0.6057551496307813\n",
      "Correlation score at:0.9 of the dataset:\n",
      "NB sparse likelihood 0.6155708983168517\n",
      "Correlation score at:1.0 of the dataset:\n",
      "NB sparse likelihood 0.6117780188848474\n",
      "5.068154738456245\n",
      "2\n",
      "(312, 3)\n",
      "Correlation score at:0.1 of the dataset:\n",
      "NB sparse likelihood 0.9665322580645164\n",
      "Correlation score at:0.2 of the dataset:\n",
      "NB sparse likelihood 0.9836821031955884\n",
      "Correlation score at:0.30000000000000004 of the dataset:\n",
      "NB sparse likelihood 0.9936737190773177\n",
      "Correlation score at:0.4 of the dataset:\n",
      "NB sparse likelihood 0.992107002360346\n",
      "Correlation score at:0.5 of the dataset:\n",
      "NB sparse likelihood 0.990940557285328\n",
      "Correlation score at:0.6000000000000001 of the dataset:\n",
      "NB sparse likelihood 0.9893470210196764\n",
      "Correlation score at:0.7000000000000001 of the dataset:\n",
      "NB sparse likelihood 0.982649830395982\n",
      "Correlation score at:0.8 of the dataset:\n",
      "NB sparse likelihood 0.967678196657598\n",
      "Correlation score at:0.9 of the dataset:\n",
      "NB sparse likelihood 0.9448715635950167\n",
      "Correlation score at:1.0 of the dataset:\n",
      "NB sparse likelihood 0.9446517034530554\n",
      "9.756133955104424\n",
      "5\n",
      "(312, 3)\n",
      "Correlation score at:0.1 of the dataset:\n",
      "NB sparse likelihood 0.9987903225806452\n",
      "Correlation score at:0.2 of the dataset:\n",
      "NB sparse likelihood 0.9997481806048701\n",
      "Correlation score at:0.30000000000000004 of the dataset:\n",
      "NB sparse likelihood 0.9999253976306286\n",
      "Correlation score at:0.4 of the dataset:\n",
      "NB sparse likelihood 0.9998237608182532\n",
      "Correlation score at:0.5 of the dataset:\n",
      "NB sparse likelihood 0.9999114918367022\n",
      "Correlation score at:0.6000000000000001 of the dataset:\n",
      "NB sparse likelihood 0.9993209987557762\n",
      "Correlation score at:0.7000000000000001 of the dataset:\n",
      "NB sparse likelihood 0.9933837927246043\n",
      "Correlation score at:0.8 of the dataset:\n",
      "NB sparse likelihood 0.9808169452001554\n",
      "Correlation score at:0.9 of the dataset:\n",
      "NB sparse likelihood 0.959825289316737\n",
      "Correlation score at:1.0 of the dataset:\n",
      "NB sparse likelihood 0.9665066193373314\n",
      "9.898052798805702\n",
      "10\n",
      "(312, 3)\n",
      "Correlation score at:0.1 of the dataset:\n",
      "NB sparse likelihood 1.0\n",
      "Correlation score at:0.2 of the dataset:\n",
      "NB sparse likelihood 1.0\n",
      "Correlation score at:0.30000000000000004 of the dataset:\n",
      "NB sparse likelihood 0.9999999999999999\n",
      "Correlation score at:0.4 of the dataset:\n",
      "NB sparse likelihood 0.9999055861526356\n",
      "Correlation score at:0.5 of the dataset:\n",
      "NB sparse likelihood 0.999952584912519\n",
      "Correlation score at:0.6000000000000001 of the dataset:\n",
      "NB sparse likelihood 0.9993650420797258\n",
      "Correlation score at:0.7000000000000001 of the dataset:\n",
      "NB sparse likelihood 0.9920980801763395\n",
      "Correlation score at:0.8 of the dataset:\n",
      "NB sparse likelihood 0.9757940147687525\n",
      "Correlation score at:0.9 of the dataset:\n",
      "NB sparse likelihood 0.9511455138822834\n",
      "Correlation score at:1.0 of the dataset:\n",
      "NB sparse likelihood 0.9606601241130689\n",
      "9.878920946085325\n"
     ]
    },
    {
     "data": {
      "image/png": "[encoded data removed]",
      "text/plain": [
       "<Figure size 432x288 with 1 Axes>"
      ]
     },
     "metadata": {
      "needs_background": "light"
     },
     "output_type": "display_data"
    }
   ],
   "source": [
    "percentage = np.array(list(range(1,11)))\n",
    "percentage = percentage * .10 # cut a percentage from the dataset\n",
    "percentages = [1,2,5,10]\n",
    "M = [5,10,25,50]\n",
    "counts = 0\n",
    "for dataset in percentages:\n",
    "    print(dataset)\n",
    "    GPcounts_NB = pd.read_csv('ll_true_'+str(dataset)+'_percentage_Negative_binomial_pseudoT_Index_10.csv',index_col=[0])\n",
    "    GPcounts_NB_sorted = GPcounts_NB.sort_values(by=['log_likelihood_ratio'], ascending=False)\n",
    "    print(GPcounts_NB.shape)\n",
    "    GPcounts_NB_index = list(GPcounts_NB_sorted.index.values)\n",
    "    # index of genes ranked by log likelihood ratio from GPcounts with full NB likelihood\n",
    "    GPcounts_NB_full_index = list(GPcounts_NB_full_sorted.index.values) \n",
    "    # index of genes ranked by log likelihood ratio from GPcounts with sparse NB likelihood\n",
    "    GPcounts_NB_index = list(GPcounts_NB_sorted.index.values)\n",
    "\n",
    "    corr_NB = [] # correlation score between GPcounts_NB full rank and GPcounts_NB sparse rank\n",
    "\n",
    "    for count in range(10):\n",
    "        print('Correlation score at:'+str(percentage[count])+' of the dataset:')\n",
    "        # cut a percentage from the indexes\n",
    "        GPcounts_NB_full_index_part= GPcounts_NB_full_index[int(len(GPcounts_NB_full_index) * .0) : int(len(GPcounts_NB_full_index) * percentage[count])]\n",
    "        GPcounts_NB_rank_part = []\n",
    "\n",
    "        for i in GPcounts_NB_full_index_part:\n",
    "            # locate gene from NB full rank in GPcounts sparse rank to correlate ranking\n",
    "            GPcounts_NB_rank_part.append(GPcounts_NB_index.index(i))\n",
    "\n",
    "        GPcounts_NB_full_rank_part = list(range(0,len(GPcounts_NB_full_index_part)))\n",
    "\n",
    "        rho, pval = stats.spearmanr(GPcounts_NB_full_rank_part,GPcounts_NB_rank_part)\n",
    "        corr_NB.append(rho)\n",
    "        print('NB sparse likelihood',rho)\n",
    " \n",
    "    plt.scatter(percentage*100,corr_NB,s=30,label ='M='+str(M[counts])+'='+str(dataset)+'%')\n",
    "    plt.tick_params(labelsize='large', width=2)\n",
    "    plt.ylim(0.0,1.1)\n",
    "    plt.legend(bbox_to_anchor=(.6, .0), loc='lower left', ncol=1)\n",
    "    print(sum(corr_NB))\n",
    "    counts = counts + 1\n",
    "    #plt.legend()\n",
    "plt.show()"
   ]
  },
  {
   "cell_type": "code",
   "execution_count": null,
   "metadata": {},
   "outputs": [],
   "source": []
  }
 ],
 "metadata": {
  "kernelspec": {
   "display_name": "Python [conda env:myenv2] *",
   "language": "python",
   "name": "conda-env-myenv2-py"
  },
  "language_info": {
   "codemirror_mode": {
    "name": "ipython",
    "version": 3
   },
   "file_extension": ".py",
   "mimetype": "text/x-python",
   "name": "python",
   "nbconvert_exporter": "python",
   "pygments_lexer": "ipython3",
   "version": "3.7.8"
  }
 },
 "nbformat": 4,
 "nbformat_minor": 2
}
