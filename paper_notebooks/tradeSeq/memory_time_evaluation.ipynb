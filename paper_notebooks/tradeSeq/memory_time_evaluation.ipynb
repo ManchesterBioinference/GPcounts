{
 "cells": [
  {
   "cell_type": "code",
   "execution_count": 1,
   "metadata": {},
   "outputs": [],
   "source": [
    "import time\n",
    "import os \n",
    "import psutil\n",
    "import datetime\n",
    "from matplotlib import pyplot as plt\n",
    "import numpy as np\n",
    "from sklearn import metrics\n",
    "import pandas as pd\n",
    "from scipy import stats\n",
    "from IPython.display import display"
   ]
  },
  {
   "cell_type": "code",
   "execution_count": 2,
   "metadata": {},
   "outputs": [
    {
     "name": "stdout",
     "output_type": "stream",
     "text": [
      "10838016\n",
      "100\n"
     ]
    },
    {
     "name": "stderr",
     "output_type": "stream",
     "text": [
      "100%|██████████| 312/312 [1:35:57<00:00, 18.45s/it]"
     ]
    },
    {
     "name": "stdout",
     "output_type": "stream",
     "text": [
      "433274880\n",
      "422436864\n"
     ]
    },
    {
     "name": "stderr",
     "output_type": "stream",
     "text": [
      "\n"
     ]
    }
   ],
   "source": [
    "pid = os.getpid()\n",
    "process = psutil.Process(pid)\n",
    "mem_before = process.memory_info().rss \n",
    "print(mem_before)\n",
    "%run ./memory_time.py 100\n",
    "mem_after = process.memory_info().rss\n",
    "print(mem_after)\n",
    "mem = mem_after - mem_before\n",
    "print(mem)"
   ]
  },
  {
   "cell_type": "code",
   "execution_count": 3,
   "metadata": {},
   "outputs": [
    {
     "name": "stderr",
     "output_type": "stream",
     "text": [
      "\r",
      "  0%|          | 0/312 [00:00<?, ?it/s]"
     ]
    },
    {
     "name": "stdout",
     "output_type": "stream",
     "text": [
      "90\n"
     ]
    },
    {
     "name": "stderr",
     "output_type": "stream",
     "text": [
      "100%|██████████| 312/312 [1:45:30<00:00, 20.29s/it]"
     ]
    },
    {
     "name": "stdout",
     "output_type": "stream",
     "text": [
      "90419200\n"
     ]
    },
    {
     "name": "stderr",
     "output_type": "stream",
     "text": [
      "\n"
     ]
    }
   ],
   "source": [
    "#per = [1,90,80,70,60,50,40,30,20,10,5]\n",
    "#for i in range(len(per)):\n",
    "#    print(per[i])\n",
    "pid = os.getpid()\n",
    "process = psutil.Process(pid)\n",
    "mem_before = process.memory_info().rss \n",
    "#print(mem_before)\n",
    "%run ./memory_time.py 90\n",
    "mem_after = process.memory_info().rss\n",
    "#print(mem_after)\n",
    "mem = mem_after - mem_before\n",
    "print(mem)"
   ]
  },
  {
   "cell_type": "code",
   "execution_count": 4,
   "metadata": {},
   "outputs": [
    {
     "name": "stderr",
     "output_type": "stream",
     "text": [
      "\r",
      "  0%|          | 0/312 [00:00<?, ?it/s]"
     ]
    },
    {
     "name": "stdout",
     "output_type": "stream",
     "text": [
      "80\n"
     ]
    },
    {
     "name": "stderr",
     "output_type": "stream",
     "text": [
      "100%|██████████| 312/312 [1:25:42<00:00, 16.48s/it]"
     ]
    },
    {
     "name": "stdout",
     "output_type": "stream",
     "text": [
      "13697024\n"
     ]
    },
    {
     "name": "stderr",
     "output_type": "stream",
     "text": [
      "\n"
     ]
    }
   ],
   "source": [
    "pid = os.getpid()\n",
    "process = psutil.Process(pid)\n",
    "mem_before = process.memory_info().rss \n",
    "#print(mem_before)\n",
    "%run ./memory_time.py 80\n",
    "mem_after = process.memory_info().rss\n",
    "#print(mem_after)\n",
    "mem = mem_after - mem_before\n",
    "print(mem)"
   ]
  },
  {
   "cell_type": "code",
   "execution_count": 5,
   "metadata": {},
   "outputs": [
    {
     "name": "stderr",
     "output_type": "stream",
     "text": [
      "\r",
      "  0%|          | 0/312 [00:00<?, ?it/s]"
     ]
    },
    {
     "name": "stdout",
     "output_type": "stream",
     "text": [
      "70\n"
     ]
    },
    {
     "name": "stderr",
     "output_type": "stream",
     "text": [
      "100%|██████████| 312/312 [1:33:04<00:00, 17.90s/it]"
     ]
    },
    {
     "name": "stdout",
     "output_type": "stream",
     "text": [
      "24260608\n"
     ]
    },
    {
     "name": "stderr",
     "output_type": "stream",
     "text": [
      "\n"
     ]
    }
   ],
   "source": [
    "pid = os.getpid()\n",
    "process = psutil.Process(pid)\n",
    "mem_before = process.memory_info().rss \n",
    "#print(mem_before)\n",
    "%run ./memory_time.py 70\n",
    "mem_after = process.memory_info().rss\n",
    "#print(mem_after)\n",
    "mem = mem_after - mem_before\n",
    "print(mem)"
   ]
  },
  {
   "cell_type": "code",
   "execution_count": 6,
   "metadata": {},
   "outputs": [
    {
     "name": "stderr",
     "output_type": "stream",
     "text": [
      "\r",
      "  0%|          | 0/312 [00:00<?, ?it/s]"
     ]
    },
    {
     "name": "stdout",
     "output_type": "stream",
     "text": [
      "60\n"
     ]
    },
    {
     "name": "stderr",
     "output_type": "stream",
     "text": [
      "100%|██████████| 312/312 [1:09:25<00:00, 13.35s/it]"
     ]
    },
    {
     "name": "stdout",
     "output_type": "stream",
     "text": [
      "27238400\n"
     ]
    },
    {
     "name": "stderr",
     "output_type": "stream",
     "text": [
      "\n"
     ]
    }
   ],
   "source": [
    "pid = os.getpid()\n",
    "process = psutil.Process(pid)\n",
    "mem_before = process.memory_info().rss \n",
    "#print(mem_before)\n",
    "%run ./memory_time.py 60\n",
    "mem_after = process.memory_info().rss\n",
    "#print(mem_after)\n",
    "mem = mem_after - mem_before\n",
    "print(mem)"
   ]
  },
  {
   "cell_type": "code",
   "execution_count": 7,
   "metadata": {},
   "outputs": [
    {
     "name": "stderr",
     "output_type": "stream",
     "text": [
      "\r",
      "  0%|          | 0/312 [00:00<?, ?it/s]"
     ]
    },
    {
     "name": "stdout",
     "output_type": "stream",
     "text": [
      "50\n"
     ]
    },
    {
     "name": "stderr",
     "output_type": "stream",
     "text": [
      "100%|██████████| 312/312 [49:24<00:00,  9.50s/it] "
     ]
    },
    {
     "name": "stdout",
     "output_type": "stream",
     "text": [
      "18452480\n"
     ]
    },
    {
     "name": "stderr",
     "output_type": "stream",
     "text": [
      "\n"
     ]
    }
   ],
   "source": [
    "pid = os.getpid()\n",
    "process = psutil.Process(pid)\n",
    "mem_before = process.memory_info().rss \n",
    "#print(mem_before)\n",
    "%run ./memory_time.py 50\n",
    "mem_after = process.memory_info().rss\n",
    "#print(mem_after)\n",
    "mem = mem_after - mem_before\n",
    "print(mem)"
   ]
  },
  {
   "cell_type": "code",
   "execution_count": 8,
   "metadata": {},
   "outputs": [
    {
     "name": "stderr",
     "output_type": "stream",
     "text": [
      "\r",
      "  0%|          | 0/312 [00:00<?, ?it/s]"
     ]
    },
    {
     "name": "stdout",
     "output_type": "stream",
     "text": [
      "40\n"
     ]
    },
    {
     "name": "stderr",
     "output_type": "stream",
     "text": [
      "100%|██████████| 312/312 [44:49<00:00,  8.62s/it]"
     ]
    },
    {
     "name": "stdout",
     "output_type": "stream",
     "text": [
      "17518592\n"
     ]
    },
    {
     "name": "stderr",
     "output_type": "stream",
     "text": [
      "\n"
     ]
    }
   ],
   "source": [
    "pid = os.getpid()\n",
    "process = psutil.Process(pid)\n",
    "mem_before = process.memory_info().rss \n",
    "#print(mem_before)\n",
    "%run ./memory_time.py 40\n",
    "mem_after = process.memory_info().rss\n",
    "#print(mem_after)\n",
    "mem = mem_after - mem_before\n",
    "print(mem)"
   ]
  },
  {
   "cell_type": "code",
   "execution_count": 9,
   "metadata": {},
   "outputs": [
    {
     "name": "stderr",
     "output_type": "stream",
     "text": [
      "\r",
      "  0%|          | 0/312 [00:00<?, ?it/s]"
     ]
    },
    {
     "name": "stdout",
     "output_type": "stream",
     "text": [
      "30\n"
     ]
    },
    {
     "name": "stderr",
     "output_type": "stream",
     "text": [
      "100%|██████████| 312/312 [44:32<00:00,  8.56s/it] "
     ]
    },
    {
     "name": "stdout",
     "output_type": "stream",
     "text": [
      "14651392\n"
     ]
    },
    {
     "name": "stderr",
     "output_type": "stream",
     "text": [
      "\n"
     ]
    }
   ],
   "source": [
    "pid = os.getpid()\n",
    "process = psutil.Process(pid)\n",
    "mem_before = process.memory_info().rss \n",
    "#print(mem_before)\n",
    "%run ./memory_time.py 30\n",
    "mem_after = process.memory_info().rss\n",
    "#print(mem_after)\n",
    "mem = mem_after - mem_before\n",
    "print(mem)"
   ]
  },
  {
   "cell_type": "code",
   "execution_count": 10,
   "metadata": {},
   "outputs": [
    {
     "name": "stderr",
     "output_type": "stream",
     "text": [
      "\r",
      "  0%|          | 0/312 [00:00<?, ?it/s]"
     ]
    },
    {
     "name": "stdout",
     "output_type": "stream",
     "text": [
      "20\n"
     ]
    },
    {
     "name": "stderr",
     "output_type": "stream",
     "text": [
      "100%|██████████| 312/312 [23:50<00:00,  4.58s/it]"
     ]
    },
    {
     "name": "stdout",
     "output_type": "stream",
     "text": [
      "36335616\n"
     ]
    },
    {
     "name": "stderr",
     "output_type": "stream",
     "text": [
      "\n"
     ]
    }
   ],
   "source": [
    "pid = os.getpid()\n",
    "process = psutil.Process(pid)\n",
    "mem_before = process.memory_info().rss \n",
    "#print(mem_before)\n",
    "%run ./memory_time.py 20\n",
    "mem_after = process.memory_info().rss\n",
    "#print(mem_after)\n",
    "mem = mem_after - mem_before\n",
    "print(mem)"
   ]
  },
  {
   "cell_type": "code",
   "execution_count": 11,
   "metadata": {},
   "outputs": [
    {
     "name": "stderr",
     "output_type": "stream",
     "text": [
      "\r",
      "  0%|          | 0/312 [00:00<?, ?it/s]"
     ]
    },
    {
     "name": "stdout",
     "output_type": "stream",
     "text": [
      "10\n"
     ]
    },
    {
     "name": "stderr",
     "output_type": "stream",
     "text": [
      "100%|██████████| 312/312 [18:44<00:00,  3.60s/it]"
     ]
    },
    {
     "name": "stdout",
     "output_type": "stream",
     "text": [
      "35205120\n"
     ]
    },
    {
     "name": "stderr",
     "output_type": "stream",
     "text": [
      "\n"
     ]
    }
   ],
   "source": [
    "pid = os.getpid()\n",
    "process = psutil.Process(pid)\n",
    "mem_before = process.memory_info().rss \n",
    "#print(mem_before)\n",
    "%run ./memory_time.py 10\n",
    "mem_after = process.memory_info().rss\n",
    "#print(mem_after)\n",
    "mem = mem_after - mem_before\n",
    "print(mem)"
   ]
  },
  {
   "cell_type": "code",
   "execution_count": 4,
   "metadata": {},
   "outputs": [
    {
     "name": "stderr",
     "output_type": "stream",
     "text": [
      "\r",
      "  0%|          | 0/312 [00:00<?, ?it/s]"
     ]
    },
    {
     "name": "stdout",
     "output_type": "stream",
     "text": [
      "5\n"
     ]
    },
    {
     "name": "stderr",
     "output_type": "stream",
     "text": [
      "100%|██████████| 312/312 [17:04<00:00,  3.28s/it]"
     ]
    },
    {
     "name": "stdout",
     "output_type": "stream",
     "text": [
      "149102592\n"
     ]
    },
    {
     "name": "stderr",
     "output_type": "stream",
     "text": [
      "\n"
     ]
    }
   ],
   "source": [
    "pid = os.getpid()\n",
    "process = psutil.Process(pid)\n",
    "mem_before = process.memory_info().rss \n",
    "#print(mem_before)\n",
    "%run ./memory_time.py 5\n",
    "mem_after = process.memory_info().rss\n",
    "#print(mem_after)\n",
    "mem = mem_after - mem_before\n",
    "print(mem)"
   ]
  },
  {
   "cell_type": "code",
   "execution_count": 5,
   "metadata": {},
   "outputs": [
    {
     "name": "stdout",
     "output_type": "stream",
     "text": [
      "17.166666666666668\n",
      "23.375\n",
      "18.733333333333334\n",
      "33.57421875\n",
      "23.833333333333332\n",
      "34.65234375\n",
      "44.53333333333333\n",
      "13.97265625\n",
      "44.81666666666667\n",
      "16.70703125\n",
      "49.4\n",
      "17.59765625\n",
      "69.41666666666667\n",
      "25.9765625\n",
      "93.06666666666666\n",
      "23.13671875\n",
      "85.7\n",
      "13.0625\n",
      "105.5\n",
      "86.23046875\n",
      "95.95\n",
      "402.8671875\n"
     ]
    }
   ],
   "source": [
    "percentages = [5,10,20,30,40,50,60,70,80,90,100]\n",
    "memory_list = [24510464,35205120,36335616,14651392,17518592,18452480,27238400,24260608,13697024,90419200,422436864]\n",
    "time_list = ['00:17:10','00:18:44','00:23:50','00:44:32','00:44:49','00:49:24','1:09:25','1:33:04','1:25:42','1:45:30','1:35:57']\n",
    "minutes= []\n",
    "mega_bytes = [] \n",
    "for i in range(len(time_list)):\n",
    "    x = time.strptime(time_list[i].split(',')[0],'%H:%M:%S')\n",
    "    second = datetime.timedelta(hours=x.tm_hour,minutes=x.tm_min,seconds=x.tm_sec).total_seconds()\n",
    "    minutes.append(second/60.0)\n",
    "    print(minutes[i])\n",
    "    mega_bytes.append(memory_list[i]/1024.0/1024.0)\n",
    "    print(mega_bytes[i])\n"
   ]
  },
  {
   "cell_type": "code",
   "execution_count": 6,
   "metadata": {},
   "outputs": [
    {
     "data": {
      "image/png": "[encoded data removed]",
      "text/plain": [
       "<Figure size 432x288 with 1 Axes>"
      ]
     },
     "metadata": {
      "needs_background": "light"
     },
     "output_type": "display_data"
    }
   ],
   "source": [
    "percentages = [5,10,20,30,40,50,60,70,80,90,100]\n",
    "plt.rcParams.update({'font.size': 13})\n",
    "plt.xticks(percentages)\n",
    "plt.scatter(percentages,minutes,s=30,label ='time in minutes')\n",
    "#plt.scatter(percentages,mega_bytes,s=30,label ='memory in Megabytes')\n",
    "#plt.ylim(0.,1.)\n",
    "plt.legend(bbox_to_anchor=(1., 0), loc='lower left', ncol=1)\n",
    "plt.tick_params(labelsize='large', width=2)\n",
    "\n",
    "plt.show()"
   ]
  },
  {
   "cell_type": "code",
   "execution_count": 7,
   "metadata": {},
   "outputs": [
    {
     "data": {
      "image/png": "[encoded data removed]",
      "text/plain": [
       "<Figure size 432x288 with 1 Axes>"
      ]
     },
     "metadata": {
      "needs_background": "light"
     },
     "output_type": "display_data"
    }
   ],
   "source": [
    "plt.rcParams.update({'font.size': 13})\n",
    "plt.xticks(percentages)\n",
    "plt.scatter(percentages,mega_bytes,s=30,label ='memory in Megabytes')\n",
    "plt.legend(bbox_to_anchor=(.05, .85), loc='lower left', ncol=1)\n",
    "plt.tick_params(labelsize='large', width=2)\n",
    "plt.show()"
   ]
  },
  {
   "cell_type": "code",
   "execution_count": 12,
   "metadata": {},
   "outputs": [
    {
     "name": "stdout",
     "output_type": "stream",
     "text": [
      "(312, 3)\n"
     ]
    }
   ],
   "source": [
    "GPcounts_NB_full = pd.read_csv('ll_true_100_percentage_Negative_binomial_pseudoT_Index_10.csv',index_col=[0])\n",
    "GPcounts_NB_full_sorted = GPcounts_NB_full.sort_values(by=['log_likelihood_ratio'], ascending=False)\n",
    "print(GPcounts_NB_full.shape)"
   ]
  },
  {
   "cell_type": "code",
   "execution_count": 13,
   "metadata": {},
   "outputs": [
    {
     "name": "stdout",
     "output_type": "stream",
     "text": [
      "(312, 3)\n",
      "Correlation score at:0.1 of the dataset:\n",
      "NB sparse likelihood 0.9987903225806452\n",
      "Correlation score at:0.2 of the dataset:\n",
      "NB sparse likelihood 0.9997481806048701\n",
      "Correlation score at:0.30000000000000004 of the dataset:\n",
      "NB sparse likelihood 0.9999253976306286\n",
      "Correlation score at:0.4 of the dataset:\n",
      "NB sparse likelihood 0.9998237608182532\n",
      "Correlation score at:0.5 of the dataset:\n",
      "NB sparse likelihood 0.9999114918367022\n",
      "Correlation score at:0.6000000000000001 of the dataset:\n",
      "NB sparse likelihood 0.9993209987557762\n",
      "Correlation score at:0.7000000000000001 of the dataset:\n",
      "NB sparse likelihood 0.9933837927246043\n",
      "Correlation score at:0.8 of the dataset:\n",
      "NB sparse likelihood 0.9808169452001554\n",
      "Correlation score at:0.9 of the dataset:\n",
      "NB sparse likelihood 0.959825289316737\n",
      "Correlation score at:1.0 of the dataset:\n",
      "NB sparse likelihood 0.9665066193373314\n",
      "(312, 3)\n",
      "Correlation score at:0.1 of the dataset:\n",
      "NB sparse likelihood 1.0\n",
      "Correlation score at:0.2 of the dataset:\n",
      "NB sparse likelihood 1.0\n",
      "Correlation score at:0.30000000000000004 of the dataset:\n",
      "NB sparse likelihood 0.9999999999999999\n",
      "Correlation score at:0.4 of the dataset:\n",
      "NB sparse likelihood 0.9999055861526356\n",
      "Correlation score at:0.5 of the dataset:\n",
      "NB sparse likelihood 0.999952584912519\n",
      "Correlation score at:0.6000000000000001 of the dataset:\n",
      "NB sparse likelihood 0.9993650420797258\n",
      "Correlation score at:0.7000000000000001 of the dataset:\n",
      "NB sparse likelihood 0.9920980801763395\n",
      "Correlation score at:0.8 of the dataset:\n",
      "NB sparse likelihood 0.9757940147687525\n",
      "Correlation score at:0.9 of the dataset:\n",
      "NB sparse likelihood 0.9511455138822834\n",
      "Correlation score at:1.0 of the dataset:\n",
      "NB sparse likelihood 0.9606601241130689\n",
      "(312, 3)\n",
      "Correlation score at:0.1 of the dataset:\n",
      "NB sparse likelihood 1.0\n",
      "Correlation score at:0.2 of the dataset:\n",
      "NB sparse likelihood 1.0\n",
      "Correlation score at:0.30000000000000004 of the dataset:\n",
      "NB sparse likelihood 0.9999999999999999\n",
      "Correlation score at:0.4 of the dataset:\n",
      "NB sparse likelihood 0.9999055861526356\n",
      "Correlation score at:0.5 of the dataset:\n",
      "NB sparse likelihood 0.999952584912519\n",
      "Correlation score at:0.6000000000000001 of the dataset:\n",
      "NB sparse likelihood 0.999438447619642\n",
      "Correlation score at:0.7000000000000001 of the dataset:\n",
      "NB sparse likelihood 0.9937984639789097\n",
      "Correlation score at:0.8 of the dataset:\n",
      "NB sparse likelihood 0.9785930820054412\n",
      "Correlation score at:0.9 of the dataset:\n",
      "NB sparse likelihood 0.9581202748577332\n",
      "Correlation score at:1.0 of the dataset:\n",
      "NB sparse likelihood 0.9693099499865266\n",
      "(312, 3)\n",
      "Correlation score at:0.1 of the dataset:\n",
      "NB sparse likelihood 1.0\n",
      "Correlation score at:0.2 of the dataset:\n",
      "NB sparse likelihood 1.0\n",
      "Correlation score at:0.30000000000000004 of the dataset:\n",
      "NB sparse likelihood 0.9999999999999999\n",
      "Correlation score at:0.4 of the dataset:\n",
      "NB sparse likelihood 0.9999055861526356\n",
      "Correlation score at:0.5 of the dataset:\n",
      "NB sparse likelihood 0.999952584912519\n",
      "Correlation score at:0.6000000000000001 of the dataset:\n",
      "NB sparse likelihood 0.9992494283543579\n",
      "Correlation score at:0.7000000000000001 of the dataset:\n",
      "NB sparse likelihood 0.993184565194603\n",
      "Correlation score at:0.8 of the dataset:\n",
      "NB sparse likelihood 0.9799603575592694\n",
      "Correlation score at:0.9 of the dataset:\n",
      "NB sparse likelihood 0.9608240265455281\n",
      "Correlation score at:1.0 of the dataset:\n",
      "NB sparse likelihood 0.9713246339865614\n",
      "(312, 3)\n",
      "Correlation score at:0.1 of the dataset:\n",
      "NB sparse likelihood 1.0\n",
      "Correlation score at:0.2 of the dataset:\n",
      "NB sparse likelihood 1.0\n",
      "Correlation score at:0.30000000000000004 of the dataset:\n",
      "NB sparse likelihood 0.9999999999999999\n",
      "Correlation score at:0.4 of the dataset:\n",
      "NB sparse likelihood 0.9999055861526356\n",
      "Correlation score at:0.5 of the dataset:\n",
      "NB sparse likelihood 0.999952584912519\n",
      "Correlation score at:0.6000000000000001 of the dataset:\n",
      "NB sparse likelihood 0.9994017448496838\n",
      "Correlation score at:0.7000000000000001 of the dataset:\n",
      "NB sparse likelihood 0.9915212469790097\n",
      "Correlation score at:0.8 of the dataset:\n",
      "NB sparse likelihood 0.9741453556160125\n",
      "Correlation score at:0.9 of the dataset:\n",
      "NB sparse likelihood 0.9519124697290235\n",
      "Correlation score at:1.0 of the dataset:\n",
      "NB sparse likelihood 0.9638241934349513\n",
      "(312, 3)\n",
      "Correlation score at:0.1 of the dataset:\n",
      "NB sparse likelihood 1.0\n",
      "Correlation score at:0.2 of the dataset:\n",
      "NB sparse likelihood 1.0\n",
      "Correlation score at:0.30000000000000004 of the dataset:\n",
      "NB sparse likelihood 0.9999999999999999\n",
      "Correlation score at:0.4 of the dataset:\n",
      "NB sparse likelihood 0.9999055861526356\n",
      "Correlation score at:0.5 of the dataset:\n",
      "NB sparse likelihood 0.999952584912519\n",
      "Correlation score at:0.6000000000000001 of the dataset:\n",
      "NB sparse likelihood 0.9994733152511021\n",
      "Correlation score at:0.7000000000000001 of the dataset:\n",
      "NB sparse likelihood 0.9949081149890338\n",
      "Correlation score at:0.8 of the dataset:\n",
      "NB sparse likelihood 0.9795833657209485\n",
      "Correlation score at:0.9 of the dataset:\n",
      "NB sparse likelihood 0.9586177301824185\n",
      "Correlation score at:1.0 of the dataset:\n",
      "NB sparse likelihood 0.964937228310044\n",
      "(312, 3)\n",
      "Correlation score at:0.1 of the dataset:\n",
      "NB sparse likelihood 1.0\n",
      "Correlation score at:0.2 of the dataset:\n",
      "NB sparse likelihood 1.0\n",
      "Correlation score at:0.30000000000000004 of the dataset:\n",
      "NB sparse likelihood 0.9999999999999999\n",
      "Correlation score at:0.4 of the dataset:\n",
      "NB sparse likelihood 0.9999055861526356\n",
      "Correlation score at:0.5 of the dataset:\n",
      "NB sparse likelihood 0.999952584912519\n",
      "Correlation score at:0.6000000000000001 of the dataset:\n",
      "NB sparse likelihood 0.9994898314975832\n",
      "Correlation score at:0.7000000000000001 of the dataset:\n",
      "NB sparse likelihood 0.9912328303803449\n",
      "Correlation score at:0.8 of the dataset:\n",
      "NB sparse likelihood 0.9763233579479209\n",
      "Correlation score at:0.9 of the dataset:\n",
      "NB sparse likelihood 0.960223800230688\n",
      "Correlation score at:1.0 of the dataset:\n",
      "NB sparse likelihood 0.965356838901932\n",
      "(312, 3)\n",
      "Correlation score at:0.1 of the dataset:\n",
      "NB sparse likelihood 1.0\n",
      "Correlation score at:0.2 of the dataset:\n",
      "NB sparse likelihood 1.0\n",
      "Correlation score at:0.30000000000000004 of the dataset:\n",
      "NB sparse likelihood 0.9999999999999999\n",
      "Correlation score at:0.4 of the dataset:\n",
      "NB sparse likelihood 0.9999055861526356\n",
      "Correlation score at:0.5 of the dataset:\n",
      "NB sparse likelihood 0.999952584912519\n",
      "Correlation score at:0.6000000000000001 of the dataset:\n",
      "NB sparse likelihood 0.9995999398074573\n",
      "Correlation score at:0.7000000000000001 of the dataset:\n",
      "NB sparse likelihood 0.9935251052749542\n",
      "Correlation score at:0.8 of the dataset:\n",
      "NB sparse likelihood 0.9805262339681305\n",
      "Correlation score at:0.9 of the dataset:\n",
      "NB sparse likelihood 0.958366815903264\n",
      "Correlation score at:1.0 of the dataset:\n",
      "NB sparse likelihood 0.9635966080291815\n",
      "(312, 3)\n",
      "Correlation score at:0.1 of the dataset:\n",
      "NB sparse likelihood 1.0\n",
      "Correlation score at:0.2 of the dataset:\n",
      "NB sparse likelihood 1.0\n",
      "Correlation score at:0.30000000000000004 of the dataset:\n",
      "NB sparse likelihood 0.9999999999999999\n",
      "Correlation score at:0.4 of the dataset:\n",
      "NB sparse likelihood 0.9999055861526356\n",
      "Correlation score at:0.5 of the dataset:\n",
      "NB sparse likelihood 0.999952584912519\n",
      "Correlation score at:0.6000000000000001 of the dataset:\n",
      "NB sparse likelihood 0.9995302045445371\n",
      "Correlation score at:0.7000000000000001 of the dataset:\n",
      "NB sparse likelihood 0.9932888121579758\n",
      "Correlation score at:0.8 of the dataset:\n",
      "NB sparse likelihood 0.985359502526234\n",
      "Correlation score at:0.9 of the dataset:\n",
      "NB sparse likelihood 0.9644827831258781\n",
      "Correlation score at:1.0 of the dataset:\n",
      "NB sparse likelihood 0.970188682525471\n",
      "(312, 3)\n",
      "Correlation score at:0.1 of the dataset:\n",
      "NB sparse likelihood 1.0\n",
      "Correlation score at:0.2 of the dataset:\n",
      "NB sparse likelihood 1.0\n",
      "Correlation score at:0.30000000000000004 of the dataset:\n",
      "NB sparse likelihood 0.9999999999999999\n",
      "Correlation score at:0.4 of the dataset:\n",
      "NB sparse likelihood 0.9999055861526356\n",
      "Correlation score at:0.5 of the dataset:\n",
      "NB sparse likelihood 0.999952584912519\n",
      "Correlation score at:0.6000000000000001 of the dataset:\n",
      "NB sparse likelihood 0.9994843260820895\n",
      "Correlation score at:0.7000000000000001 of the dataset:\n",
      "NB sparse likelihood 0.9917934473833722\n",
      "Correlation score at:0.8 of the dataset:\n",
      "NB sparse likelihood 0.9799712397979012\n",
      "Correlation score at:0.9 of the dataset:\n",
      "NB sparse likelihood 0.9576129797573949\n",
      "Correlation score at:1.0 of the dataset:\n",
      "NB sparse likelihood 0.9645029985167437\n"
     ]
    },
    {
     "data": {
      "image/png": "[encoded data removed]",
      "text/plain": [
       "<Figure size 432x288 with 1 Axes>"
      ]
     },
     "metadata": {
      "needs_background": "light"
     },
     "output_type": "display_data"
    }
   ],
   "source": [
    "percentage = np.array(list(range(1,11)))\n",
    "percentage = percentage * .10 # cut a percentage from the dataset\n",
    "percentages = [5,10,20,30,40,50,60,70,80,90]\n",
    "\n",
    "for dataset in percentages:\n",
    "    GPcounts_NB = pd.read_csv('ll_true_'+str(dataset)+'_percentage_Negative_binomial_pseudoT_Index_10.csv',index_col=[0])\n",
    "    GPcounts_NB_sorted = GPcounts_NB.sort_values(by=['log_likelihood_ratio'], ascending=False)\n",
    "    print(GPcounts_NB.shape)\n",
    "    GPcounts_NB_index = list(GPcounts_NB_sorted.index.values)\n",
    "    # index of genes ranked by log likelihood ratio from GPcounts with full NB likelihood\n",
    "    GPcounts_NB_full_index = list(GPcounts_NB_full_sorted.index.values) \n",
    "    # index of genes ranked by log likelihood ratio from GPcounts with sparse NB likelihood\n",
    "    GPcounts_NB_index = list(GPcounts_NB_sorted.index.values)\n",
    "\n",
    "    corr_NB = [] # correlation score between GPcounts_NB full rank and GPcounts_NB sparse rank\n",
    "\n",
    "    for count in range(10):\n",
    "        print('Correlation score at:'+str(percentage[count])+' of the dataset:')\n",
    "        # cut a percentage from the indexes\n",
    "        GPcounts_NB_full_index_part= GPcounts_NB_full_index[int(len(GPcounts_NB_full_index) * .0) : int(len(GPcounts_NB_full_index) * percentage[count])]\n",
    "        GPcounts_NB_rank_part = []\n",
    "\n",
    "        for i in GPcounts_NB_full_index_part:\n",
    "            # locate gene from NB full rank in GPcounts sparse rank to correlate ranking\n",
    "            GPcounts_NB_rank_part.append(GPcounts_NB_index.index(i))\n",
    "\n",
    "        GPcounts_NB_full_rank_part = list(range(0,len(GPcounts_NB_full_index_part)))\n",
    "\n",
    "        rho, pval = stats.spearmanr(GPcounts_NB_full_rank_part,GPcounts_NB_rank_part)\n",
    "        corr_NB.append(rho)\n",
    "        print('NB sparse likelihood',rho)\n",
    "\n",
    "    plt.scatter(percentage*100,corr_NB,s=30,label ='M='+str(dataset)+'%(X)')\n",
    "    plt.tick_params(labelsize='large', width=2)\n",
    "    plt.ylim(0.9,1.1)\n",
    "    plt.legend(bbox_to_anchor=(1., 0), loc='lower left', ncol=1)\n",
    "    #plt.legend()\n",
    "plt.show()"
   ]
  },
  {
   "cell_type": "code",
   "execution_count": null,
   "metadata": {},
   "outputs": [],
   "source": []
  }
 ],
 "metadata": {
  "kernelspec": {
   "display_name": "Python [conda env:myenv2] *",
   "language": "python",
   "name": "conda-env-myenv2-py"
  },
  "language_info": {
   "codemirror_mode": {
    "name": "ipython",
    "version": 3
   },
   "file_extension": ".py",
   "mimetype": "text/x-python",
   "name": "python",
   "nbconvert_exporter": "python",
   "pygments_lexer": "ipython3",
   "version": "3.7.8"
  }
 },
 "nbformat": 4,
 "nbformat_minor": 2
}
