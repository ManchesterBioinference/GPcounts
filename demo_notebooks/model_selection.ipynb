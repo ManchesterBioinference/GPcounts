{
 "cells": [
  {
   "cell_type": "markdown",
   "metadata": {},
   "source": [
    "# Automatic model selection based on linear, periodic and RBF kernels\n",
    "\n",
    "The test is run on the first 20 spatially varied genes inferred from 'GPcounts_spatial.ipynb'. "
   ]
  },
  {
   "cell_type": "code",
   "execution_count": 1,
   "metadata": {
    "ExecuteTime": {
     "end_time": "2020-10-23T08:08:22.722050Z",
     "start_time": "2020-10-23T08:08:18.061948Z"
    }
   },
   "outputs": [],
   "source": [
    "import pandas as pd \n",
    "import numpy as np \n",
    "import gpflow\n",
    "import tensorflow as tf\n",
    "from GPcounts.RNA_seq_GP import rna_seq_gp\n",
    "from matplotlib import pyplot as plt"
   ]
  },
  {
   "cell_type": "code",
   "execution_count": 2,
   "metadata": {
    "ExecuteTime": {
     "end_time": "2020-10-23T08:08:26.536258Z",
     "start_time": "2020-10-23T08:08:22.724633Z"
    }
   },
   "outputs": [],
   "source": [
    "Y = pd.read_csv('../data/MouseOB/mouse_ob_SV_genes.csv', index_col=[0]) # File with all the spatially varied genes inferred from 'GPcounts_spatial.ipynb'\n",
    "Y_total = pd.read_csv('../data/MouseOB/Rep11_MOB_0.csv', index_col=[0]) #  File with the MOUSE-OB counts dataset for all the genes\n",
    "scale = pd.read_csv('../data/MouseOB/scales_nb.txt', sep=\"\\t\") #  File with the scale factors for all the genes. This is to extract the scale factors for the particular spatially varied genes for the purposes of this analysis"
   ]
  },
  {
   "cell_type": "code",
   "execution_count": 3,
   "metadata": {
    "ExecuteTime": {
     "end_time": "2020-10-23T08:08:26.549407Z",
     "start_time": "2020-10-23T08:08:26.539054Z"
    }
   },
   "outputs": [],
   "source": [
    "spatial_locations = pd.DataFrame(index=Y.index)\n",
    "spatial_locations['x'] = Y.index.str.split('x').str.get(0).map(float)\n",
    "spatial_locations['y'] = Y.index.str.split('x').str.get(1).map(float)"
   ]
  },
  {
   "cell_type": "code",
   "execution_count": 4,
   "metadata": {
    "ExecuteTime": {
     "end_time": "2020-10-23T08:08:26.559591Z",
     "start_time": "2020-10-23T08:08:26.552574Z"
    }
   },
   "outputs": [],
   "source": [
    "spatial_locations['total_counts'] = Y.sum(1)\n",
    "Y = Y.loc[spatial_locations.index]\n",
    "X = spatial_locations[['x','y']]"
   ]
  },
  {
   "cell_type": "code",
   "execution_count": 5,
   "metadata": {},
   "outputs": [],
   "source": [
    "scale_nb_model_sel_tr = pd.read_csv('../data/MouseOB/scale_nb_model_sel.csv', index_col=[0])"
   ]
  },
  {
   "cell_type": "code",
   "execution_count": 6,
   "metadata": {
    "ExecuteTime": {
     "end_time": "2020-10-23T08:09:24.812335Z",
     "start_time": "2020-10-23T08:09:24.806923Z"
    }
   },
   "outputs": [],
   "source": [
    "Y = Y_total.T"
   ]
  },
  {
   "cell_type": "code",
   "execution_count": 7,
   "metadata": {
    "ExecuteTime": {
     "end_time": "2020-10-23T08:10:47.513539Z",
     "start_time": "2020-10-23T08:10:47.508975Z"
    }
   },
   "outputs": [],
   "source": [
    "Y_run = Y.iloc[0:20,:]  # Run model_selection for the first 20 spatially varied genes  "
   ]
  },
  {
   "cell_type": "code",
   "execution_count": 8,
   "metadata": {
    "ExecuteTime": {
     "end_time": "2020-10-23T08:10:48.708758Z",
     "start_time": "2020-10-23T08:10:48.703130Z"
    }
   },
   "outputs": [],
   "source": [
    "gene_name = []\n",
    "scale = scale_nb_model_sel_tr \n",
    "gene_name = Y_run.index\n",
    "likelihood = 'Negative_binomial' \n",
    "gp_counts = rna_seq_gp(X,Y_run.loc[gene_name], scale = scale,safe_mode=False)\n",
    " "
   ]
  },
  {
   "cell_type": "code",
   "execution_count": 9,
   "metadata": {
    "ExecuteTime": {
     "end_time": "2020-10-23T08:23:07.404938Z",
     "start_time": "2020-10-23T08:10:52.298657Z"
    }
   },
   "outputs": [
    {
     "name": "stderr",
     "output_type": "stream",
     "text": [
      "  0%|                                                    | 0/20 [00:00<?, ?it/s]"
     ]
    },
    {
     "name": "stdout",
     "output_type": "stream",
     "text": [
      "Fitting GP with Linear Kernel\n"
     ]
    },
    {
     "name": "stderr",
     "output_type": "stream",
     "text": [
      "  5%|██▏                                         | 1/20 [00:03<01:08,  3.63s/it]"
     ]
    },
    {
     "name": "stdout",
     "output_type": "stream",
     "text": [
      "Fitting GP with Linear Kernel\n"
     ]
    },
    {
     "name": "stderr",
     "output_type": "stream",
     "text": [
      " 10%|████▍                                       | 2/20 [00:05<00:43,  2.40s/it]"
     ]
    },
    {
     "name": "stdout",
     "output_type": "stream",
     "text": [
      "Fitting GP with Linear Kernel\n"
     ]
    },
    {
     "name": "stderr",
     "output_type": "stream",
     "text": [
      " 15%|██████▌                                     | 3/20 [00:06<00:35,  2.11s/it]"
     ]
    },
    {
     "name": "stdout",
     "output_type": "stream",
     "text": [
      "Fitting GP with Linear Kernel\n"
     ]
    },
    {
     "name": "stderr",
     "output_type": "stream",
     "text": [
      " 20%|████████▊                                   | 4/20 [00:08<00:31,  1.95s/it]"
     ]
    },
    {
     "name": "stdout",
     "output_type": "stream",
     "text": [
      "Fitting GP with Linear Kernel\n"
     ]
    },
    {
     "name": "stderr",
     "output_type": "stream",
     "text": [
      " 25%|███████████                                 | 5/20 [00:10<00:28,  1.91s/it]"
     ]
    },
    {
     "name": "stdout",
     "output_type": "stream",
     "text": [
      "Fitting GP with Linear Kernel\n"
     ]
    },
    {
     "name": "stderr",
     "output_type": "stream",
     "text": [
      " 30%|█████████████▏                              | 6/20 [00:13<00:31,  2.27s/it]"
     ]
    },
    {
     "name": "stdout",
     "output_type": "stream",
     "text": [
      "Fitting GP with Linear Kernel\n"
     ]
    },
    {
     "name": "stderr",
     "output_type": "stream",
     "text": [
      " 35%|███████████████▍                            | 7/20 [00:15<00:26,  2.06s/it]"
     ]
    },
    {
     "name": "stdout",
     "output_type": "stream",
     "text": [
      "Fitting GP with Linear Kernel\n"
     ]
    },
    {
     "name": "stderr",
     "output_type": "stream",
     "text": [
      " 40%|█████████████████▌                          | 8/20 [00:17<00:24,  2.02s/it]"
     ]
    },
    {
     "name": "stdout",
     "output_type": "stream",
     "text": [
      "Fitting GP with Linear Kernel\n"
     ]
    },
    {
     "name": "stderr",
     "output_type": "stream",
     "text": [
      " 45%|███████████████████▊                        | 9/20 [00:18<00:20,  1.83s/it]"
     ]
    },
    {
     "name": "stdout",
     "output_type": "stream",
     "text": [
      "Fitting GP with Linear Kernel\n"
     ]
    },
    {
     "name": "stderr",
     "output_type": "stream",
     "text": [
      " 50%|█████████████████████▌                     | 10/20 [00:19<00:16,  1.68s/it]"
     ]
    },
    {
     "name": "stdout",
     "output_type": "stream",
     "text": [
      "Fitting GP with Linear Kernel\n"
     ]
    },
    {
     "name": "stderr",
     "output_type": "stream",
     "text": [
      " 55%|███████████████████████▋                   | 11/20 [00:20<00:13,  1.51s/it]"
     ]
    },
    {
     "name": "stdout",
     "output_type": "stream",
     "text": [
      "Fitting GP with Linear Kernel\n"
     ]
    },
    {
     "name": "stderr",
     "output_type": "stream",
     "text": [
      " 60%|█████████████████████████▊                 | 12/20 [00:21<00:10,  1.35s/it]"
     ]
    },
    {
     "name": "stdout",
     "output_type": "stream",
     "text": [
      "Fitting GP with Linear Kernel\n",
      "Fitting GP with Linear Kernel\n",
      "Fitting GP with Linear Kernel\n"
     ]
    },
    {
     "name": "stderr",
     "output_type": "stream",
     "text": [
      " 65%|███████████████████████████▉               | 13/20 [00:23<00:10,  1.48s/it]"
     ]
    },
    {
     "name": "stdout",
     "output_type": "stream",
     "text": [
      "Fitting GP with Linear Kernel\n"
     ]
    },
    {
     "name": "stderr",
     "output_type": "stream",
     "text": [
      " 70%|██████████████████████████████             | 14/20 [00:25<00:08,  1.45s/it]"
     ]
    },
    {
     "name": "stdout",
     "output_type": "stream",
     "text": [
      "Fitting GP with Linear Kernel\n"
     ]
    },
    {
     "name": "stderr",
     "output_type": "stream",
     "text": [
      " 75%|████████████████████████████████▎          | 15/20 [00:26<00:06,  1.35s/it]"
     ]
    },
    {
     "name": "stdout",
     "output_type": "stream",
     "text": [
      "Fitting GP with Linear Kernel\n"
     ]
    },
    {
     "name": "stderr",
     "output_type": "stream",
     "text": [
      " 80%|██████████████████████████████████▍        | 16/20 [00:27<00:05,  1.27s/it]"
     ]
    },
    {
     "name": "stdout",
     "output_type": "stream",
     "text": [
      "Fitting GP with Linear Kernel\n"
     ]
    },
    {
     "name": "stderr",
     "output_type": "stream",
     "text": [
      " 85%|████████████████████████████████████▌      | 17/20 [00:28<00:03,  1.26s/it]"
     ]
    },
    {
     "name": "stdout",
     "output_type": "stream",
     "text": [
      "Fitting GP with Linear Kernel\n"
     ]
    },
    {
     "name": "stderr",
     "output_type": "stream",
     "text": [
      " 90%|██████████████████████████████████████▋    | 18/20 [00:29<00:02,  1.31s/it]"
     ]
    },
    {
     "name": "stdout",
     "output_type": "stream",
     "text": [
      "Fitting GP with Linear Kernel\n"
     ]
    },
    {
     "name": "stderr",
     "output_type": "stream",
     "text": [
      " 95%|████████████████████████████████████████▊  | 19/20 [00:30<00:01,  1.21s/it]"
     ]
    },
    {
     "name": "stdout",
     "output_type": "stream",
     "text": [
      "Fitting GP with Linear Kernel\n"
     ]
    },
    {
     "name": "stderr",
     "output_type": "stream",
     "text": [
      "100%|███████████████████████████████████████████| 20/20 [00:31<00:00,  1.59s/it]\n",
      "/Users/nuhasaud/anaconda3/envs/GPC_test_3.12/lib/python3.12/site-packages/GPcounts/RNA_seq_GP.py:412: FutureWarning: Series.ravel is deprecated. The underlying array is already 1D, so ravel is not necessary.  Use `to_numpy()` for conversion to a numpy array instead.\n",
      "  pv = pv.ravel()  # flattens the array in place, more efficient than flatten()\n",
      "/Users/nuhasaud/anaconda3/envs/GPC_test_3.12/lib/python3.12/site-packages/GPcounts/RNA_seq_GP.py:503: FutureWarning: The provided callable <built-in function min> is currently using SeriesGroupBy.min. In a future version of pandas, the provided callable will be used directly. To keep current behavior pass the string \"min\" instead.\n",
      "  selection_results.groupby([\"Gene\", \"Model\"])[\"BIC\"].transform(min)\n",
      "/Users/nuhasaud/anaconda3/envs/GPC_test_3.12/lib/python3.12/site-packages/GPcounts/RNA_seq_GP.py:520: FutureWarning: The provided callable <built-in function min> is currently using SeriesGroupBy.min. In a future version of pandas, the provided callable will be used directly. To keep current behavior pass the string \"min\" instead.\n",
      "  selection_results.groupby(\"Gene\")[\"BIC\"].transform(min)\n",
      "  0%|                                                    | 0/20 [00:00<?, ?it/s]"
     ]
    },
    {
     "name": "stdout",
     "output_type": "stream",
     "text": [
      "Fitting GP with Periodic Kernel\n"
     ]
    },
    {
     "name": "stderr",
     "output_type": "stream",
     "text": [
      "  5%|██▏                                         | 1/20 [00:04<01:20,  4.25s/it]"
     ]
    },
    {
     "name": "stdout",
     "output_type": "stream",
     "text": [
      "Fitting GP with Periodic Kernel\n"
     ]
    },
    {
     "name": "stderr",
     "output_type": "stream",
     "text": [
      " 10%|████▍                                       | 2/20 [00:10<01:35,  5.29s/it]"
     ]
    },
    {
     "name": "stdout",
     "output_type": "stream",
     "text": [
      "Fitting GP with Periodic Kernel\n"
     ]
    },
    {
     "name": "stderr",
     "output_type": "stream",
     "text": [
      " 15%|██████▌                                     | 3/20 [00:27<02:59, 10.56s/it]"
     ]
    },
    {
     "name": "stdout",
     "output_type": "stream",
     "text": [
      "Fitting GP with Periodic Kernel\n"
     ]
    },
    {
     "name": "stderr",
     "output_type": "stream",
     "text": [
      " 20%|████████▊                                   | 4/20 [00:37<02:47, 10.47s/it]"
     ]
    },
    {
     "name": "stdout",
     "output_type": "stream",
     "text": [
      "Fitting GP with Periodic Kernel\n"
     ]
    },
    {
     "name": "stderr",
     "output_type": "stream",
     "text": [
      " 25%|███████████                                 | 5/20 [00:44<02:15,  9.06s/it]"
     ]
    },
    {
     "name": "stdout",
     "output_type": "stream",
     "text": [
      "Fitting GP with Periodic Kernel\n"
     ]
    },
    {
     "name": "stderr",
     "output_type": "stream",
     "text": [
      " 30%|█████████████▏                              | 6/20 [01:03<02:56, 12.60s/it]"
     ]
    },
    {
     "name": "stdout",
     "output_type": "stream",
     "text": [
      "Fitting GP with Periodic Kernel\n"
     ]
    },
    {
     "name": "stderr",
     "output_type": "stream",
     "text": [
      " 35%|███████████████▍                            | 7/20 [01:11<02:22, 11.00s/it]"
     ]
    },
    {
     "name": "stdout",
     "output_type": "stream",
     "text": [
      "Fitting GP with Periodic Kernel\n"
     ]
    },
    {
     "name": "stderr",
     "output_type": "stream",
     "text": [
      " 40%|█████████████████▌                          | 8/20 [01:30<02:44, 13.67s/it]"
     ]
    },
    {
     "name": "stdout",
     "output_type": "stream",
     "text": [
      "Fitting GP with Periodic Kernel\n"
     ]
    },
    {
     "name": "stderr",
     "output_type": "stream",
     "text": [
      " 45%|███████████████████▊                        | 9/20 [01:36<02:02, 11.10s/it]"
     ]
    },
    {
     "name": "stdout",
     "output_type": "stream",
     "text": [
      "Fitting GP with Periodic Kernel\n"
     ]
    },
    {
     "name": "stderr",
     "output_type": "stream",
     "text": [
      " 50%|█████████████████████▌                     | 10/20 [01:52<02:07, 12.76s/it]"
     ]
    },
    {
     "name": "stdout",
     "output_type": "stream",
     "text": [
      "Fitting GP with Periodic Kernel\n"
     ]
    },
    {
     "name": "stderr",
     "output_type": "stream",
     "text": [
      " 55%|███████████████████████▋                   | 11/20 [02:03<01:51, 12.37s/it]"
     ]
    },
    {
     "name": "stdout",
     "output_type": "stream",
     "text": [
      "Fitting GP with Periodic Kernel\n"
     ]
    },
    {
     "name": "stderr",
     "output_type": "stream",
     "text": [
      " 60%|█████████████████████████▊                 | 12/20 [02:07<01:17,  9.74s/it]"
     ]
    },
    {
     "name": "stdout",
     "output_type": "stream",
     "text": [
      "Fitting GP with Periodic Kernel\n"
     ]
    },
    {
     "name": "stderr",
     "output_type": "stream",
     "text": [
      " 65%|███████████████████████████▉               | 13/20 [02:23<01:20, 11.53s/it]"
     ]
    },
    {
     "name": "stdout",
     "output_type": "stream",
     "text": [
      "Fitting GP with Periodic Kernel\n"
     ]
    },
    {
     "name": "stderr",
     "output_type": "stream",
     "text": [
      " 70%|██████████████████████████████             | 14/20 [02:29<01:00, 10.02s/it]"
     ]
    },
    {
     "name": "stdout",
     "output_type": "stream",
     "text": [
      "Fitting GP with Periodic Kernel\n"
     ]
    },
    {
     "name": "stderr",
     "output_type": "stream",
     "text": [
      " 75%|████████████████████████████████▎          | 15/20 [02:37<00:46,  9.21s/it]"
     ]
    },
    {
     "name": "stdout",
     "output_type": "stream",
     "text": [
      "Fitting GP with Periodic Kernel\n"
     ]
    },
    {
     "name": "stderr",
     "output_type": "stream",
     "text": [
      " 80%|██████████████████████████████████▍        | 16/20 [02:44<00:34,  8.73s/it]"
     ]
    },
    {
     "name": "stdout",
     "output_type": "stream",
     "text": [
      "Fitting GP with Periodic Kernel\n"
     ]
    },
    {
     "name": "stderr",
     "output_type": "stream",
     "text": [
      " 85%|████████████████████████████████████▌      | 17/20 [02:52<00:25,  8.50s/it]"
     ]
    },
    {
     "name": "stdout",
     "output_type": "stream",
     "text": [
      "Fitting GP with Periodic Kernel\n"
     ]
    },
    {
     "name": "stderr",
     "output_type": "stream",
     "text": [
      " 90%|██████████████████████████████████████▋    | 18/20 [02:58<00:15,  7.65s/it]"
     ]
    },
    {
     "name": "stdout",
     "output_type": "stream",
     "text": [
      "Fitting GP with Periodic Kernel\n"
     ]
    },
    {
     "name": "stderr",
     "output_type": "stream",
     "text": [
      " 95%|████████████████████████████████████████▊  | 19/20 [03:14<00:10, 10.03s/it]"
     ]
    },
    {
     "name": "stdout",
     "output_type": "stream",
     "text": [
      "Fitting GP with Periodic Kernel\n"
     ]
    },
    {
     "name": "stderr",
     "output_type": "stream",
     "text": [
      "100%|███████████████████████████████████████████| 20/20 [03:18<00:00,  9.94s/it]\n",
      "/Users/nuhasaud/anaconda3/envs/GPC_test_3.12/lib/python3.12/site-packages/GPcounts/RNA_seq_GP.py:412: FutureWarning: Series.ravel is deprecated. The underlying array is already 1D, so ravel is not necessary.  Use `to_numpy()` for conversion to a numpy array instead.\n",
      "  pv = pv.ravel()  # flattens the array in place, more efficient than flatten()\n",
      "/Users/nuhasaud/anaconda3/envs/GPC_test_3.12/lib/python3.12/site-packages/GPcounts/RNA_seq_GP.py:503: FutureWarning: The provided callable <built-in function min> is currently using SeriesGroupBy.min. In a future version of pandas, the provided callable will be used directly. To keep current behavior pass the string \"min\" instead.\n",
      "  selection_results.groupby([\"Gene\", \"Model\"])[\"BIC\"].transform(min)\n",
      "/Users/nuhasaud/anaconda3/envs/GPC_test_3.12/lib/python3.12/site-packages/GPcounts/RNA_seq_GP.py:520: FutureWarning: The provided callable <built-in function min> is currently using SeriesGroupBy.min. In a future version of pandas, the provided callable will be used directly. To keep current behavior pass the string \"min\" instead.\n",
      "  selection_results.groupby(\"Gene\")[\"BIC\"].transform(min)\n",
      "100%|███████████████████████████████████████████| 20/20 [01:33<00:00,  4.65s/it]\n",
      "/Users/nuhasaud/anaconda3/envs/GPC_test_3.12/lib/python3.12/site-packages/GPcounts/RNA_seq_GP.py:412: FutureWarning: Series.ravel is deprecated. The underlying array is already 1D, so ravel is not necessary.  Use `to_numpy()` for conversion to a numpy array instead.\n",
      "  pv = pv.ravel()  # flattens the array in place, more efficient than flatten()\n",
      "/Users/nuhasaud/anaconda3/envs/GPC_test_3.12/lib/python3.12/site-packages/GPcounts/RNA_seq_GP.py:503: FutureWarning: The provided callable <built-in function min> is currently using SeriesGroupBy.min. In a future version of pandas, the provided callable will be used directly. To keep current behavior pass the string \"min\" instead.\n",
      "  selection_results.groupby([\"Gene\", \"Model\"])[\"BIC\"].transform(min)\n",
      "/Users/nuhasaud/anaconda3/envs/GPC_test_3.12/lib/python3.12/site-packages/GPcounts/RNA_seq_GP.py:520: FutureWarning: The provided callable <built-in function min> is currently using SeriesGroupBy.min. In a future version of pandas, the provided callable will be used directly. To keep current behavior pass the string \"min\" instead.\n",
      "  selection_results.groupby(\"Gene\")[\"BIC\"].transform(min)\n"
     ]
    },
    {
     "data": {
      "text/html": [
       "<div>\n",
       "<style scoped>\n",
       "    .dataframe tbody tr th:only-of-type {\n",
       "        vertical-align: middle;\n",
       "    }\n",
       "\n",
       "    .dataframe tbody tr th {\n",
       "        vertical-align: top;\n",
       "    }\n",
       "\n",
       "    .dataframe thead th {\n",
       "        text-align: right;\n",
       "    }\n",
       "</style>\n",
       "<table border=\"1\" class=\"dataframe\">\n",
       "  <thead>\n",
       "    <tr style=\"text-align: right;\">\n",
       "      <th></th>\n",
       "      <th>Gene</th>\n",
       "      <th>Dynamic_model_log_likelihood</th>\n",
       "      <th>Constant_model_log_likelihood</th>\n",
       "      <th>log_likelihood_ratio</th>\n",
       "      <th>Model</th>\n",
       "      <th>BIC</th>\n",
       "      <th>Linear_probability</th>\n",
       "      <th>Periodic_probability</th>\n",
       "      <th>RBF_probability</th>\n",
       "      <th>p_value</th>\n",
       "      <th>q_value</th>\n",
       "    </tr>\n",
       "  </thead>\n",
       "  <tbody>\n",
       "    <tr>\n",
       "      <th>0</th>\n",
       "      <td>2010300C02Rik</td>\n",
       "      <td>-660.240087</td>\n",
       "      <td>-683.893721</td>\n",
       "      <td>23.653634</td>\n",
       "      <td>RBF</td>\n",
       "      <td>1342.722901</td>\n",
       "      <td>1.729649e-27</td>\n",
       "      <td>8.377161e-11</td>\n",
       "      <td>1.000000</td>\n",
       "      <td>6.068701e-12</td>\n",
       "      <td>1.213740e-10</td>\n",
       "    </tr>\n",
       "    <tr>\n",
       "      <th>1</th>\n",
       "      <td>Ate1</td>\n",
       "      <td>-507.338554</td>\n",
       "      <td>-511.078156</td>\n",
       "      <td>3.739601</td>\n",
       "      <td>Periodic</td>\n",
       "      <td>1036.919835</td>\n",
       "      <td>4.896035e-59</td>\n",
       "      <td>9.996996e-01</td>\n",
       "      <td>0.000300</td>\n",
       "      <td>6.241570e-03</td>\n",
       "      <td>5.243306e-02</td>\n",
       "    </tr>\n",
       "    <tr>\n",
       "      <th>2</th>\n",
       "      <td>Atp5j2</td>\n",
       "      <td>-674.508163</td>\n",
       "      <td>-674.590755</td>\n",
       "      <td>0.082592</td>\n",
       "      <td>Periodic</td>\n",
       "      <td>1371.259052</td>\n",
       "      <td>3.855854e-10</td>\n",
       "      <td>5.413119e-01</td>\n",
       "      <td>0.458688</td>\n",
       "      <td>6.844274e-01</td>\n",
       "      <td>9.720863e-01</td>\n",
       "    </tr>\n",
       "    <tr>\n",
       "      <th>3</th>\n",
       "      <td>B3gat3</td>\n",
       "      <td>-535.283282</td>\n",
       "      <td>-537.341643</td>\n",
       "      <td>2.058361</td>\n",
       "      <td>RBF</td>\n",
       "      <td>1092.809291</td>\n",
       "      <td>1.015705e-05</td>\n",
       "      <td>2.626488e-01</td>\n",
       "      <td>0.737341</td>\n",
       "      <td>4.246130e-02</td>\n",
       "      <td>2.830753e-01</td>\n",
       "    </tr>\n",
       "    <tr>\n",
       "      <th>4</th>\n",
       "      <td>Bbs1</td>\n",
       "      <td>-404.293674</td>\n",
       "      <td>-404.421127</td>\n",
       "      <td>0.127454</td>\n",
       "      <td>Periodic</td>\n",
       "      <td>830.830074</td>\n",
       "      <td>1.094642e-40</td>\n",
       "      <td>5.647154e-01</td>\n",
       "      <td>0.435285</td>\n",
       "      <td>6.136406e-01</td>\n",
       "      <td>9.720863e-01</td>\n",
       "    </tr>\n",
       "    <tr>\n",
       "      <th>5</th>\n",
       "      <td>Ccnl1</td>\n",
       "      <td>-474.894846</td>\n",
       "      <td>-474.892581</td>\n",
       "      <td>-0.002265</td>\n",
       "      <td>Periodic</td>\n",
       "      <td>972.032418</td>\n",
       "      <td>2.567934e-57</td>\n",
       "      <td>7.054979e-01</td>\n",
       "      <td>0.294502</td>\n",
       "      <td>1.000000e+00</td>\n",
       "      <td>1.000000e+00</td>\n",
       "    </tr>\n",
       "    <tr>\n",
       "      <th>6</th>\n",
       "      <td>Inpp5f</td>\n",
       "      <td>-642.020899</td>\n",
       "      <td>-642.098449</td>\n",
       "      <td>0.077550</td>\n",
       "      <td>Periodic</td>\n",
       "      <td>1306.284525</td>\n",
       "      <td>3.638145e-18</td>\n",
       "      <td>5.218644e-01</td>\n",
       "      <td>0.478136</td>\n",
       "      <td>6.937092e-01</td>\n",
       "      <td>9.720863e-01</td>\n",
       "    </tr>\n",
       "    <tr>\n",
       "      <th>7</th>\n",
       "      <td>Lix1</td>\n",
       "      <td>-619.402483</td>\n",
       "      <td>-620.574537</td>\n",
       "      <td>1.172054</td>\n",
       "      <td>RBF</td>\n",
       "      <td>1261.047693</td>\n",
       "      <td>1.358664e-77</td>\n",
       "      <td>8.524656e-02</td>\n",
       "      <td>0.914753</td>\n",
       "      <td>1.257576e-01</td>\n",
       "      <td>6.287878e-01</td>\n",
       "    </tr>\n",
       "    <tr>\n",
       "      <th>8</th>\n",
       "      <td>Lrrfip1</td>\n",
       "      <td>-430.093032</td>\n",
       "      <td>-430.922986</td>\n",
       "      <td>0.829954</td>\n",
       "      <td>RBF</td>\n",
       "      <td>882.428790</td>\n",
       "      <td>2.807844e-25</td>\n",
       "      <td>1.953822e-01</td>\n",
       "      <td>0.804618</td>\n",
       "      <td>1.976157e-01</td>\n",
       "      <td>6.587190e-01</td>\n",
       "    </tr>\n",
       "    <tr>\n",
       "      <th>9</th>\n",
       "      <td>Nap1l1</td>\n",
       "      <td>-703.545063</td>\n",
       "      <td>-709.646140</td>\n",
       "      <td>6.101077</td>\n",
       "      <td>RBF</td>\n",
       "      <td>1429.332852</td>\n",
       "      <td>1.394061e-11</td>\n",
       "      <td>5.661199e-04</td>\n",
       "      <td>0.999434</td>\n",
       "      <td>4.773438e-04</td>\n",
       "      <td>4.773438e-03</td>\n",
       "    </tr>\n",
       "    <tr>\n",
       "      <th>10</th>\n",
       "      <td>Ndufaf6</td>\n",
       "      <td>-219.118739</td>\n",
       "      <td>-219.147336</td>\n",
       "      <td>0.028597</td>\n",
       "      <td>Periodic</td>\n",
       "      <td>460.480204</td>\n",
       "      <td>2.048256e-12</td>\n",
       "      <td>5.179388e-01</td>\n",
       "      <td>0.482061</td>\n",
       "      <td>8.109856e-01</td>\n",
       "      <td>1.000000e+00</td>\n",
       "    </tr>\n",
       "    <tr>\n",
       "      <th>11</th>\n",
       "      <td>Nrf1</td>\n",
       "      <td>-253.184292</td>\n",
       "      <td>-253.862159</td>\n",
       "      <td>0.677868</td>\n",
       "      <td>Periodic</td>\n",
       "      <td>528.611310</td>\n",
       "      <td>1.420766e-47</td>\n",
       "      <td>9.810759e-01</td>\n",
       "      <td>0.018924</td>\n",
       "      <td>2.442780e-01</td>\n",
       "      <td>6.244971e-01</td>\n",
       "    </tr>\n",
       "    <tr>\n",
       "      <th>12</th>\n",
       "      <td>Polr3k</td>\n",
       "      <td>-364.163462</td>\n",
       "      <td>-364.312303</td>\n",
       "      <td>0.148841</td>\n",
       "      <td>Periodic</td>\n",
       "      <td>750.569651</td>\n",
       "      <td>5.522880e-12</td>\n",
       "      <td>5.743020e-01</td>\n",
       "      <td>0.425698</td>\n",
       "      <td>5.853395e-01</td>\n",
       "      <td>9.720863e-01</td>\n",
       "    </tr>\n",
       "    <tr>\n",
       "      <th>13</th>\n",
       "      <td>Rab34</td>\n",
       "      <td>-408.470742</td>\n",
       "      <td>-408.476416</td>\n",
       "      <td>0.005674</td>\n",
       "      <td>Periodic</td>\n",
       "      <td>839.184211</td>\n",
       "      <td>5.615201e-22</td>\n",
       "      <td>5.034477e-01</td>\n",
       "      <td>0.496552</td>\n",
       "      <td>9.151643e-01</td>\n",
       "      <td>1.000000e+00</td>\n",
       "    </tr>\n",
       "    <tr>\n",
       "      <th>14</th>\n",
       "      <td>Slc1a3</td>\n",
       "      <td>-1123.066241</td>\n",
       "      <td>-1123.916832</td>\n",
       "      <td>0.850591</td>\n",
       "      <td>RBF</td>\n",
       "      <td>2268.375208</td>\n",
       "      <td>1.213184e-22</td>\n",
       "      <td>4.992689e-01</td>\n",
       "      <td>0.500731</td>\n",
       "      <td>1.921334e-01</td>\n",
       "      <td>6.587190e-01</td>\n",
       "    </tr>\n",
       "    <tr>\n",
       "      <th>15</th>\n",
       "      <td>Srgap3</td>\n",
       "      <td>-646.976860</td>\n",
       "      <td>-647.036846</td>\n",
       "      <td>0.059986</td>\n",
       "      <td>Periodic</td>\n",
       "      <td>1316.196446</td>\n",
       "      <td>3.561006e-09</td>\n",
       "      <td>5.299615e-01</td>\n",
       "      <td>0.470038</td>\n",
       "      <td>7.290647e-01</td>\n",
       "      <td>9.720863e-01</td>\n",
       "    </tr>\n",
       "    <tr>\n",
       "      <th>16</th>\n",
       "      <td>Tnpo2</td>\n",
       "      <td>-516.097586</td>\n",
       "      <td>-519.629570</td>\n",
       "      <td>3.531984</td>\n",
       "      <td>Periodic</td>\n",
       "      <td>1054.437899</td>\n",
       "      <td>4.594150e-07</td>\n",
       "      <td>9.990855e-01</td>\n",
       "      <td>0.000914</td>\n",
       "      <td>7.864960e-03</td>\n",
       "      <td>5.243306e-02</td>\n",
       "    </tr>\n",
       "    <tr>\n",
       "      <th>17</th>\n",
       "      <td>Ubac1</td>\n",
       "      <td>-522.925740</td>\n",
       "      <td>-523.073087</td>\n",
       "      <td>0.147347</td>\n",
       "      <td>Periodic</td>\n",
       "      <td>1068.094207</td>\n",
       "      <td>8.666806e-06</td>\n",
       "      <td>5.731651e-01</td>\n",
       "      <td>0.426826</td>\n",
       "      <td>5.872282e-01</td>\n",
       "      <td>9.720863e-01</td>\n",
       "    </tr>\n",
       "    <tr>\n",
       "      <th>18</th>\n",
       "      <td>Whrn</td>\n",
       "      <td>-348.069970</td>\n",
       "      <td>-348.732185</td>\n",
       "      <td>0.662214</td>\n",
       "      <td>Periodic</td>\n",
       "      <td>718.382667</td>\n",
       "      <td>1.401723e-34</td>\n",
       "      <td>7.877120e-01</td>\n",
       "      <td>0.212288</td>\n",
       "      <td>2.497988e-01</td>\n",
       "      <td>6.244971e-01</td>\n",
       "    </tr>\n",
       "    <tr>\n",
       "      <th>19</th>\n",
       "      <td>Zbtb5</td>\n",
       "      <td>-269.110892</td>\n",
       "      <td>-269.012340</td>\n",
       "      <td>-0.098552</td>\n",
       "      <td>Periodic</td>\n",
       "      <td>560.464511</td>\n",
       "      <td>1.425263e-46</td>\n",
       "      <td>8.973282e-01</td>\n",
       "      <td>0.102672</td>\n",
       "      <td>1.000000e+00</td>\n",
       "      <td>1.000000e+00</td>\n",
       "    </tr>\n",
       "  </tbody>\n",
       "</table>\n",
       "</div>"
      ],
      "text/plain": [
       "             Gene  Dynamic_model_log_likelihood  \\\n",
       "0   2010300C02Rik                   -660.240087   \n",
       "1            Ate1                   -507.338554   \n",
       "2          Atp5j2                   -674.508163   \n",
       "3          B3gat3                   -535.283282   \n",
       "4            Bbs1                   -404.293674   \n",
       "5           Ccnl1                   -474.894846   \n",
       "6          Inpp5f                   -642.020899   \n",
       "7            Lix1                   -619.402483   \n",
       "8         Lrrfip1                   -430.093032   \n",
       "9          Nap1l1                   -703.545063   \n",
       "10        Ndufaf6                   -219.118739   \n",
       "11           Nrf1                   -253.184292   \n",
       "12         Polr3k                   -364.163462   \n",
       "13          Rab34                   -408.470742   \n",
       "14         Slc1a3                  -1123.066241   \n",
       "15         Srgap3                   -646.976860   \n",
       "16          Tnpo2                   -516.097586   \n",
       "17          Ubac1                   -522.925740   \n",
       "18           Whrn                   -348.069970   \n",
       "19          Zbtb5                   -269.110892   \n",
       "\n",
       "    Constant_model_log_likelihood  log_likelihood_ratio     Model  \\\n",
       "0                     -683.893721             23.653634       RBF   \n",
       "1                     -511.078156              3.739601  Periodic   \n",
       "2                     -674.590755              0.082592  Periodic   \n",
       "3                     -537.341643              2.058361       RBF   \n",
       "4                     -404.421127              0.127454  Periodic   \n",
       "5                     -474.892581             -0.002265  Periodic   \n",
       "6                     -642.098449              0.077550  Periodic   \n",
       "7                     -620.574537              1.172054       RBF   \n",
       "8                     -430.922986              0.829954       RBF   \n",
       "9                     -709.646140              6.101077       RBF   \n",
       "10                    -219.147336              0.028597  Periodic   \n",
       "11                    -253.862159              0.677868  Periodic   \n",
       "12                    -364.312303              0.148841  Periodic   \n",
       "13                    -408.476416              0.005674  Periodic   \n",
       "14                   -1123.916832              0.850591       RBF   \n",
       "15                    -647.036846              0.059986  Periodic   \n",
       "16                    -519.629570              3.531984  Periodic   \n",
       "17                    -523.073087              0.147347  Periodic   \n",
       "18                    -348.732185              0.662214  Periodic   \n",
       "19                    -269.012340             -0.098552  Periodic   \n",
       "\n",
       "            BIC  Linear_probability  Periodic_probability  RBF_probability  \\\n",
       "0   1342.722901        1.729649e-27          8.377161e-11         1.000000   \n",
       "1   1036.919835        4.896035e-59          9.996996e-01         0.000300   \n",
       "2   1371.259052        3.855854e-10          5.413119e-01         0.458688   \n",
       "3   1092.809291        1.015705e-05          2.626488e-01         0.737341   \n",
       "4    830.830074        1.094642e-40          5.647154e-01         0.435285   \n",
       "5    972.032418        2.567934e-57          7.054979e-01         0.294502   \n",
       "6   1306.284525        3.638145e-18          5.218644e-01         0.478136   \n",
       "7   1261.047693        1.358664e-77          8.524656e-02         0.914753   \n",
       "8    882.428790        2.807844e-25          1.953822e-01         0.804618   \n",
       "9   1429.332852        1.394061e-11          5.661199e-04         0.999434   \n",
       "10   460.480204        2.048256e-12          5.179388e-01         0.482061   \n",
       "11   528.611310        1.420766e-47          9.810759e-01         0.018924   \n",
       "12   750.569651        5.522880e-12          5.743020e-01         0.425698   \n",
       "13   839.184211        5.615201e-22          5.034477e-01         0.496552   \n",
       "14  2268.375208        1.213184e-22          4.992689e-01         0.500731   \n",
       "15  1316.196446        3.561006e-09          5.299615e-01         0.470038   \n",
       "16  1054.437899        4.594150e-07          9.990855e-01         0.000914   \n",
       "17  1068.094207        8.666806e-06          5.731651e-01         0.426826   \n",
       "18   718.382667        1.401723e-34          7.877120e-01         0.212288   \n",
       "19   560.464511        1.425263e-46          8.973282e-01         0.102672   \n",
       "\n",
       "         p_value       q_value  \n",
       "0   6.068701e-12  1.213740e-10  \n",
       "1   6.241570e-03  5.243306e-02  \n",
       "2   6.844274e-01  9.720863e-01  \n",
       "3   4.246130e-02  2.830753e-01  \n",
       "4   6.136406e-01  9.720863e-01  \n",
       "5   1.000000e+00  1.000000e+00  \n",
       "6   6.937092e-01  9.720863e-01  \n",
       "7   1.257576e-01  6.287878e-01  \n",
       "8   1.976157e-01  6.587190e-01  \n",
       "9   4.773438e-04  4.773438e-03  \n",
       "10  8.109856e-01  1.000000e+00  \n",
       "11  2.442780e-01  6.244971e-01  \n",
       "12  5.853395e-01  9.720863e-01  \n",
       "13  9.151643e-01  1.000000e+00  \n",
       "14  1.921334e-01  6.587190e-01  \n",
       "15  7.290647e-01  9.720863e-01  \n",
       "16  7.864960e-03  5.243306e-02  \n",
       "17  5.872282e-01  9.720863e-01  \n",
       "18  2.497988e-01  6.244971e-01  \n",
       "19  1.000000e+00  1.000000e+00  "
      ]
     },
     "execution_count": 9,
     "metadata": {},
     "output_type": "execute_result"
    }
   ],
   "source": [
    "results = gp_counts.Model_selection_test(likelihood)\n",
    "results"
   ]
  }
 ],
 "metadata": {
  "kernelspec": {
   "display_name": "Python [conda env:GPC_test_3.12] *",
   "language": "python",
   "name": "conda-env-GPC_test_3.12-py"
  },
  "language_info": {
   "codemirror_mode": {
    "name": "ipython",
    "version": 3
   },
   "file_extension": ".py",
   "mimetype": "text/x-python",
   "name": "python",
   "nbconvert_exporter": "python",
   "pygments_lexer": "ipython3",
   "version": "3.12.8"
  }
 },
 "nbformat": 4,
 "nbformat_minor": 4
}
