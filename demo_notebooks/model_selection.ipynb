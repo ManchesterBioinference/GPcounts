{
 "cells": [
  {
   "cell_type": "markdown",
   "metadata": {},
   "source": [
    "# Automatic model selection based on linear, periodic and RBF kernels\n",
    "\n",
    "The test is run on the first 20 spatially varied genes inferred from 'GPcounts_spatial.ipynb'. "
   ]
  },
  {
   "cell_type": "code",
   "execution_count": 1,
   "metadata": {
    "ExecuteTime": {
     "end_time": "2020-10-23T08:08:22.722050Z",
     "start_time": "2020-10-23T08:08:18.061948Z"
    }
   },
   "outputs": [],
   "source": [
    "import pandas as pd \n",
    "import numpy as np \n",
    "import gpflow\n",
    "import tensorflow as tf\n",
    "from GPcounts.RNA_seq_GP import rna_seq_gp\n",
    "from matplotlib import pyplot as plt"
   ]
  },
  {
   "cell_type": "code",
   "execution_count": 2,
   "metadata": {
    "ExecuteTime": {
     "end_time": "2020-10-23T08:08:26.536258Z",
     "start_time": "2020-10-23T08:08:22.724633Z"
    }
   },
   "outputs": [],
   "source": [
    "Y = pd.read_csv('../data/MouseOB/mouse_ob_SV_genes.csv', index_col=[0]) # File with all the spatially varied genes inferred from 'GPcounts_spatial.ipynb'\n",
    "Y_total = pd.read_csv('../data/MouseOB/Rep11_MOB_0.csv', index_col=[0]) #  File with the MOUSE-OB counts dataset for all the genes\n",
    "scale = pd.read_csv('../data/MouseOB/scales_nb.txt', sep=\"\\t\") #  File with the scale factors for all the genes. This is to extract the scale factors for the particular spatially varied genes for the purposes of this analysis"
   ]
  },
  {
   "cell_type": "code",
   "execution_count": 3,
   "metadata": {
    "ExecuteTime": {
     "end_time": "2020-10-23T08:08:26.549407Z",
     "start_time": "2020-10-23T08:08:26.539054Z"
    }
   },
   "outputs": [],
   "source": [
    "spatial_locations = pd.DataFrame(index=Y.index)\n",
    "spatial_locations['x'] = Y.index.str.split('x').str.get(0).map(float)\n",
    "spatial_locations['y'] = Y.index.str.split('x').str.get(1).map(float)"
   ]
  },
  {
   "cell_type": "code",
   "execution_count": 4,
   "metadata": {
    "ExecuteTime": {
     "end_time": "2020-10-23T08:08:26.559591Z",
     "start_time": "2020-10-23T08:08:26.552574Z"
    }
   },
   "outputs": [],
   "source": [
    "spatial_locations['total_counts'] = Y.sum(1)\n",
    "Y = Y.loc[spatial_locations.index]\n",
    "X = spatial_locations[['x','y']]"
   ]
  },
  {
   "cell_type": "code",
   "execution_count": 5,
   "metadata": {},
   "outputs": [],
   "source": [
    "scale_nb_model_sel_tr = pd.read_csv('../data/MouseOB/scale_nb_model_sel.csv', index_col=[0])"
   ]
  },
  {
   "cell_type": "code",
   "execution_count": 6,
   "metadata": {
    "ExecuteTime": {
     "end_time": "2020-10-23T08:09:24.812335Z",
     "start_time": "2020-10-23T08:09:24.806923Z"
    }
   },
   "outputs": [],
   "source": [
    "Y = Y_total.T"
   ]
  },
  {
   "cell_type": "code",
   "execution_count": 7,
   "metadata": {
    "ExecuteTime": {
     "end_time": "2020-10-23T08:10:47.513539Z",
     "start_time": "2020-10-23T08:10:47.508975Z"
    }
   },
   "outputs": [],
   "source": [
    "Y_run = Y.iloc[0:20,:]  # Run model_selection for the first 20 spatially varied genes  "
   ]
  },
  {
   "cell_type": "code",
   "execution_count": 8,
   "metadata": {
    "ExecuteTime": {
     "end_time": "2020-10-23T08:10:48.708758Z",
     "start_time": "2020-10-23T08:10:48.703130Z"
    }
   },
   "outputs": [],
   "source": [
    "gene_name = []\n",
    "scale = scale_nb_model_sel_tr \n",
    "gene_name = Y_run.index\n",
    "likelihood = 'Negative_binomial' \n",
    "gp_counts = rna_seq_gp(X,Y_run.loc[gene_name], scale = scale,safe_mode=False)\n",
    " "
   ]
  },
  {
   "cell_type": "code",
   "execution_count": 9,
   "metadata": {
    "ExecuteTime": {
     "end_time": "2020-10-23T08:23:07.404938Z",
     "start_time": "2020-10-23T08:10:52.298657Z"
    }
   },
   "outputs": [
    {
     "name": "stderr",
     "output_type": "stream",
     "text": [
      "\r",
      "  0%|                                                    | 0/20 [00:00<?, ?it/s]"
     ]
    },
    {
     "name": "stdout",
     "output_type": "stream",
     "text": [
      "Fitting GP with Linear Kernel\n"
     ]
    },
    {
     "name": "stderr",
     "output_type": "stream",
     "text": [
      "\r",
      "  5%|██▏                                         | 1/20 [00:02<00:43,  2.27s/it]"
     ]
    },
    {
     "name": "stdout",
     "output_type": "stream",
     "text": [
      "Fitting GP with Linear Kernel\n"
     ]
    },
    {
     "name": "stderr",
     "output_type": "stream",
     "text": [
      "\r",
      " 10%|████▍                                       | 2/20 [00:03<00:35,  1.95s/it]"
     ]
    },
    {
     "name": "stdout",
     "output_type": "stream",
     "text": [
      "Fitting GP with Linear Kernel\n"
     ]
    },
    {
     "name": "stderr",
     "output_type": "stream",
     "text": [
      "\r",
      " 15%|██████▌                                     | 3/20 [00:06<00:34,  2.02s/it]"
     ]
    },
    {
     "name": "stdout",
     "output_type": "stream",
     "text": [
      "Fitting GP with Linear Kernel\n"
     ]
    },
    {
     "name": "stderr",
     "output_type": "stream",
     "text": [
      "\r",
      " 20%|████████▊                                   | 4/20 [00:07<00:31,  1.96s/it]"
     ]
    },
    {
     "name": "stdout",
     "output_type": "stream",
     "text": [
      "Fitting GP with Linear Kernel\n"
     ]
    },
    {
     "name": "stderr",
     "output_type": "stream",
     "text": [
      "\r",
      " 25%|███████████                                 | 5/20 [00:09<00:29,  1.93s/it]"
     ]
    },
    {
     "name": "stdout",
     "output_type": "stream",
     "text": [
      "Fitting GP with Linear Kernel\n"
     ]
    },
    {
     "name": "stderr",
     "output_type": "stream",
     "text": [
      "\r",
      " 30%|█████████████▏                              | 6/20 [00:12<00:29,  2.10s/it]"
     ]
    },
    {
     "name": "stdout",
     "output_type": "stream",
     "text": [
      "Fitting GP with Linear Kernel\n"
     ]
    },
    {
     "name": "stderr",
     "output_type": "stream",
     "text": [
      "\r",
      " 35%|███████████████▍                            | 7/20 [00:14<00:26,  2.03s/it]"
     ]
    },
    {
     "name": "stdout",
     "output_type": "stream",
     "text": [
      "Fitting GP with Linear Kernel\n"
     ]
    },
    {
     "name": "stderr",
     "output_type": "stream",
     "text": [
      "\r",
      " 40%|█████████████████▌                          | 8/20 [00:16<00:27,  2.25s/it]"
     ]
    },
    {
     "name": "stdout",
     "output_type": "stream",
     "text": [
      "Fitting GP with Linear Kernel\n"
     ]
    },
    {
     "name": "stderr",
     "output_type": "stream",
     "text": [
      "\r",
      " 45%|███████████████████▊                        | 9/20 [00:18<00:23,  2.09s/it]"
     ]
    },
    {
     "name": "stdout",
     "output_type": "stream",
     "text": [
      "Fitting GP with Linear Kernel\n"
     ]
    },
    {
     "name": "stderr",
     "output_type": "stream",
     "text": [
      "\r",
      " 50%|█████████████████████▌                     | 10/20 [00:20<00:20,  2.09s/it]"
     ]
    },
    {
     "name": "stdout",
     "output_type": "stream",
     "text": [
      "Fitting GP with Linear Kernel\n"
     ]
    },
    {
     "name": "stderr",
     "output_type": "stream",
     "text": [
      "\r",
      " 55%|███████████████████████▋                   | 11/20 [00:22<00:17,  1.94s/it]"
     ]
    },
    {
     "name": "stdout",
     "output_type": "stream",
     "text": [
      "Fitting GP with Linear Kernel\n"
     ]
    },
    {
     "name": "stderr",
     "output_type": "stream",
     "text": [
      "\r",
      " 60%|█████████████████████████▊                 | 12/20 [00:23<00:14,  1.86s/it]"
     ]
    },
    {
     "name": "stdout",
     "output_type": "stream",
     "text": [
      "Fitting GP with Linear Kernel\n",
      "Fitting GP with Linear Kernel\n",
      "Fitting GP with Linear Kernel\n"
     ]
    },
    {
     "name": "stderr",
     "output_type": "stream",
     "text": [
      "\r",
      " 65%|███████████████████████████▉               | 13/20 [00:26<00:14,  2.09s/it]"
     ]
    },
    {
     "name": "stdout",
     "output_type": "stream",
     "text": [
      "Fitting GP with Linear Kernel\n"
     ]
    },
    {
     "name": "stderr",
     "output_type": "stream",
     "text": [
      "\r",
      " 70%|██████████████████████████████             | 14/20 [00:28<00:11,  1.99s/it]"
     ]
    },
    {
     "name": "stdout",
     "output_type": "stream",
     "text": [
      "Fitting GP with Linear Kernel\n"
     ]
    },
    {
     "name": "stderr",
     "output_type": "stream",
     "text": [
      "\r",
      " 75%|████████████████████████████████▎          | 15/20 [00:29<00:09,  1.85s/it]"
     ]
    },
    {
     "name": "stdout",
     "output_type": "stream",
     "text": [
      "Fitting GP with Linear Kernel\n"
     ]
    },
    {
     "name": "stderr",
     "output_type": "stream",
     "text": [
      "\r",
      " 80%|██████████████████████████████████▍        | 16/20 [00:31<00:06,  1.75s/it]"
     ]
    },
    {
     "name": "stdout",
     "output_type": "stream",
     "text": [
      "Fitting GP with Linear Kernel\n"
     ]
    },
    {
     "name": "stderr",
     "output_type": "stream",
     "text": [
      "\r",
      " 85%|████████████████████████████████████▌      | 17/20 [00:32<00:05,  1.69s/it]"
     ]
    },
    {
     "name": "stdout",
     "output_type": "stream",
     "text": [
      "Fitting GP with Linear Kernel\n"
     ]
    },
    {
     "name": "stderr",
     "output_type": "stream",
     "text": [
      "\r",
      " 90%|██████████████████████████████████████▋    | 18/20 [00:34<00:03,  1.70s/it]"
     ]
    },
    {
     "name": "stdout",
     "output_type": "stream",
     "text": [
      "Fitting GP with Linear Kernel\n"
     ]
    },
    {
     "name": "stderr",
     "output_type": "stream",
     "text": [
      "\r",
      " 95%|████████████████████████████████████████▊  | 19/20 [00:36<00:01,  1.61s/it]"
     ]
    },
    {
     "name": "stdout",
     "output_type": "stream",
     "text": [
      "Fitting GP with Linear Kernel\n"
     ]
    },
    {
     "name": "stderr",
     "output_type": "stream",
     "text": [
      "100%|███████████████████████████████████████████| 20/20 [00:37<00:00,  1.87s/it]\n",
      "/Users/nuhasaud/anaconda3/envs/testGPcounts/lib/python3.11/site-packages/GPcounts/RNA_seq_GP.py:412: FutureWarning: Series.ravel is deprecated. The underlying array is already 1D, so ravel is not necessary.  Use `to_numpy()` for conversion to a numpy array instead.\n",
      "  pv = pv.ravel()  # flattens the array in place, more efficient than flatten()\n",
      "/Users/nuhasaud/anaconda3/envs/testGPcounts/lib/python3.11/site-packages/GPcounts/RNA_seq_GP.py:503: FutureWarning: The provided callable <built-in function min> is currently using SeriesGroupBy.min. In a future version of pandas, the provided callable will be used directly. To keep current behavior pass the string \"min\" instead.\n",
      "  selection_results.groupby([\"Gene\", \"Model\"])[\"BIC\"].transform(min)\n",
      "/Users/nuhasaud/anaconda3/envs/testGPcounts/lib/python3.11/site-packages/GPcounts/RNA_seq_GP.py:520: FutureWarning: The provided callable <built-in function min> is currently using SeriesGroupBy.min. In a future version of pandas, the provided callable will be used directly. To keep current behavior pass the string \"min\" instead.\n",
      "  selection_results.groupby(\"Gene\")[\"BIC\"].transform(min)\n",
      "  0%|                                                    | 0/20 [00:00<?, ?it/s]"
     ]
    },
    {
     "name": "stdout",
     "output_type": "stream",
     "text": [
      "Fitting GP with Periodic Kernel\n"
     ]
    },
    {
     "name": "stderr",
     "output_type": "stream",
     "text": [
      "\r",
      "  5%|██▏                                         | 1/20 [00:04<01:25,  4.51s/it]"
     ]
    },
    {
     "name": "stdout",
     "output_type": "stream",
     "text": [
      "Fitting GP with Periodic Kernel\n"
     ]
    },
    {
     "name": "stderr",
     "output_type": "stream",
     "text": [
      "\r",
      " 10%|████▍                                       | 2/20 [00:13<02:11,  7.29s/it]"
     ]
    },
    {
     "name": "stdout",
     "output_type": "stream",
     "text": [
      "Fitting GP with Periodic Kernel\n"
     ]
    },
    {
     "name": "stderr",
     "output_type": "stream",
     "text": [
      "\r",
      " 15%|██████▌                                     | 3/20 [00:18<01:45,  6.20s/it]"
     ]
    },
    {
     "name": "stdout",
     "output_type": "stream",
     "text": [
      "Fitting GP with Periodic Kernel\n"
     ]
    },
    {
     "name": "stderr",
     "output_type": "stream",
     "text": [
      "\r",
      " 20%|████████▊                                   | 4/20 [00:24<01:34,  5.92s/it]"
     ]
    },
    {
     "name": "stdout",
     "output_type": "stream",
     "text": [
      "Fitting GP with Periodic Kernel\n"
     ]
    },
    {
     "name": "stderr",
     "output_type": "stream",
     "text": [
      "\r",
      " 25%|███████████                                 | 5/20 [00:30<01:32,  6.14s/it]"
     ]
    },
    {
     "name": "stdout",
     "output_type": "stream",
     "text": [
      "Fitting GP with Periodic Kernel\n"
     ]
    },
    {
     "name": "stderr",
     "output_type": "stream",
     "text": [
      "\r",
      " 30%|█████████████▏                              | 6/20 [00:41<01:48,  7.72s/it]"
     ]
    },
    {
     "name": "stdout",
     "output_type": "stream",
     "text": [
      "Fitting GP with Periodic Kernel\n"
     ]
    },
    {
     "name": "stderr",
     "output_type": "stream",
     "text": [
      "\r",
      " 35%|███████████████▍                            | 7/20 [00:45<01:25,  6.54s/it]"
     ]
    },
    {
     "name": "stdout",
     "output_type": "stream",
     "text": [
      "Fitting GP with Periodic Kernel\n"
     ]
    },
    {
     "name": "stderr",
     "output_type": "stream",
     "text": [
      "\r",
      " 40%|█████████████████▌                          | 8/20 [00:51<01:15,  6.30s/it]"
     ]
    },
    {
     "name": "stdout",
     "output_type": "stream",
     "text": [
      "Fitting GP with Periodic Kernel\n"
     ]
    },
    {
     "name": "stderr",
     "output_type": "stream",
     "text": [
      "\r",
      " 45%|███████████████████▊                        | 9/20 [00:55<01:02,  5.65s/it]"
     ]
    },
    {
     "name": "stdout",
     "output_type": "stream",
     "text": [
      "Fitting GP with Periodic Kernel\n"
     ]
    },
    {
     "name": "stderr",
     "output_type": "stream",
     "text": [
      "\r",
      " 50%|█████████████████████▌                     | 10/20 [01:04<01:05,  6.53s/it]"
     ]
    },
    {
     "name": "stdout",
     "output_type": "stream",
     "text": [
      "Fitting GP with Periodic Kernel\n"
     ]
    },
    {
     "name": "stderr",
     "output_type": "stream",
     "text": [
      "\r",
      " 55%|███████████████████████▋                   | 11/20 [01:11<01:02,  6.96s/it]"
     ]
    },
    {
     "name": "stdout",
     "output_type": "stream",
     "text": [
      "Fitting GP with Periodic Kernel\n"
     ]
    },
    {
     "name": "stderr",
     "output_type": "stream",
     "text": [
      "\r",
      " 60%|█████████████████████████▊                 | 12/20 [01:14<00:44,  5.61s/it]"
     ]
    },
    {
     "name": "stdout",
     "output_type": "stream",
     "text": [
      "Fitting GP with Periodic Kernel\n"
     ]
    },
    {
     "name": "stderr",
     "output_type": "stream",
     "text": [
      "\r",
      " 65%|███████████████████████████▉               | 13/20 [01:23<00:47,  6.78s/it]"
     ]
    },
    {
     "name": "stdout",
     "output_type": "stream",
     "text": [
      "Fitting GP with Periodic Kernel\n"
     ]
    },
    {
     "name": "stderr",
     "output_type": "stream",
     "text": [
      "\r",
      " 70%|██████████████████████████████             | 14/20 [01:30<00:40,  6.81s/it]"
     ]
    },
    {
     "name": "stdout",
     "output_type": "stream",
     "text": [
      "Fitting GP with Periodic Kernel\n"
     ]
    },
    {
     "name": "stderr",
     "output_type": "stream",
     "text": [
      "\r",
      " 75%|████████████████████████████████▎          | 15/20 [01:36<00:31,  6.32s/it]"
     ]
    },
    {
     "name": "stdout",
     "output_type": "stream",
     "text": [
      "Fitting GP with Periodic Kernel\n"
     ]
    },
    {
     "name": "stderr",
     "output_type": "stream",
     "text": [
      "\r",
      " 80%|██████████████████████████████████▍        | 16/20 [01:39<00:22,  5.52s/it]"
     ]
    },
    {
     "name": "stdout",
     "output_type": "stream",
     "text": [
      "Fitting GP with Periodic Kernel\n"
     ]
    },
    {
     "name": "stderr",
     "output_type": "stream",
     "text": [
      "\r",
      " 85%|████████████████████████████████████▌      | 17/20 [01:44<00:15,  5.32s/it]"
     ]
    },
    {
     "name": "stdout",
     "output_type": "stream",
     "text": [
      "Fitting GP with Periodic Kernel\n"
     ]
    },
    {
     "name": "stderr",
     "output_type": "stream",
     "text": [
      "\r",
      " 90%|██████████████████████████████████████▋    | 18/20 [01:48<00:09,  4.84s/it]"
     ]
    },
    {
     "name": "stdout",
     "output_type": "stream",
     "text": [
      "Fitting GP with Periodic Kernel\n"
     ]
    },
    {
     "name": "stderr",
     "output_type": "stream",
     "text": [
      "\r",
      " 95%|████████████████████████████████████████▊  | 19/20 [02:00<00:07,  7.09s/it]"
     ]
    },
    {
     "name": "stdout",
     "output_type": "stream",
     "text": [
      "Fitting GP with Periodic Kernel\n"
     ]
    },
    {
     "name": "stderr",
     "output_type": "stream",
     "text": [
      "100%|███████████████████████████████████████████| 20/20 [02:04<00:00,  6.21s/it]\n",
      "/Users/nuhasaud/anaconda3/envs/testGPcounts/lib/python3.11/site-packages/GPcounts/RNA_seq_GP.py:412: FutureWarning: Series.ravel is deprecated. The underlying array is already 1D, so ravel is not necessary.  Use `to_numpy()` for conversion to a numpy array instead.\n",
      "  pv = pv.ravel()  # flattens the array in place, more efficient than flatten()\n",
      "/Users/nuhasaud/anaconda3/envs/testGPcounts/lib/python3.11/site-packages/GPcounts/RNA_seq_GP.py:503: FutureWarning: The provided callable <built-in function min> is currently using SeriesGroupBy.min. In a future version of pandas, the provided callable will be used directly. To keep current behavior pass the string \"min\" instead.\n",
      "  selection_results.groupby([\"Gene\", \"Model\"])[\"BIC\"].transform(min)\n",
      "/Users/nuhasaud/anaconda3/envs/testGPcounts/lib/python3.11/site-packages/GPcounts/RNA_seq_GP.py:520: FutureWarning: The provided callable <built-in function min> is currently using SeriesGroupBy.min. In a future version of pandas, the provided callable will be used directly. To keep current behavior pass the string \"min\" instead.\n",
      "  selection_results.groupby(\"Gene\")[\"BIC\"].transform(min)\n",
      "100%|███████████████████████████████████████████| 20/20 [01:29<00:00,  4.49s/it]\n",
      "/Users/nuhasaud/anaconda3/envs/testGPcounts/lib/python3.11/site-packages/GPcounts/RNA_seq_GP.py:412: FutureWarning: Series.ravel is deprecated. The underlying array is already 1D, so ravel is not necessary.  Use `to_numpy()` for conversion to a numpy array instead.\n",
      "  pv = pv.ravel()  # flattens the array in place, more efficient than flatten()\n",
      "/Users/nuhasaud/anaconda3/envs/testGPcounts/lib/python3.11/site-packages/GPcounts/RNA_seq_GP.py:503: FutureWarning: The provided callable <built-in function min> is currently using SeriesGroupBy.min. In a future version of pandas, the provided callable will be used directly. To keep current behavior pass the string \"min\" instead.\n",
      "  selection_results.groupby([\"Gene\", \"Model\"])[\"BIC\"].transform(min)\n",
      "/Users/nuhasaud/anaconda3/envs/testGPcounts/lib/python3.11/site-packages/GPcounts/RNA_seq_GP.py:520: FutureWarning: The provided callable <built-in function min> is currently using SeriesGroupBy.min. In a future version of pandas, the provided callable will be used directly. To keep current behavior pass the string \"min\" instead.\n",
      "  selection_results.groupby(\"Gene\")[\"BIC\"].transform(min)\n"
     ]
    },
    {
     "data": {
      "text/html": [
       "<div>\n",
       "<style scoped>\n",
       "    .dataframe tbody tr th:only-of-type {\n",
       "        vertical-align: middle;\n",
       "    }\n",
       "\n",
       "    .dataframe tbody tr th {\n",
       "        vertical-align: top;\n",
       "    }\n",
       "\n",
       "    .dataframe thead th {\n",
       "        text-align: right;\n",
       "    }\n",
       "</style>\n",
       "<table border=\"1\" class=\"dataframe\">\n",
       "  <thead>\n",
       "    <tr style=\"text-align: right;\">\n",
       "      <th></th>\n",
       "      <th>Gene</th>\n",
       "      <th>Dynamic_model_log_likelihood</th>\n",
       "      <th>Constant_model_log_likelihood</th>\n",
       "      <th>log_likelihood_ratio</th>\n",
       "      <th>Model</th>\n",
       "      <th>BIC</th>\n",
       "      <th>Linear_probability</th>\n",
       "      <th>Periodic_probability</th>\n",
       "      <th>RBF_probability</th>\n",
       "      <th>p_value</th>\n",
       "      <th>q_value</th>\n",
       "    </tr>\n",
       "  </thead>\n",
       "  <tbody>\n",
       "    <tr>\n",
       "      <th>0</th>\n",
       "      <td>2010300C02Rik</td>\n",
       "      <td>-660.240087</td>\n",
       "      <td>-683.893721</td>\n",
       "      <td>23.653634</td>\n",
       "      <td>RBF</td>\n",
       "      <td>1342.722901</td>\n",
       "      <td>1.729649e-27</td>\n",
       "      <td>5.924818e-11</td>\n",
       "      <td>1.000000</td>\n",
       "      <td>6.068701e-12</td>\n",
       "      <td>1.213740e-10</td>\n",
       "    </tr>\n",
       "    <tr>\n",
       "      <th>1</th>\n",
       "      <td>Ate1</td>\n",
       "      <td>-507.338327</td>\n",
       "      <td>-511.078156</td>\n",
       "      <td>3.739829</td>\n",
       "      <td>Periodic</td>\n",
       "      <td>1036.919381</td>\n",
       "      <td>4.893894e-59</td>\n",
       "      <td>9.996985e-01</td>\n",
       "      <td>0.000302</td>\n",
       "      <td>6.239994e-03</td>\n",
       "      <td>5.244739e-02</td>\n",
       "    </tr>\n",
       "    <tr>\n",
       "      <th>2</th>\n",
       "      <td>Atp5j2</td>\n",
       "      <td>-674.507850</td>\n",
       "      <td>-674.590755</td>\n",
       "      <td>0.082905</td>\n",
       "      <td>Periodic</td>\n",
       "      <td>1371.258427</td>\n",
       "      <td>3.854618e-10</td>\n",
       "      <td>5.414766e-01</td>\n",
       "      <td>0.458523</td>\n",
       "      <td>6.838624e-01</td>\n",
       "      <td>9.720777e-01</td>\n",
       "    </tr>\n",
       "    <tr>\n",
       "      <th>3</th>\n",
       "      <td>B3gat3</td>\n",
       "      <td>-535.283282</td>\n",
       "      <td>-537.341643</td>\n",
       "      <td>2.058361</td>\n",
       "      <td>RBF</td>\n",
       "      <td>1092.809290</td>\n",
       "      <td>1.015702e-05</td>\n",
       "      <td>2.626505e-01</td>\n",
       "      <td>0.737339</td>\n",
       "      <td>4.246129e-02</td>\n",
       "      <td>2.830753e-01</td>\n",
       "    </tr>\n",
       "    <tr>\n",
       "      <th>4</th>\n",
       "      <td>Bbs1</td>\n",
       "      <td>-404.194203</td>\n",
       "      <td>-404.421127</td>\n",
       "      <td>0.226924</td>\n",
       "      <td>Periodic</td>\n",
       "      <td>830.631132</td>\n",
       "      <td>9.559636e-41</td>\n",
       "      <td>6.017298e-01</td>\n",
       "      <td>0.398270</td>\n",
       "      <td>5.005132e-01</td>\n",
       "      <td>9.720777e-01</td>\n",
       "    </tr>\n",
       "    <tr>\n",
       "      <th>5</th>\n",
       "      <td>Ccnl1</td>\n",
       "      <td>-475.367135</td>\n",
       "      <td>-474.892580</td>\n",
       "      <td>-0.474555</td>\n",
       "      <td>Periodic</td>\n",
       "      <td>972.976996</td>\n",
       "      <td>5.090038e-57</td>\n",
       "      <td>5.437016e-01</td>\n",
       "      <td>0.456298</td>\n",
       "      <td>1.000000e+00</td>\n",
       "      <td>1.000000e+00</td>\n",
       "    </tr>\n",
       "    <tr>\n",
       "      <th>6</th>\n",
       "      <td>Inpp5f</td>\n",
       "      <td>-642.021103</td>\n",
       "      <td>-642.098449</td>\n",
       "      <td>0.077346</td>\n",
       "      <td>Periodic</td>\n",
       "      <td>1306.284932</td>\n",
       "      <td>3.638407e-18</td>\n",
       "      <td>5.216895e-01</td>\n",
       "      <td>0.478311</td>\n",
       "      <td>6.940912e-01</td>\n",
       "      <td>9.720777e-01</td>\n",
       "    </tr>\n",
       "    <tr>\n",
       "      <th>7</th>\n",
       "      <td>Lix1</td>\n",
       "      <td>-619.397085</td>\n",
       "      <td>-620.574537</td>\n",
       "      <td>1.177452</td>\n",
       "      <td>RBF</td>\n",
       "      <td>1261.036896</td>\n",
       "      <td>1.349697e-77</td>\n",
       "      <td>8.143098e-02</td>\n",
       "      <td>0.918569</td>\n",
       "      <td>1.248896e-01</td>\n",
       "      <td>5.038589e-01</td>\n",
       "    </tr>\n",
       "    <tr>\n",
       "      <th>8</th>\n",
       "      <td>Lrrfip1</td>\n",
       "      <td>-429.752214</td>\n",
       "      <td>-430.922986</td>\n",
       "      <td>1.170771</td>\n",
       "      <td>RBF</td>\n",
       "      <td>881.747155</td>\n",
       "      <td>1.571972e-25</td>\n",
       "      <td>1.093643e-01</td>\n",
       "      <td>0.890636</td>\n",
       "      <td>1.259647e-01</td>\n",
       "      <td>5.038589e-01</td>\n",
       "    </tr>\n",
       "    <tr>\n",
       "      <th>9</th>\n",
       "      <td>Nap1l1</td>\n",
       "      <td>-703.545063</td>\n",
       "      <td>-709.646140</td>\n",
       "      <td>6.101077</td>\n",
       "      <td>RBF</td>\n",
       "      <td>1429.332852</td>\n",
       "      <td>1.394057e-11</td>\n",
       "      <td>5.685395e-04</td>\n",
       "      <td>0.999431</td>\n",
       "      <td>4.773436e-04</td>\n",
       "      <td>4.773436e-03</td>\n",
       "    </tr>\n",
       "    <tr>\n",
       "      <th>10</th>\n",
       "      <td>Ndufaf6</td>\n",
       "      <td>-219.118769</td>\n",
       "      <td>-219.147336</td>\n",
       "      <td>0.028567</td>\n",
       "      <td>Periodic</td>\n",
       "      <td>460.480265</td>\n",
       "      <td>2.047718e-12</td>\n",
       "      <td>5.177712e-01</td>\n",
       "      <td>0.482229</td>\n",
       "      <td>8.110844e-01</td>\n",
       "      <td>1.000000e+00</td>\n",
       "    </tr>\n",
       "    <tr>\n",
       "      <th>11</th>\n",
       "      <td>Nrf1</td>\n",
       "      <td>-253.154904</td>\n",
       "      <td>-254.223469</td>\n",
       "      <td>1.068565</td>\n",
       "      <td>Periodic</td>\n",
       "      <td>528.552534</td>\n",
       "      <td>1.343272e-47</td>\n",
       "      <td>9.837163e-01</td>\n",
       "      <td>0.016284</td>\n",
       "      <td>1.437707e-01</td>\n",
       "      <td>4.792356e-01</td>\n",
       "    </tr>\n",
       "    <tr>\n",
       "      <th>12</th>\n",
       "      <td>Polr3k</td>\n",
       "      <td>-364.163571</td>\n",
       "      <td>-364.312303</td>\n",
       "      <td>0.148733</td>\n",
       "      <td>Periodic</td>\n",
       "      <td>750.569868</td>\n",
       "      <td>5.524128e-12</td>\n",
       "      <td>5.743139e-01</td>\n",
       "      <td>0.425686</td>\n",
       "      <td>5.854757e-01</td>\n",
       "      <td>9.720777e-01</td>\n",
       "    </tr>\n",
       "    <tr>\n",
       "      <th>13</th>\n",
       "      <td>Rab34</td>\n",
       "      <td>-408.470067</td>\n",
       "      <td>-408.476416</td>\n",
       "      <td>0.006350</td>\n",
       "      <td>Periodic</td>\n",
       "      <td>839.182860</td>\n",
       "      <td>5.607714e-22</td>\n",
       "      <td>5.034551e-01</td>\n",
       "      <td>0.496545</td>\n",
       "      <td>9.102760e-01</td>\n",
       "      <td>1.000000e+00</td>\n",
       "    </tr>\n",
       "    <tr>\n",
       "      <th>14</th>\n",
       "      <td>Slc1a3</td>\n",
       "      <td>-1123.068201</td>\n",
       "      <td>-1123.916832</td>\n",
       "      <td>0.848631</td>\n",
       "      <td>Periodic</td>\n",
       "      <td>2268.379129</td>\n",
       "      <td>1.219944e-22</td>\n",
       "      <td>5.015507e-01</td>\n",
       "      <td>0.498449</td>\n",
       "      <td>1.926465e-01</td>\n",
       "      <td>5.504187e-01</td>\n",
       "    </tr>\n",
       "    <tr>\n",
       "      <th>15</th>\n",
       "      <td>Srgap3</td>\n",
       "      <td>-646.976857</td>\n",
       "      <td>-647.036846</td>\n",
       "      <td>0.059989</td>\n",
       "      <td>Periodic</td>\n",
       "      <td>1316.196440</td>\n",
       "      <td>3.560995e-09</td>\n",
       "      <td>5.299630e-01</td>\n",
       "      <td>0.470037</td>\n",
       "      <td>7.290583e-01</td>\n",
       "      <td>9.720777e-01</td>\n",
       "    </tr>\n",
       "    <tr>\n",
       "      <th>16</th>\n",
       "      <td>Tnpo2</td>\n",
       "      <td>-516.097831</td>\n",
       "      <td>-519.629570</td>\n",
       "      <td>3.531739</td>\n",
       "      <td>Periodic</td>\n",
       "      <td>1054.438389</td>\n",
       "      <td>4.596354e-07</td>\n",
       "      <td>9.990849e-01</td>\n",
       "      <td>0.000915</td>\n",
       "      <td>7.867109e-03</td>\n",
       "      <td>5.244739e-02</td>\n",
       "    </tr>\n",
       "    <tr>\n",
       "      <th>17</th>\n",
       "      <td>Ubac1</td>\n",
       "      <td>-522.925620</td>\n",
       "      <td>-523.073087</td>\n",
       "      <td>0.147467</td>\n",
       "      <td>Periodic</td>\n",
       "      <td>1068.093967</td>\n",
       "      <td>8.665420e-06</td>\n",
       "      <td>5.732117e-01</td>\n",
       "      <td>0.426780</td>\n",
       "      <td>5.870761e-01</td>\n",
       "      <td>9.720777e-01</td>\n",
       "    </tr>\n",
       "    <tr>\n",
       "      <th>18</th>\n",
       "      <td>Whrn</td>\n",
       "      <td>-348.070086</td>\n",
       "      <td>-348.732178</td>\n",
       "      <td>0.662092</td>\n",
       "      <td>Periodic</td>\n",
       "      <td>718.382898</td>\n",
       "      <td>1.419015e-34</td>\n",
       "      <td>7.972458e-01</td>\n",
       "      <td>0.202754</td>\n",
       "      <td>2.498425e-01</td>\n",
       "      <td>6.246061e-01</td>\n",
       "    </tr>\n",
       "    <tr>\n",
       "      <th>19</th>\n",
       "      <td>Zbtb5</td>\n",
       "      <td>-269.010821</td>\n",
       "      <td>-269.012340</td>\n",
       "      <td>0.001519</td>\n",
       "      <td>Periodic</td>\n",
       "      <td>560.264369</td>\n",
       "      <td>1.215490e-46</td>\n",
       "      <td>9.348206e-01</td>\n",
       "      <td>0.065179</td>\n",
       "      <td>9.560412e-01</td>\n",
       "      <td>1.000000e+00</td>\n",
       "    </tr>\n",
       "  </tbody>\n",
       "</table>\n",
       "</div>"
      ],
      "text/plain": [
       "             Gene  Dynamic_model_log_likelihood  \\\n",
       "0   2010300C02Rik                   -660.240087   \n",
       "1            Ate1                   -507.338327   \n",
       "2          Atp5j2                   -674.507850   \n",
       "3          B3gat3                   -535.283282   \n",
       "4            Bbs1                   -404.194203   \n",
       "5           Ccnl1                   -475.367135   \n",
       "6          Inpp5f                   -642.021103   \n",
       "7            Lix1                   -619.397085   \n",
       "8         Lrrfip1                   -429.752214   \n",
       "9          Nap1l1                   -703.545063   \n",
       "10        Ndufaf6                   -219.118769   \n",
       "11           Nrf1                   -253.154904   \n",
       "12         Polr3k                   -364.163571   \n",
       "13          Rab34                   -408.470067   \n",
       "14         Slc1a3                  -1123.068201   \n",
       "15         Srgap3                   -646.976857   \n",
       "16          Tnpo2                   -516.097831   \n",
       "17          Ubac1                   -522.925620   \n",
       "18           Whrn                   -348.070086   \n",
       "19          Zbtb5                   -269.010821   \n",
       "\n",
       "    Constant_model_log_likelihood  log_likelihood_ratio     Model  \\\n",
       "0                     -683.893721             23.653634       RBF   \n",
       "1                     -511.078156              3.739829  Periodic   \n",
       "2                     -674.590755              0.082905  Periodic   \n",
       "3                     -537.341643              2.058361       RBF   \n",
       "4                     -404.421127              0.226924  Periodic   \n",
       "5                     -474.892580             -0.474555  Periodic   \n",
       "6                     -642.098449              0.077346  Periodic   \n",
       "7                     -620.574537              1.177452       RBF   \n",
       "8                     -430.922986              1.170771       RBF   \n",
       "9                     -709.646140              6.101077       RBF   \n",
       "10                    -219.147336              0.028567  Periodic   \n",
       "11                    -254.223469              1.068565  Periodic   \n",
       "12                    -364.312303              0.148733  Periodic   \n",
       "13                    -408.476416              0.006350  Periodic   \n",
       "14                   -1123.916832              0.848631  Periodic   \n",
       "15                    -647.036846              0.059989  Periodic   \n",
       "16                    -519.629570              3.531739  Periodic   \n",
       "17                    -523.073087              0.147467  Periodic   \n",
       "18                    -348.732178              0.662092  Periodic   \n",
       "19                    -269.012340              0.001519  Periodic   \n",
       "\n",
       "            BIC  Linear_probability  Periodic_probability  RBF_probability  \\\n",
       "0   1342.722901        1.729649e-27          5.924818e-11         1.000000   \n",
       "1   1036.919381        4.893894e-59          9.996985e-01         0.000302   \n",
       "2   1371.258427        3.854618e-10          5.414766e-01         0.458523   \n",
       "3   1092.809290        1.015702e-05          2.626505e-01         0.737339   \n",
       "4    830.631132        9.559636e-41          6.017298e-01         0.398270   \n",
       "5    972.976996        5.090038e-57          5.437016e-01         0.456298   \n",
       "6   1306.284932        3.638407e-18          5.216895e-01         0.478311   \n",
       "7   1261.036896        1.349697e-77          8.143098e-02         0.918569   \n",
       "8    881.747155        1.571972e-25          1.093643e-01         0.890636   \n",
       "9   1429.332852        1.394057e-11          5.685395e-04         0.999431   \n",
       "10   460.480265        2.047718e-12          5.177712e-01         0.482229   \n",
       "11   528.552534        1.343272e-47          9.837163e-01         0.016284   \n",
       "12   750.569868        5.524128e-12          5.743139e-01         0.425686   \n",
       "13   839.182860        5.607714e-22          5.034551e-01         0.496545   \n",
       "14  2268.379129        1.219944e-22          5.015507e-01         0.498449   \n",
       "15  1316.196440        3.560995e-09          5.299630e-01         0.470037   \n",
       "16  1054.438389        4.596354e-07          9.990849e-01         0.000915   \n",
       "17  1068.093967        8.665420e-06          5.732117e-01         0.426780   \n",
       "18   718.382898        1.419015e-34          7.972458e-01         0.202754   \n",
       "19   560.264369        1.215490e-46          9.348206e-01         0.065179   \n",
       "\n",
       "         p_value       q_value  \n",
       "0   6.068701e-12  1.213740e-10  \n",
       "1   6.239994e-03  5.244739e-02  \n",
       "2   6.838624e-01  9.720777e-01  \n",
       "3   4.246129e-02  2.830753e-01  \n",
       "4   5.005132e-01  9.720777e-01  \n",
       "5   1.000000e+00  1.000000e+00  \n",
       "6   6.940912e-01  9.720777e-01  \n",
       "7   1.248896e-01  5.038589e-01  \n",
       "8   1.259647e-01  5.038589e-01  \n",
       "9   4.773436e-04  4.773436e-03  \n",
       "10  8.110844e-01  1.000000e+00  \n",
       "11  1.437707e-01  4.792356e-01  \n",
       "12  5.854757e-01  9.720777e-01  \n",
       "13  9.102760e-01  1.000000e+00  \n",
       "14  1.926465e-01  5.504187e-01  \n",
       "15  7.290583e-01  9.720777e-01  \n",
       "16  7.867109e-03  5.244739e-02  \n",
       "17  5.870761e-01  9.720777e-01  \n",
       "18  2.498425e-01  6.246061e-01  \n",
       "19  9.560412e-01  1.000000e+00  "
      ]
     },
     "execution_count": 9,
     "metadata": {},
     "output_type": "execute_result"
    }
   ],
   "source": [
    "results = gp_counts.Model_selection_test(likelihood)\n",
    "results"
   ]
  }
 ],
 "metadata": {
  "kernelspec": {
   "display_name": "Python [conda env:testGPcounts] *",
   "language": "python",
   "name": "conda-env-testGPcounts-py"
  },
  "language_info": {
   "codemirror_mode": {
    "name": "ipython",
    "version": 3
   },
   "file_extension": ".py",
   "mimetype": "text/x-python",
   "name": "python",
   "nbconvert_exporter": "python",
   "pygments_lexer": "ipython3",
   "version": "3.11.8"
  }
 },
 "nbformat": 4,
 "nbformat_minor": 4
}
