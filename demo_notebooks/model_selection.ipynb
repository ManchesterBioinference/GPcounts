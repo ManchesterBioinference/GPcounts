{
 "cells": [
  {
   "cell_type": "markdown",
   "metadata": {},
   "source": [
    "# Automatic model selection based on linear, periodic and RBF kernels\n",
    "\n",
    "The test is run on the first 20 spatially varied genes inferred from 'GPcounts_spatial.ipynb'. "
   ]
  },
  {
   "cell_type": "code",
   "execution_count": 1,
   "metadata": {
    "ExecuteTime": {
     "end_time": "2020-10-23T08:08:22.722050Z",
     "start_time": "2020-10-23T08:08:18.061948Z"
    }
   },
   "outputs": [],
   "source": [
    "import pandas as pd \n",
    "import numpy as np \n",
    "import gpflow\n",
    "import tensorflow as tf\n",
    "from GPcounts.GPcounts_Module import Fit_GPcounts\n",
    "from matplotlib import pyplot as plt"
   ]
  },
  {
   "cell_type": "code",
   "execution_count": 2,
   "metadata": {
    "ExecuteTime": {
     "end_time": "2020-10-23T08:08:26.536258Z",
     "start_time": "2020-10-23T08:08:22.724633Z"
    }
   },
   "outputs": [],
   "source": [
    "Y = pd.read_csv('../data/MouseOB/mouse_ob_SV_genes.csv', index_col=[0]) # File with all the spatially varied genes inferred from 'GPcounts_spatial.ipynb'\n",
    "Y_total = pd.read_csv('../data/MouseOB/Rep11_MOB_0.csv', index_col=[0]) #  File with the MOUSE-OB counts dataset for all the genes\n",
    "scale = pd.read_csv('../data/MouseOB/scales_nb_wholedataset.txt', sep=\"\\t\") #  File with the scale factors for all the genes. This is to extract the scale factors for the particular spatially varied genes for the purposes of this analysis"
   ]
  },
  {
   "cell_type": "code",
   "execution_count": 3,
   "metadata": {
    "ExecuteTime": {
     "end_time": "2020-10-23T08:08:26.549407Z",
     "start_time": "2020-10-23T08:08:26.539054Z"
    }
   },
   "outputs": [],
   "source": [
    "spatial_locations = pd.DataFrame(index=Y.index)\n",
    "spatial_locations['x'] = Y.index.str.split('x').str.get(0).map(float)\n",
    "spatial_locations['y'] = Y.index.str.split('x').str.get(1).map(float)\n"
   ]
  },
  {
   "cell_type": "code",
   "execution_count": 4,
   "metadata": {
    "ExecuteTime": {
     "end_time": "2020-10-23T08:08:26.559591Z",
     "start_time": "2020-10-23T08:08:26.552574Z"
    }
   },
   "outputs": [],
   "source": [
    "spatial_locations['total_counts'] = Y.sum(1)\n",
    "Y = Y.loc[spatial_locations.index]\n",
    "X = spatial_locations[['x','y']]"
   ]
  },
  {
   "cell_type": "code",
   "execution_count": 5,
   "metadata": {
    "ExecuteTime": {
     "end_time": "2020-10-23T08:09:02.718546Z",
     "start_time": "2020-10-23T08:09:02.663611Z"
    }
   },
   "outputs": [
    {
     "ename": "NameError",
     "evalue": "name 'scale' is not defined",
     "output_type": "error",
     "traceback": [
      "\u001b[0;31m---------------------------------------------------------------------------\u001b[0m",
      "\u001b[0;31mNameError\u001b[0m                                 Traceback (most recent call last)",
      "\u001b[0;32m/var/folders/kf/ktthtskj4xz6cmggksd1cq3h0000gn/T/ipykernel_1348/2276524209.py\u001b[0m in \u001b[0;36m<module>\u001b[0;34m\u001b[0m\n\u001b[1;32m      3\u001b[0m \u001b[0;32mfor\u001b[0m \u001b[0mcol\u001b[0m \u001b[0;32min\u001b[0m \u001b[0mY_total\u001b[0m\u001b[0;34m:\u001b[0m\u001b[0;34m\u001b[0m\u001b[0;34m\u001b[0m\u001b[0m\n\u001b[1;32m      4\u001b[0m         \u001b[0mnames\u001b[0m\u001b[0;34m.\u001b[0m\u001b[0mappend\u001b[0m\u001b[0;34m(\u001b[0m\u001b[0mcol\u001b[0m\u001b[0;34m)\u001b[0m\u001b[0;34m\u001b[0m\u001b[0;34m\u001b[0m\u001b[0m\n\u001b[0;32m----> 5\u001b[0;31m \u001b[0mscale_nb_model_sel\u001b[0m \u001b[0;34m=\u001b[0m \u001b[0mscale\u001b[0m\u001b[0;34m.\u001b[0m\u001b[0mset_axis\u001b[0m\u001b[0;34m(\u001b[0m\u001b[0mnames\u001b[0m\u001b[0;34m,\u001b[0m \u001b[0maxis\u001b[0m\u001b[0;34m=\u001b[0m\u001b[0;36m1\u001b[0m\u001b[0;34m,\u001b[0m \u001b[0minplace\u001b[0m\u001b[0;34m=\u001b[0m\u001b[0;32mFalse\u001b[0m\u001b[0;34m)\u001b[0m\u001b[0;34m\u001b[0m\u001b[0;34m\u001b[0m\u001b[0m\n\u001b[0m\u001b[1;32m      6\u001b[0m \u001b[0;34m\u001b[0m\u001b[0m\n\u001b[1;32m      7\u001b[0m \u001b[0mscale_nb_new\u001b[0m \u001b[0;34m=\u001b[0m \u001b[0;34m[\u001b[0m\u001b[0;34m]\u001b[0m\u001b[0;34m\u001b[0m\u001b[0;34m\u001b[0m\u001b[0m\n",
      "\u001b[0;31mNameError\u001b[0m: name 'scale' is not defined"
     ]
    }
   ],
   "source": [
    "# In this cell we extract the particular scale factors for the spatially varied genes and we named it as \"scale_nb_model_sel\"\n",
    "names = []\n",
    "for col in Y_total:\n",
    "        names.append(col)\n",
    "scale_nb_model_sel = scale.set_axis(names, axis=1, inplace=False)\n",
    "\n",
    "scale_nb_new = []\n",
    "for col in Y:\n",
    "        scale_nb_new.append(scale_nb_model_sel[col])\n",
    "\n",
    "scale_nb_model_sel = pd.DataFrame(scale_nb_new)  "
   ]
  },
  {
   "cell_type": "code",
   "execution_count": null,
   "metadata": {
    "ExecuteTime": {
     "end_time": "2020-10-23T08:09:20.407302Z",
     "start_time": "2020-10-23T08:09:20.220075Z"
    }
   },
   "outputs": [],
   "source": [
    "# The final scale factors for the spatially varied genes are scale_nb_model_sel_tr, saved as \"scale_nb_model_sel.csv\"\n",
    "scale_nb_model_sel_tr = scale_nb_model_sel.T\n",
    "scale_nb_model_sel_tr.to_csv('scale_nb_model_sel.csv')\n",
    "scale_nb_model_sel_tr"
   ]
  },
  {
   "cell_type": "code",
   "execution_count": null,
   "metadata": {
    "ExecuteTime": {
     "end_time": "2020-10-23T08:09:24.812335Z",
     "start_time": "2020-10-23T08:09:24.806923Z"
    }
   },
   "outputs": [],
   "source": [
    "Y = Y.T"
   ]
  },
  {
   "cell_type": "code",
   "execution_count": null,
   "metadata": {
    "ExecuteTime": {
     "end_time": "2020-10-23T08:10:47.513539Z",
     "start_time": "2020-10-23T08:10:47.508975Z"
    }
   },
   "outputs": [],
   "source": [
    "Y_run = Y.iloc[0:20,:]  # Run model_selection for the first 20 spatially varied genes  "
   ]
  },
  {
   "cell_type": "code",
   "execution_count": null,
   "metadata": {
    "ExecuteTime": {
     "end_time": "2020-10-23T08:10:48.708758Z",
     "start_time": "2020-10-23T08:10:48.703130Z"
    }
   },
   "outputs": [],
   "source": [
    "gene_name = []\n",
    "scale = scale_nb_model_sel_tr \n",
    "gene_name = Y_run.index\n",
    "likelihood = 'Negative_binomial' \n",
    "gp_counts = Fit_GPcounts(X,Y_run.loc[gene_name], scale = scale,safe_mode=False)"
   ]
  },
  {
   "cell_type": "code",
   "execution_count": null,
   "metadata": {
    "ExecuteTime": {
     "end_time": "2020-10-23T08:23:07.404938Z",
     "start_time": "2020-10-23T08:10:52.298657Z"
    }
   },
   "outputs": [],
   "source": [
    "results = gp_counts.Model_selection_test(likelihood)\n",
    "results"
   ]
  },
  {
   "cell_type": "code",
   "execution_count": null,
   "metadata": {
    "ExecuteTime": {
     "end_time": "2020-10-23T08:26:12.777939Z",
     "start_time": "2020-10-23T08:26:12.761171Z"
    }
   },
   "outputs": [],
   "source": [
    "results"
   ]
  },
  {
   "cell_type": "code",
   "execution_count": null,
   "metadata": {},
   "outputs": [],
   "source": []
  }
 ],
 "metadata": {
  "kernelspec": {
   "display_name": "Python [conda env:GPcounts_GPflow] *",
   "language": "python",
   "name": "conda-env-GPcounts_GPflow-py"
  },
  "language_info": {
   "codemirror_mode": {
    "name": "ipython",
    "version": 3
   },
   "file_extension": ".py",
   "mimetype": "text/x-python",
   "name": "python",
   "nbconvert_exporter": "python",
   "pygments_lexer": "ipython3",
   "version": "3.8.12"
  }
 },
 "nbformat": 4,
 "nbformat_minor": 4
}
