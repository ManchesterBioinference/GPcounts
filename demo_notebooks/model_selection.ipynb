{
 "cells": [
  {
   "cell_type": "markdown",
   "metadata": {},
   "source": [
    "# Automatic model selection based on linear, periodic and RBF kernels\n",
    "\n",
    "The test is run on the first 20 spatially varied genes inferred from 'GPcounts_spatial.ipynb'. "
   ]
  },
  {
   "cell_type": "code",
   "execution_count": 1,
   "metadata": {
    "ExecuteTime": {
     "end_time": "2020-10-23T08:08:22.722050Z",
     "start_time": "2020-10-23T08:08:18.061948Z"
    }
   },
   "outputs": [],
   "source": [
    "import pandas as pd \n",
    "import numpy as np \n",
    "import gpflow\n",
    "import tensorflow as tf\n",
    "from GPcounts import NegativeBinomialLikelihood\n",
    "from GPcounts.GPcounts_Module import Fit_GPcounts\n",
    "from matplotlib import pyplot as plt"
   ]
  },
  {
   "cell_type": "code",
   "execution_count": 2,
   "metadata": {
    "ExecuteTime": {
     "end_time": "2020-10-23T08:08:26.536258Z",
     "start_time": "2020-10-23T08:08:22.724633Z"
    }
   },
   "outputs": [],
   "source": [
    "Y = pd.read_csv('../data/MouseOB/mouse_ob_SV_genes.csv', index_col=[0]) # File with all the spatially varied genes inferred from 'GPcounts_spatial.ipynb'\n",
    "Y_total = pd.read_csv('../data/MouseOB/Rep11_MOB_0.csv', index_col=[0]) #  File with the MOUSE-OB counts dataset for all the genes\n",
    "scale = pd.read_csv('../data/MouseOB/scales_nb_wholedataset.txt', sep=\"\\t\") #  File with the scale factors for all the genes. This is to extract the scale factors for the particular spatially varied genes for the purposes of this analysis"
   ]
  },
  {
   "cell_type": "code",
   "execution_count": 3,
   "metadata": {
    "ExecuteTime": {
     "end_time": "2020-10-23T08:08:26.549407Z",
     "start_time": "2020-10-23T08:08:26.539054Z"
    }
   },
   "outputs": [],
   "source": [
    "spatial_locations = pd.DataFrame(index=Y.index)\n",
    "spatial_locations['x'] = Y.index.str.split('x').str.get(0).map(float)\n",
    "spatial_locations['y'] = Y.index.str.split('x').str.get(1).map(float)\n"
   ]
  },
  {
   "cell_type": "code",
   "execution_count": 4,
   "metadata": {
    "ExecuteTime": {
     "end_time": "2020-10-23T08:08:26.559591Z",
     "start_time": "2020-10-23T08:08:26.552574Z"
    }
   },
   "outputs": [],
   "source": [
    "spatial_locations['total_counts'] = Y.sum(1)\n",
    "Y = Y.loc[spatial_locations.index]\n",
    "X = spatial_locations[['x','y']]"
   ]
  },
  {
   "cell_type": "code",
   "execution_count": 7,
   "metadata": {
    "ExecuteTime": {
     "end_time": "2020-10-23T08:09:02.718546Z",
     "start_time": "2020-10-23T08:09:02.663611Z"
    }
   },
   "outputs": [],
   "source": [
    "# In this cell we extract the particular scale factors for the spatially varied genes and we named it as \"scale_nb_model_sel\"\n",
    "names = []\n",
    "for col in Y_total:\n",
    "        names.append(col)\n",
    "scale_nb_model_sel = scale.set_axis(names, axis=1, inplace=False)\n",
    "\n",
    "scale_nb_new = []\n",
    "for col in Y:\n",
    "        scale_nb_new.append(scale_nb_model_sel[col])\n",
    "\n",
    "scale_nb_model_sel = pd.DataFrame(scale_nb_new)  "
   ]
  },
  {
   "cell_type": "code",
   "execution_count": 8,
   "metadata": {
    "ExecuteTime": {
     "end_time": "2020-10-23T08:09:20.407302Z",
     "start_time": "2020-10-23T08:09:20.220075Z"
    }
   },
   "outputs": [
    {
     "data": {
      "text/html": [
       "<div>\n",
       "<style scoped>\n",
       "    .dataframe tbody tr th:only-of-type {\n",
       "        vertical-align: middle;\n",
       "    }\n",
       "\n",
       "    .dataframe tbody tr th {\n",
       "        vertical-align: top;\n",
       "    }\n",
       "\n",
       "    .dataframe thead th {\n",
       "        text-align: right;\n",
       "    }\n",
       "</style>\n",
       "<table border=\"1\" class=\"dataframe\">\n",
       "  <thead>\n",
       "    <tr style=\"text-align: right;\">\n",
       "      <th></th>\n",
       "      <th>Glul</th>\n",
       "      <th>Sparcl1</th>\n",
       "      <th>Calm2</th>\n",
       "      <th>Cpe</th>\n",
       "      <th>Snap25</th>\n",
       "      <th>Ndrg4</th>\n",
       "      <th>Eef1a1</th>\n",
       "      <th>Ckb</th>\n",
       "      <th>Gng13</th>\n",
       "      <th>S100a5</th>\n",
       "      <th>...</th>\n",
       "      <th>Ywhag</th>\n",
       "      <th>Nptn</th>\n",
       "      <th>Calm3</th>\n",
       "      <th>Ptma</th>\n",
       "      <th>Rtn1</th>\n",
       "      <th>Stmn3</th>\n",
       "      <th>Hnrnpa2b1</th>\n",
       "      <th>Atp5g3</th>\n",
       "      <th>Cox4i1</th>\n",
       "      <th>Cd81</th>\n",
       "    </tr>\n",
       "  </thead>\n",
       "  <tbody>\n",
       "    <tr>\n",
       "      <th>0</th>\n",
       "      <td>66.989928</td>\n",
       "      <td>73.227781</td>\n",
       "      <td>51.426685</td>\n",
       "      <td>64.440720</td>\n",
       "      <td>56.936740</td>\n",
       "      <td>56.361118</td>\n",
       "      <td>52.728510</td>\n",
       "      <td>59.573597</td>\n",
       "      <td>3.487625</td>\n",
       "      <td>8.867573</td>\n",
       "      <td>...</td>\n",
       "      <td>21.785099</td>\n",
       "      <td>17.866144</td>\n",
       "      <td>19.342966</td>\n",
       "      <td>16.985675</td>\n",
       "      <td>20.437024</td>\n",
       "      <td>15.047219</td>\n",
       "      <td>22.214694</td>\n",
       "      <td>18.060745</td>\n",
       "      <td>22.028045</td>\n",
       "      <td>17.719189</td>\n",
       "    </tr>\n",
       "    <tr>\n",
       "      <th>1</th>\n",
       "      <td>131.876393</td>\n",
       "      <td>144.156233</td>\n",
       "      <td>101.238588</td>\n",
       "      <td>126.858021</td>\n",
       "      <td>112.085684</td>\n",
       "      <td>110.952514</td>\n",
       "      <td>103.801362</td>\n",
       "      <td>117.276602</td>\n",
       "      <td>6.865740</td>\n",
       "      <td>17.456707</td>\n",
       "      <td>...</td>\n",
       "      <td>42.886152</td>\n",
       "      <td>35.171297</td>\n",
       "      <td>38.078570</td>\n",
       "      <td>33.438005</td>\n",
       "      <td>40.232332</td>\n",
       "      <td>29.621961</td>\n",
       "      <td>43.731854</td>\n",
       "      <td>35.554389</td>\n",
       "      <td>43.364416</td>\n",
       "      <td>34.882001</td>\n",
       "    </tr>\n",
       "    <tr>\n",
       "      <th>2</th>\n",
       "      <td>44.461489</td>\n",
       "      <td>48.601578</td>\n",
       "      <td>34.132101</td>\n",
       "      <td>42.769570</td>\n",
       "      <td>37.789148</td>\n",
       "      <td>37.407105</td>\n",
       "      <td>34.996128</td>\n",
       "      <td>39.539240</td>\n",
       "      <td>2.314751</td>\n",
       "      <td>5.885444</td>\n",
       "      <td>...</td>\n",
       "      <td>14.458859</td>\n",
       "      <td>11.857833</td>\n",
       "      <td>12.838006</td>\n",
       "      <td>11.273462</td>\n",
       "      <td>13.564136</td>\n",
       "      <td>9.986901</td>\n",
       "      <td>14.743983</td>\n",
       "      <td>11.986991</td>\n",
       "      <td>14.620104</td>\n",
       "      <td>11.760298</td>\n",
       "    </tr>\n",
       "    <tr>\n",
       "      <th>3</th>\n",
       "      <td>80.940518</td>\n",
       "      <td>88.477398</td>\n",
       "      <td>62.136244</td>\n",
       "      <td>77.860439</td>\n",
       "      <td>68.793763</td>\n",
       "      <td>68.098268</td>\n",
       "      <td>63.709173</td>\n",
       "      <td>71.979743</td>\n",
       "      <td>4.213920</td>\n",
       "      <td>10.714237</td>\n",
       "      <td>...</td>\n",
       "      <td>26.321825</td>\n",
       "      <td>21.586752</td>\n",
       "      <td>23.371121</td>\n",
       "      <td>20.522926</td>\n",
       "      <td>24.693015</td>\n",
       "      <td>18.180789</td>\n",
       "      <td>26.840883</td>\n",
       "      <td>21.821879</td>\n",
       "      <td>26.615365</td>\n",
       "      <td>21.409194</td>\n",
       "    </tr>\n",
       "    <tr>\n",
       "      <th>4</th>\n",
       "      <td>66.458714</td>\n",
       "      <td>72.647103</td>\n",
       "      <td>51.018884</td>\n",
       "      <td>63.929721</td>\n",
       "      <td>56.485246</td>\n",
       "      <td>55.914188</td>\n",
       "      <td>52.310386</td>\n",
       "      <td>59.101193</td>\n",
       "      <td>3.459969</td>\n",
       "      <td>8.797255</td>\n",
       "      <td>...</td>\n",
       "      <td>21.612348</td>\n",
       "      <td>17.724470</td>\n",
       "      <td>19.189581</td>\n",
       "      <td>16.850983</td>\n",
       "      <td>20.274963</td>\n",
       "      <td>14.927899</td>\n",
       "      <td>22.038537</td>\n",
       "      <td>17.917528</td>\n",
       "      <td>21.853368</td>\n",
       "      <td>17.578680</td>\n",
       "    </tr>\n",
       "    <tr>\n",
       "      <th>...</th>\n",
       "      <td>...</td>\n",
       "      <td>...</td>\n",
       "      <td>...</td>\n",
       "      <td>...</td>\n",
       "      <td>...</td>\n",
       "      <td>...</td>\n",
       "      <td>...</td>\n",
       "      <td>...</td>\n",
       "      <td>...</td>\n",
       "      <td>...</td>\n",
       "      <td>...</td>\n",
       "      <td>...</td>\n",
       "      <td>...</td>\n",
       "      <td>...</td>\n",
       "      <td>...</td>\n",
       "      <td>...</td>\n",
       "      <td>...</td>\n",
       "      <td>...</td>\n",
       "      <td>...</td>\n",
       "      <td>...</td>\n",
       "      <td>...</td>\n",
       "    </tr>\n",
       "    <tr>\n",
       "      <th>255</th>\n",
       "      <td>102.552702</td>\n",
       "      <td>112.102029</td>\n",
       "      <td>78.727439</td>\n",
       "      <td>98.650202</td>\n",
       "      <td>87.162604</td>\n",
       "      <td>86.281402</td>\n",
       "      <td>80.720362</td>\n",
       "      <td>91.199282</td>\n",
       "      <td>5.339092</td>\n",
       "      <td>13.575079</td>\n",
       "      <td>...</td>\n",
       "      <td>33.350099</td>\n",
       "      <td>27.350699</td>\n",
       "      <td>29.611518</td>\n",
       "      <td>26.002817</td>\n",
       "      <td>31.286375</td>\n",
       "      <td>23.035299</td>\n",
       "      <td>34.007753</td>\n",
       "      <td>27.648607</td>\n",
       "      <td>33.722018</td>\n",
       "      <td>27.125730</td>\n",
       "    </tr>\n",
       "    <tr>\n",
       "      <th>256</th>\n",
       "      <td>91.325917</td>\n",
       "      <td>99.829848</td>\n",
       "      <td>70.108885</td>\n",
       "      <td>87.850637</td>\n",
       "      <td>77.620624</td>\n",
       "      <td>76.835891</td>\n",
       "      <td>71.883636</td>\n",
       "      <td>81.215394</td>\n",
       "      <td>4.754604</td>\n",
       "      <td>12.088970</td>\n",
       "      <td>...</td>\n",
       "      <td>29.699153</td>\n",
       "      <td>24.356527</td>\n",
       "      <td>26.369847</td>\n",
       "      <td>23.156202</td>\n",
       "      <td>27.861352</td>\n",
       "      <td>20.513548</td>\n",
       "      <td>30.284811</td>\n",
       "      <td>24.621823</td>\n",
       "      <td>30.030357</td>\n",
       "      <td>24.156187</td>\n",
       "    </tr>\n",
       "    <tr>\n",
       "      <th>257</th>\n",
       "      <td>97.415262</td>\n",
       "      <td>106.486210</td>\n",
       "      <td>74.783541</td>\n",
       "      <td>93.708261</td>\n",
       "      <td>82.796140</td>\n",
       "      <td>81.959083</td>\n",
       "      <td>76.676626</td>\n",
       "      <td>86.630599</td>\n",
       "      <td>5.071627</td>\n",
       "      <td>12.895027</td>\n",
       "      <td>...</td>\n",
       "      <td>31.679406</td>\n",
       "      <td>25.980549</td>\n",
       "      <td>28.128111</td>\n",
       "      <td>24.700190</td>\n",
       "      <td>29.719065</td>\n",
       "      <td>21.881332</td>\n",
       "      <td>32.304114</td>\n",
       "      <td>26.263534</td>\n",
       "      <td>32.032693</td>\n",
       "      <td>25.766851</td>\n",
       "    </tr>\n",
       "    <tr>\n",
       "      <th>258</th>\n",
       "      <td>59.987894</td>\n",
       "      <td>65.573744</td>\n",
       "      <td>46.051378</td>\n",
       "      <td>57.705138</td>\n",
       "      <td>50.985502</td>\n",
       "      <td>50.470046</td>\n",
       "      <td>47.217132</td>\n",
       "      <td>53.346745</td>\n",
       "      <td>3.123086</td>\n",
       "      <td>7.940701</td>\n",
       "      <td>...</td>\n",
       "      <td>19.508040</td>\n",
       "      <td>15.998709</td>\n",
       "      <td>17.321168</td>\n",
       "      <td>15.210269</td>\n",
       "      <td>18.300871</td>\n",
       "      <td>13.474429</td>\n",
       "      <td>19.892732</td>\n",
       "      <td>16.172970</td>\n",
       "      <td>19.725593</td>\n",
       "      <td>15.867114</td>\n",
       "    </tr>\n",
       "    <tr>\n",
       "      <th>259</th>\n",
       "      <td>109.540475</td>\n",
       "      <td>119.740478</td>\n",
       "      <td>84.091798</td>\n",
       "      <td>105.372065</td>\n",
       "      <td>93.101721</td>\n",
       "      <td>92.160476</td>\n",
       "      <td>86.220515</td>\n",
       "      <td>97.413452</td>\n",
       "      <td>5.702889</td>\n",
       "      <td>14.500063</td>\n",
       "      <td>...</td>\n",
       "      <td>35.622520</td>\n",
       "      <td>29.214331</td>\n",
       "      <td>31.629198</td>\n",
       "      <td>27.774607</td>\n",
       "      <td>33.418177</td>\n",
       "      <td>24.604886</td>\n",
       "      <td>36.324985</td>\n",
       "      <td>29.532538</td>\n",
       "      <td>36.019781</td>\n",
       "      <td>28.974033</td>\n",
       "    </tr>\n",
       "  </tbody>\n",
       "</table>\n",
       "<p>260 rows × 489 columns</p>\n",
       "</div>"
      ],
      "text/plain": [
       "           Glul     Sparcl1       Calm2         Cpe      Snap25       Ndrg4  \\\n",
       "0     66.989928   73.227781   51.426685   64.440720   56.936740   56.361118   \n",
       "1    131.876393  144.156233  101.238588  126.858021  112.085684  110.952514   \n",
       "2     44.461489   48.601578   34.132101   42.769570   37.789148   37.407105   \n",
       "3     80.940518   88.477398   62.136244   77.860439   68.793763   68.098268   \n",
       "4     66.458714   72.647103   51.018884   63.929721   56.485246   55.914188   \n",
       "..          ...         ...         ...         ...         ...         ...   \n",
       "255  102.552702  112.102029   78.727439   98.650202   87.162604   86.281402   \n",
       "256   91.325917   99.829848   70.108885   87.850637   77.620624   76.835891   \n",
       "257   97.415262  106.486210   74.783541   93.708261   82.796140   81.959083   \n",
       "258   59.987894   65.573744   46.051378   57.705138   50.985502   50.470046   \n",
       "259  109.540475  119.740478   84.091798  105.372065   93.101721   92.160476   \n",
       "\n",
       "         Eef1a1         Ckb     Gng13     S100a5  ...      Ywhag       Nptn  \\\n",
       "0     52.728510   59.573597  3.487625   8.867573  ...  21.785099  17.866144   \n",
       "1    103.801362  117.276602  6.865740  17.456707  ...  42.886152  35.171297   \n",
       "2     34.996128   39.539240  2.314751   5.885444  ...  14.458859  11.857833   \n",
       "3     63.709173   71.979743  4.213920  10.714237  ...  26.321825  21.586752   \n",
       "4     52.310386   59.101193  3.459969   8.797255  ...  21.612348  17.724470   \n",
       "..          ...         ...       ...        ...  ...        ...        ...   \n",
       "255   80.720362   91.199282  5.339092  13.575079  ...  33.350099  27.350699   \n",
       "256   71.883636   81.215394  4.754604  12.088970  ...  29.699153  24.356527   \n",
       "257   76.676626   86.630599  5.071627  12.895027  ...  31.679406  25.980549   \n",
       "258   47.217132   53.346745  3.123086   7.940701  ...  19.508040  15.998709   \n",
       "259   86.220515   97.413452  5.702889  14.500063  ...  35.622520  29.214331   \n",
       "\n",
       "         Calm3       Ptma       Rtn1      Stmn3  Hnrnpa2b1     Atp5g3  \\\n",
       "0    19.342966  16.985675  20.437024  15.047219  22.214694  18.060745   \n",
       "1    38.078570  33.438005  40.232332  29.621961  43.731854  35.554389   \n",
       "2    12.838006  11.273462  13.564136   9.986901  14.743983  11.986991   \n",
       "3    23.371121  20.522926  24.693015  18.180789  26.840883  21.821879   \n",
       "4    19.189581  16.850983  20.274963  14.927899  22.038537  17.917528   \n",
       "..         ...        ...        ...        ...        ...        ...   \n",
       "255  29.611518  26.002817  31.286375  23.035299  34.007753  27.648607   \n",
       "256  26.369847  23.156202  27.861352  20.513548  30.284811  24.621823   \n",
       "257  28.128111  24.700190  29.719065  21.881332  32.304114  26.263534   \n",
       "258  17.321168  15.210269  18.300871  13.474429  19.892732  16.172970   \n",
       "259  31.629198  27.774607  33.418177  24.604886  36.324985  29.532538   \n",
       "\n",
       "        Cox4i1       Cd81  \n",
       "0    22.028045  17.719189  \n",
       "1    43.364416  34.882001  \n",
       "2    14.620104  11.760298  \n",
       "3    26.615365  21.409194  \n",
       "4    21.853368  17.578680  \n",
       "..         ...        ...  \n",
       "255  33.722018  27.125730  \n",
       "256  30.030357  24.156187  \n",
       "257  32.032693  25.766851  \n",
       "258  19.725593  15.867114  \n",
       "259  36.019781  28.974033  \n",
       "\n",
       "[260 rows x 489 columns]"
      ]
     },
     "execution_count": 8,
     "metadata": {},
     "output_type": "execute_result"
    }
   ],
   "source": [
    "# The final scale factors for the spatially varied genes are scale_nb_model_sel_tr, saved as \"scale_nb_model_sel.csv\"\n",
    "scale_nb_model_sel_tr = scale_nb_model_sel.T\n",
    "scale_nb_model_sel_tr.to_csv('scale_nb_model_sel.csv')\n",
    "scale_nb_model_sel_tr"
   ]
  },
  {
   "cell_type": "code",
   "execution_count": 9,
   "metadata": {
    "ExecuteTime": {
     "end_time": "2020-10-23T08:09:24.812335Z",
     "start_time": "2020-10-23T08:09:24.806923Z"
    }
   },
   "outputs": [],
   "source": [
    "Y = Y.T"
   ]
  },
  {
   "cell_type": "code",
   "execution_count": 11,
   "metadata": {
    "ExecuteTime": {
     "end_time": "2020-10-23T08:10:47.513539Z",
     "start_time": "2020-10-23T08:10:47.508975Z"
    }
   },
   "outputs": [],
   "source": [
    "Y_run = Y.iloc[0:20,:]  # Run model_selection for the first 20 spatially varied genes  "
   ]
  },
  {
   "cell_type": "code",
   "execution_count": 12,
   "metadata": {
    "ExecuteTime": {
     "end_time": "2020-10-23T08:10:48.708758Z",
     "start_time": "2020-10-23T08:10:48.703130Z"
    }
   },
   "outputs": [],
   "source": [
    "gene_name = []\n",
    "# scale = pd.read_csv('../data/MouseOB/scale_nb_model_sel.csv',index_col=[0]) # load the file with the scale factors  \n",
    "scale = scale_nb_model_sel_tr\n",
    "nb_scaled = True # set the nb_scaled argument to True to pass the scale factors \n",
    "gene_name = Y_run.index\n",
    "likelihood = 'Negative_binomial' \n",
    "gp_counts = Fit_GPcounts(X,Y_run.loc[gene_name], scale = scale, nb_scaled=nb_scaled,safe_mode=False)"
   ]
  },
  {
   "cell_type": "code",
   "execution_count": 13,
   "metadata": {
    "ExecuteTime": {
     "end_time": "2020-10-23T08:23:07.404938Z",
     "start_time": "2020-10-23T08:10:52.298657Z"
    }
   },
   "outputs": [
    {
     "name": "stderr",
     "output_type": "stream",
     "text": [
      "\r",
      "  0%|          | 0/20 [00:00<?, ?it/s]"
     ]
    },
    {
     "name": "stdout",
     "output_type": "stream",
     "text": [
      "Fitting GP with Linear Kernel\n",
      "Fitting GP with Linear Kernel\n",
      "Fitting GP with Linear Kernel\n"
     ]
    },
    {
     "name": "stderr",
     "output_type": "stream",
     "text": [
      "\r",
      "  5%|▌         | 1/20 [00:04<01:33,  4.90s/it]"
     ]
    },
    {
     "name": "stdout",
     "output_type": "stream",
     "text": [
      "Fitting GP with Linear Kernel\n",
      "Fitting GP with Linear Kernel\n",
      "Fitting GP with Linear Kernel\n"
     ]
    },
    {
     "name": "stderr",
     "output_type": "stream",
     "text": [
      "\r",
      " 10%|█         | 2/20 [00:07<01:15,  4.21s/it]"
     ]
    },
    {
     "name": "stdout",
     "output_type": "stream",
     "text": [
      "Fitting GP with Linear Kernel\n",
      "Fitting GP with Linear Kernel\n",
      "Fitting GP with Linear Kernel\n"
     ]
    },
    {
     "name": "stderr",
     "output_type": "stream",
     "text": [
      "\r",
      " 15%|█▌        | 3/20 [00:10<01:03,  3.71s/it]"
     ]
    },
    {
     "name": "stdout",
     "output_type": "stream",
     "text": [
      "Fitting GP with Linear Kernel\n",
      "Fitting GP with Linear Kernel\n",
      "Fitting GP with Linear Kernel\n"
     ]
    },
    {
     "name": "stderr",
     "output_type": "stream",
     "text": [
      "\r",
      " 20%|██        | 4/20 [00:12<00:53,  3.36s/it]"
     ]
    },
    {
     "name": "stdout",
     "output_type": "stream",
     "text": [
      "Fitting GP with Linear Kernel\n",
      "Fitting GP with Linear Kernel\n",
      "Fitting GP with Linear Kernel\n"
     ]
    },
    {
     "name": "stderr",
     "output_type": "stream",
     "text": [
      "\r",
      " 25%|██▌       | 5/20 [00:15<00:47,  3.18s/it]"
     ]
    },
    {
     "name": "stdout",
     "output_type": "stream",
     "text": [
      "Fitting GP with Linear Kernel\n",
      "Fitting GP with Linear Kernel\n",
      "Fitting GP with Linear Kernel\n"
     ]
    },
    {
     "name": "stderr",
     "output_type": "stream",
     "text": [
      "\r",
      " 30%|███       | 6/20 [00:18<00:42,  3.06s/it]"
     ]
    },
    {
     "name": "stdout",
     "output_type": "stream",
     "text": [
      "Fitting GP with Linear Kernel\n",
      "Fitting GP with Linear Kernel\n",
      "Fitting GP with Linear Kernel\n"
     ]
    },
    {
     "name": "stderr",
     "output_type": "stream",
     "text": [
      "\r",
      " 35%|███▌      | 7/20 [00:20<00:38,  2.92s/it]"
     ]
    },
    {
     "name": "stdout",
     "output_type": "stream",
     "text": [
      "Fitting GP with Linear Kernel\n",
      "Fitting GP with Linear Kernel\n",
      "Fitting GP with Linear Kernel\n"
     ]
    },
    {
     "name": "stderr",
     "output_type": "stream",
     "text": [
      "\r",
      " 40%|████      | 8/20 [00:23<00:34,  2.86s/it]"
     ]
    },
    {
     "name": "stdout",
     "output_type": "stream",
     "text": [
      "Fitting GP with Linear Kernel\n"
     ]
    },
    {
     "name": "stderr",
     "output_type": "stream",
     "text": [
      "\r",
      " 45%|████▌     | 9/20 [00:25<00:29,  2.65s/it]"
     ]
    },
    {
     "name": "stdout",
     "output_type": "stream",
     "text": [
      "Fitting GP with Linear Kernel\n"
     ]
    },
    {
     "name": "stderr",
     "output_type": "stream",
     "text": [
      "\r",
      " 50%|█████     | 10/20 [00:27<00:23,  2.38s/it]"
     ]
    },
    {
     "name": "stdout",
     "output_type": "stream",
     "text": [
      "Fitting GP with Linear Kernel\n"
     ]
    },
    {
     "name": "stderr",
     "output_type": "stream",
     "text": [
      "\r",
      " 55%|█████▌    | 11/20 [00:29<00:19,  2.22s/it]"
     ]
    },
    {
     "name": "stdout",
     "output_type": "stream",
     "text": [
      "Fitting GP with Linear Kernel\n"
     ]
    },
    {
     "name": "stderr",
     "output_type": "stream",
     "text": [
      "\r",
      " 60%|██████    | 12/20 [00:30<00:16,  2.06s/it]"
     ]
    },
    {
     "name": "stdout",
     "output_type": "stream",
     "text": [
      "Fitting GP with Linear Kernel\n"
     ]
    },
    {
     "name": "stderr",
     "output_type": "stream",
     "text": [
      "\r",
      " 65%|██████▌   | 13/20 [00:32<00:13,  1.93s/it]"
     ]
    },
    {
     "name": "stdout",
     "output_type": "stream",
     "text": [
      "Fitting GP with Linear Kernel\n"
     ]
    },
    {
     "name": "stderr",
     "output_type": "stream",
     "text": [
      "\r",
      " 70%|███████   | 14/20 [00:34<00:11,  1.86s/it]"
     ]
    },
    {
     "name": "stdout",
     "output_type": "stream",
     "text": [
      "Fitting GP with Linear Kernel\n"
     ]
    },
    {
     "name": "stderr",
     "output_type": "stream",
     "text": [
      "\r",
      " 75%|███████▌  | 15/20 [00:35<00:09,  1.82s/it]"
     ]
    },
    {
     "name": "stdout",
     "output_type": "stream",
     "text": [
      "Fitting GP with Linear Kernel\n"
     ]
    },
    {
     "name": "stderr",
     "output_type": "stream",
     "text": [
      "\r",
      " 80%|████████  | 16/20 [00:37<00:07,  1.80s/it]"
     ]
    },
    {
     "name": "stdout",
     "output_type": "stream",
     "text": [
      "Fitting GP with Linear Kernel\n"
     ]
    },
    {
     "name": "stderr",
     "output_type": "stream",
     "text": [
      "\r",
      " 85%|████████▌ | 17/20 [00:39<00:05,  1.85s/it]"
     ]
    },
    {
     "name": "stdout",
     "output_type": "stream",
     "text": [
      "Fitting GP with Linear Kernel\n"
     ]
    },
    {
     "name": "stderr",
     "output_type": "stream",
     "text": [
      "\r",
      " 90%|█████████ | 18/20 [00:41<00:03,  1.92s/it]"
     ]
    },
    {
     "name": "stdout",
     "output_type": "stream",
     "text": [
      "Fitting GP with Linear Kernel\n"
     ]
    },
    {
     "name": "stderr",
     "output_type": "stream",
     "text": [
      "\r",
      " 95%|█████████▌| 19/20 [00:43<00:02,  2.02s/it]"
     ]
    },
    {
     "name": "stdout",
     "output_type": "stream",
     "text": [
      "Fitting GP with Linear Kernel\n"
     ]
    },
    {
     "name": "stderr",
     "output_type": "stream",
     "text": [
      "100%|██████████| 20/20 [00:46<00:00,  2.31s/it]\n",
      "  0%|          | 0/20 [00:00<?, ?it/s]"
     ]
    },
    {
     "name": "stdout",
     "output_type": "stream",
     "text": [
      "Fitting GP with Periodic Kernel\n"
     ]
    },
    {
     "name": "stderr",
     "output_type": "stream",
     "text": [
      "\r",
      "  5%|▌         | 1/20 [00:13<04:11, 13.24s/it]"
     ]
    },
    {
     "name": "stdout",
     "output_type": "stream",
     "text": [
      "Fitting GP with Periodic Kernel\n"
     ]
    },
    {
     "name": "stderr",
     "output_type": "stream",
     "text": [
      "\r",
      " 10%|█         | 2/20 [00:31<04:27, 14.84s/it]"
     ]
    },
    {
     "name": "stdout",
     "output_type": "stream",
     "text": [
      "Fitting GP with Periodic Kernel\n"
     ]
    },
    {
     "name": "stderr",
     "output_type": "stream",
     "text": [
      "\r",
      " 15%|█▌        | 3/20 [00:43<03:54, 13.80s/it]"
     ]
    },
    {
     "name": "stdout",
     "output_type": "stream",
     "text": [
      "Fitting GP with Periodic Kernel\n"
     ]
    },
    {
     "name": "stderr",
     "output_type": "stream",
     "text": [
      "\r",
      " 20%|██        | 4/20 [01:02<04:07, 15.47s/it]"
     ]
    },
    {
     "name": "stdout",
     "output_type": "stream",
     "text": [
      "Fitting GP with Periodic Kernel\n"
     ]
    },
    {
     "name": "stderr",
     "output_type": "stream",
     "text": [
      "\r",
      " 25%|██▌       | 5/20 [01:32<04:56, 19.76s/it]"
     ]
    },
    {
     "name": "stdout",
     "output_type": "stream",
     "text": [
      "Fitting GP with Periodic Kernel\n"
     ]
    },
    {
     "name": "stderr",
     "output_type": "stream",
     "text": [
      "\r",
      " 30%|███       | 6/20 [02:00<05:13, 22.41s/it]"
     ]
    },
    {
     "name": "stdout",
     "output_type": "stream",
     "text": [
      "Fitting GP with Periodic Kernel\n"
     ]
    },
    {
     "name": "stderr",
     "output_type": "stream",
     "text": [
      "\r",
      " 35%|███▌      | 7/20 [02:28<05:11, 23.95s/it]"
     ]
    },
    {
     "name": "stdout",
     "output_type": "stream",
     "text": [
      "Fitting GP with Periodic Kernel\n"
     ]
    },
    {
     "name": "stderr",
     "output_type": "stream",
     "text": [
      "\r",
      " 40%|████      | 8/20 [02:58<05:10, 25.90s/it]"
     ]
    },
    {
     "name": "stdout",
     "output_type": "stream",
     "text": [
      "Fitting GP with Periodic Kernel\n"
     ]
    },
    {
     "name": "stderr",
     "output_type": "stream",
     "text": [
      "\r",
      " 45%|████▌     | 9/20 [03:20<04:30, 24.58s/it]"
     ]
    },
    {
     "name": "stdout",
     "output_type": "stream",
     "text": [
      "Fitting GP with Periodic Kernel\n"
     ]
    },
    {
     "name": "stderr",
     "output_type": "stream",
     "text": [
      "\r",
      " 50%|█████     | 10/20 [03:59<04:48, 28.85s/it]"
     ]
    },
    {
     "name": "stdout",
     "output_type": "stream",
     "text": [
      "Fitting GP with Periodic Kernel\n"
     ]
    },
    {
     "name": "stderr",
     "output_type": "stream",
     "text": [
      "\r",
      " 55%|█████▌    | 11/20 [04:33<04:34, 30.47s/it]"
     ]
    },
    {
     "name": "stdout",
     "output_type": "stream",
     "text": [
      "Fitting GP with Periodic Kernel\n"
     ]
    },
    {
     "name": "stderr",
     "output_type": "stream",
     "text": [
      "\r",
      " 60%|██████    | 12/20 [04:59<03:53, 29.16s/it]"
     ]
    },
    {
     "name": "stdout",
     "output_type": "stream",
     "text": [
      "Fitting GP with Periodic Kernel\n"
     ]
    },
    {
     "name": "stderr",
     "output_type": "stream",
     "text": [
      "\r",
      " 65%|██████▌   | 13/20 [05:55<04:20, 37.20s/it]"
     ]
    },
    {
     "name": "stdout",
     "output_type": "stream",
     "text": [
      "Fitting GP with Periodic Kernel\n"
     ]
    },
    {
     "name": "stderr",
     "output_type": "stream",
     "text": [
      "\r",
      " 70%|███████   | 14/20 [06:20<03:21, 33.65s/it]"
     ]
    },
    {
     "name": "stdout",
     "output_type": "stream",
     "text": [
      "Fitting GP with Periodic Kernel\n"
     ]
    },
    {
     "name": "stderr",
     "output_type": "stream",
     "text": [
      "\r",
      " 75%|███████▌  | 15/20 [07:10<03:11, 38.38s/it]"
     ]
    },
    {
     "name": "stdout",
     "output_type": "stream",
     "text": [
      "Fitting GP with Periodic Kernel\n"
     ]
    },
    {
     "name": "stderr",
     "output_type": "stream",
     "text": [
      "\r",
      " 80%|████████  | 16/20 [07:43<02:27, 36.79s/it]"
     ]
    },
    {
     "name": "stdout",
     "output_type": "stream",
     "text": [
      "Fitting GP with Periodic Kernel\n"
     ]
    },
    {
     "name": "stderr",
     "output_type": "stream",
     "text": [
      "\r",
      " 85%|████████▌ | 17/20 [08:18<01:49, 36.42s/it]"
     ]
    },
    {
     "name": "stdout",
     "output_type": "stream",
     "text": [
      "Fitting GP with Periodic Kernel\n"
     ]
    },
    {
     "name": "stderr",
     "output_type": "stream",
     "text": [
      "\r",
      " 90%|█████████ | 18/20 [08:40<01:03, 31.88s/it]"
     ]
    },
    {
     "name": "stdout",
     "output_type": "stream",
     "text": [
      "Fitting GP with Periodic Kernel\n"
     ]
    },
    {
     "name": "stderr",
     "output_type": "stream",
     "text": [
      "\r",
      " 95%|█████████▌| 19/20 [09:05<00:29, 29.84s/it]"
     ]
    },
    {
     "name": "stdout",
     "output_type": "stream",
     "text": [
      "Fitting GP with Periodic Kernel\n"
     ]
    },
    {
     "name": "stderr",
     "output_type": "stream",
     "text": [
      "100%|██████████| 20/20 [09:33<00:00, 28.67s/it]\n",
      "  0%|          | 0/20 [00:00<?, ?it/s]"
     ]
    },
    {
     "name": "stdout",
     "output_type": "stream",
     "text": [
      "Fitting GP with RBF Kernel\n"
     ]
    },
    {
     "name": "stderr",
     "output_type": "stream",
     "text": [
      "\r",
      "  5%|▌         | 1/20 [00:06<02:07,  6.72s/it]"
     ]
    },
    {
     "name": "stdout",
     "output_type": "stream",
     "text": [
      "Fitting GP with RBF Kernel\n"
     ]
    },
    {
     "name": "stderr",
     "output_type": "stream",
     "text": [
      "\r",
      " 10%|█         | 2/20 [00:14<02:08,  7.15s/it]"
     ]
    },
    {
     "name": "stdout",
     "output_type": "stream",
     "text": [
      "Fitting GP with RBF Kernel\n"
     ]
    },
    {
     "name": "stderr",
     "output_type": "stream",
     "text": [
      "\r",
      " 15%|█▌        | 3/20 [00:22<02:05,  7.40s/it]"
     ]
    },
    {
     "name": "stdout",
     "output_type": "stream",
     "text": [
      "Fitting GP with RBF Kernel\n"
     ]
    },
    {
     "name": "stderr",
     "output_type": "stream",
     "text": [
      "\r",
      " 20%|██        | 4/20 [00:32<02:08,  8.06s/it]"
     ]
    },
    {
     "name": "stdout",
     "output_type": "stream",
     "text": [
      "Fitting GP with RBF Kernel\n"
     ]
    },
    {
     "name": "stderr",
     "output_type": "stream",
     "text": [
      "\r",
      " 25%|██▌       | 5/20 [00:42<02:11,  8.75s/it]"
     ]
    },
    {
     "name": "stdout",
     "output_type": "stream",
     "text": [
      "Fitting GP with RBF Kernel\n"
     ]
    },
    {
     "name": "stderr",
     "output_type": "stream",
     "text": [
      "\r",
      " 30%|███       | 6/20 [00:55<02:17,  9.85s/it]"
     ]
    },
    {
     "name": "stdout",
     "output_type": "stream",
     "text": [
      "Fitting GP with RBF Kernel\n"
     ]
    },
    {
     "name": "stderr",
     "output_type": "stream",
     "text": [
      "\r",
      " 35%|███▌      | 7/20 [01:09<02:26, 11.28s/it]"
     ]
    },
    {
     "name": "stdout",
     "output_type": "stream",
     "text": [
      "Fitting GP with RBF Kernel\n"
     ]
    },
    {
     "name": "stderr",
     "output_type": "stream",
     "text": [
      "\r",
      " 40%|████      | 8/20 [01:28<02:43, 13.63s/it]"
     ]
    },
    {
     "name": "stdout",
     "output_type": "stream",
     "text": [
      "Fitting GP with RBF Kernel\n"
     ]
    },
    {
     "name": "stderr",
     "output_type": "stream",
     "text": [
      "\r",
      " 45%|████▌     | 9/20 [01:31<01:52, 10.22s/it]"
     ]
    },
    {
     "name": "stdout",
     "output_type": "stream",
     "text": [
      "Fitting GP with RBF Kernel\n"
     ]
    },
    {
     "name": "stderr",
     "output_type": "stream",
     "text": [
      "\r",
      " 50%|█████     | 10/20 [01:33<01:19,  7.97s/it]"
     ]
    },
    {
     "name": "stdout",
     "output_type": "stream",
     "text": [
      "Fitting GP with RBF Kernel\n"
     ]
    },
    {
     "name": "stderr",
     "output_type": "stream",
     "text": [
      "\r",
      " 55%|█████▌    | 11/20 [01:36<00:57,  6.36s/it]"
     ]
    },
    {
     "name": "stdout",
     "output_type": "stream",
     "text": [
      "Fitting GP with RBF Kernel\n"
     ]
    },
    {
     "name": "stderr",
     "output_type": "stream",
     "text": [
      "\r",
      " 60%|██████    | 12/20 [01:38<00:40,  5.07s/it]"
     ]
    },
    {
     "name": "stdout",
     "output_type": "stream",
     "text": [
      "Fitting GP with RBF Kernel\n"
     ]
    },
    {
     "name": "stderr",
     "output_type": "stream",
     "text": [
      "\r",
      " 65%|██████▌   | 13/20 [01:41<00:29,  4.27s/it]"
     ]
    },
    {
     "name": "stdout",
     "output_type": "stream",
     "text": [
      "Fitting GP with RBF Kernel\n"
     ]
    },
    {
     "name": "stderr",
     "output_type": "stream",
     "text": [
      "\r",
      " 70%|███████   | 14/20 [01:43<00:21,  3.66s/it]"
     ]
    },
    {
     "name": "stdout",
     "output_type": "stream",
     "text": [
      "Fitting GP with RBF Kernel\n"
     ]
    },
    {
     "name": "stderr",
     "output_type": "stream",
     "text": [
      "\r",
      " 75%|███████▌  | 15/20 [01:45<00:16,  3.25s/it]"
     ]
    },
    {
     "name": "stdout",
     "output_type": "stream",
     "text": [
      "Fitting GP with RBF Kernel\n"
     ]
    },
    {
     "name": "stderr",
     "output_type": "stream",
     "text": [
      "\r",
      " 80%|████████  | 16/20 [01:47<00:11,  2.80s/it]"
     ]
    },
    {
     "name": "stdout",
     "output_type": "stream",
     "text": [
      "Fitting GP with RBF Kernel\n"
     ]
    },
    {
     "name": "stderr",
     "output_type": "stream",
     "text": [
      "\r",
      " 85%|████████▌ | 17/20 [01:49<00:07,  2.65s/it]"
     ]
    },
    {
     "name": "stdout",
     "output_type": "stream",
     "text": [
      "Fitting GP with RBF Kernel\n"
     ]
    },
    {
     "name": "stderr",
     "output_type": "stream",
     "text": [
      "\r",
      " 90%|█████████ | 18/20 [01:51<00:04,  2.43s/it]"
     ]
    },
    {
     "name": "stdout",
     "output_type": "stream",
     "text": [
      "Fitting GP with RBF Kernel\n"
     ]
    },
    {
     "name": "stderr",
     "output_type": "stream",
     "text": [
      "\r",
      " 95%|█████████▌| 19/20 [01:53<00:02,  2.30s/it]"
     ]
    },
    {
     "name": "stdout",
     "output_type": "stream",
     "text": [
      "Fitting GP with RBF Kernel\n"
     ]
    },
    {
     "name": "stderr",
     "output_type": "stream",
     "text": [
      "100%|██████████| 20/20 [01:55<00:00,  5.77s/it]\n"
     ]
    },
    {
     "data": {
      "text/html": [
       "<div>\n",
       "<style scoped>\n",
       "    .dataframe tbody tr th:only-of-type {\n",
       "        vertical-align: middle;\n",
       "    }\n",
       "\n",
       "    .dataframe tbody tr th {\n",
       "        vertical-align: top;\n",
       "    }\n",
       "\n",
       "    .dataframe thead th {\n",
       "        text-align: right;\n",
       "    }\n",
       "</style>\n",
       "<table border=\"1\" class=\"dataframe\">\n",
       "  <thead>\n",
       "    <tr style=\"text-align: right;\">\n",
       "      <th></th>\n",
       "      <th>Dynamic_model_log_likelihood</th>\n",
       "      <th>Constant_model_log_likelihood</th>\n",
       "      <th>log_likelihood_ratio</th>\n",
       "      <th>BIC</th>\n",
       "      <th>Gene</th>\n",
       "      <th>Model</th>\n",
       "      <th>Linear_probability</th>\n",
       "      <th>Periodic_probability</th>\n",
       "      <th>RBF_probability</th>\n",
       "      <th>p_value</th>\n",
       "      <th>q_value</th>\n",
       "    </tr>\n",
       "  </thead>\n",
       "  <tbody>\n",
       "    <tr>\n",
       "      <th>0</th>\n",
       "      <td>-1241.607837</td>\n",
       "      <td>-1313.652413</td>\n",
       "      <td>72.044576</td>\n",
       "      <td>2505.458400</td>\n",
       "      <td>Glul</td>\n",
       "      <td>RBF</td>\n",
       "      <td>2.247871e-56</td>\n",
       "      <td>9.509018e-61</td>\n",
       "      <td>1.00000</td>\n",
       "      <td>0.000000e+00</td>\n",
       "      <td>0.000000e+00</td>\n",
       "    </tr>\n",
       "    <tr>\n",
       "      <th>1</th>\n",
       "      <td>-1234.118514</td>\n",
       "      <td>-1318.192105</td>\n",
       "      <td>84.073592</td>\n",
       "      <td>2490.479754</td>\n",
       "      <td>Sparcl1</td>\n",
       "      <td>RBF</td>\n",
       "      <td>9.817604e-67</td>\n",
       "      <td>1.516478e-71</td>\n",
       "      <td>1.00000</td>\n",
       "      <td>0.000000e+00</td>\n",
       "      <td>0.000000e+00</td>\n",
       "    </tr>\n",
       "    <tr>\n",
       "      <th>2</th>\n",
       "      <td>-1114.823577</td>\n",
       "      <td>-1175.277251</td>\n",
       "      <td>60.453674</td>\n",
       "      <td>2251.889881</td>\n",
       "      <td>Calm2</td>\n",
       "      <td>RBF</td>\n",
       "      <td>5.336216e-46</td>\n",
       "      <td>8.219199e-51</td>\n",
       "      <td>1.00000</td>\n",
       "      <td>7.549517e-15</td>\n",
       "      <td>1.161464e-14</td>\n",
       "    </tr>\n",
       "    <tr>\n",
       "      <th>3</th>\n",
       "      <td>-1198.486329</td>\n",
       "      <td>-1254.280174</td>\n",
       "      <td>55.793846</td>\n",
       "      <td>2419.215384</td>\n",
       "      <td>Cpe</td>\n",
       "      <td>RBF</td>\n",
       "      <td>4.629769e-42</td>\n",
       "      <td>3.229465e-48</td>\n",
       "      <td>1.00000</td>\n",
       "      <td>8.049117e-14</td>\n",
       "      <td>1.006140e-13</td>\n",
       "    </tr>\n",
       "    <tr>\n",
       "      <th>4</th>\n",
       "      <td>-1143.186331</td>\n",
       "      <td>-1187.638005</td>\n",
       "      <td>44.451674</td>\n",
       "      <td>2308.615388</td>\n",
       "      <td>Snap25</td>\n",
       "      <td>RBF</td>\n",
       "      <td>4.099890e-32</td>\n",
       "      <td>1.004192e-36</td>\n",
       "      <td>1.00000</td>\n",
       "      <td>2.607137e-11</td>\n",
       "      <td>3.067220e-11</td>\n",
       "    </tr>\n",
       "    <tr>\n",
       "      <th>5</th>\n",
       "      <td>-1104.334452</td>\n",
       "      <td>-1141.532142</td>\n",
       "      <td>37.197690</td>\n",
       "      <td>2230.911631</td>\n",
       "      <td>Ndrg4</td>\n",
       "      <td>RBF</td>\n",
       "      <td>2.312579e-25</td>\n",
       "      <td>1.063888e-29</td>\n",
       "      <td>1.00000</td>\n",
       "      <td>1.067401e-09</td>\n",
       "      <td>1.186001e-09</td>\n",
       "    </tr>\n",
       "    <tr>\n",
       "      <th>6</th>\n",
       "      <td>-1090.546884</td>\n",
       "      <td>-1116.379641</td>\n",
       "      <td>25.832757</td>\n",
       "      <td>2203.336494</td>\n",
       "      <td>Eef1a1</td>\n",
       "      <td>RBF</td>\n",
       "      <td>8.968134e-16</td>\n",
       "      <td>2.242152e-17</td>\n",
       "      <td>1.00000</td>\n",
       "      <td>3.723158e-07</td>\n",
       "      <td>3.919114e-07</td>\n",
       "    </tr>\n",
       "    <tr>\n",
       "      <th>7</th>\n",
       "      <td>-1075.859082</td>\n",
       "      <td>-1092.873306</td>\n",
       "      <td>17.014224</td>\n",
       "      <td>2173.960890</td>\n",
       "      <td>Ckb</td>\n",
       "      <td>RBF</td>\n",
       "      <td>9.217270e-07</td>\n",
       "      <td>1.188336e-04</td>\n",
       "      <td>0.99988</td>\n",
       "      <td>3.710084e-05</td>\n",
       "      <td>3.710084e-05</td>\n",
       "    </tr>\n",
       "    <tr>\n",
       "      <th>8</th>\n",
       "      <td>-640.205032</td>\n",
       "      <td>-714.005117</td>\n",
       "      <td>73.800085</td>\n",
       "      <td>1302.652791</td>\n",
       "      <td>Gng13</td>\n",
       "      <td>RBF</td>\n",
       "      <td>6.327532e-53</td>\n",
       "      <td>1.469982e-33</td>\n",
       "      <td>1.00000</td>\n",
       "      <td>0.000000e+00</td>\n",
       "      <td>0.000000e+00</td>\n",
       "    </tr>\n",
       "    <tr>\n",
       "      <th>9</th>\n",
       "      <td>-828.991255</td>\n",
       "      <td>-937.841093</td>\n",
       "      <td>108.849838</td>\n",
       "      <td>1680.225237</td>\n",
       "      <td>S100a5</td>\n",
       "      <td>RBF</td>\n",
       "      <td>6.925603e-84</td>\n",
       "      <td>5.860545e-44</td>\n",
       "      <td>1.00000</td>\n",
       "      <td>0.000000e+00</td>\n",
       "      <td>0.000000e+00</td>\n",
       "    </tr>\n",
       "    <tr>\n",
       "      <th>10</th>\n",
       "      <td>-690.391390</td>\n",
       "      <td>-771.684966</td>\n",
       "      <td>81.293576</td>\n",
       "      <td>1403.025507</td>\n",
       "      <td>Trak2</td>\n",
       "      <td>RBF</td>\n",
       "      <td>3.684317e-58</td>\n",
       "      <td>3.489612e-26</td>\n",
       "      <td>1.00000</td>\n",
       "      <td>0.000000e+00</td>\n",
       "      <td>0.000000e+00</td>\n",
       "    </tr>\n",
       "    <tr>\n",
       "      <th>11</th>\n",
       "      <td>-637.874176</td>\n",
       "      <td>-738.823113</td>\n",
       "      <td>100.948937</td>\n",
       "      <td>1297.991079</td>\n",
       "      <td>Omp</td>\n",
       "      <td>RBF</td>\n",
       "      <td>0.000000e+00</td>\n",
       "      <td>2.269689e-42</td>\n",
       "      <td>1.00000</td>\n",
       "      <td>0.000000e+00</td>\n",
       "      <td>0.000000e+00</td>\n",
       "    </tr>\n",
       "    <tr>\n",
       "      <th>12</th>\n",
       "      <td>-852.911833</td>\n",
       "      <td>-975.895594</td>\n",
       "      <td>122.983762</td>\n",
       "      <td>1728.066392</td>\n",
       "      <td>Kif5b</td>\n",
       "      <td>RBF</td>\n",
       "      <td>2.713507e-85</td>\n",
       "      <td>6.073778e-44</td>\n",
       "      <td>1.00000</td>\n",
       "      <td>0.000000e+00</td>\n",
       "      <td>0.000000e+00</td>\n",
       "    </tr>\n",
       "    <tr>\n",
       "      <th>13</th>\n",
       "      <td>-779.422207</td>\n",
       "      <td>-860.078178</td>\n",
       "      <td>80.655971</td>\n",
       "      <td>1581.087141</td>\n",
       "      <td>Sash1</td>\n",
       "      <td>RBF</td>\n",
       "      <td>1.026523e-72</td>\n",
       "      <td>3.206479e-52</td>\n",
       "      <td>1.00000</td>\n",
       "      <td>0.000000e+00</td>\n",
       "      <td>0.000000e+00</td>\n",
       "    </tr>\n",
       "    <tr>\n",
       "      <th>14</th>\n",
       "      <td>-887.377675</td>\n",
       "      <td>-1005.961963</td>\n",
       "      <td>118.584288</td>\n",
       "      <td>1796.998076</td>\n",
       "      <td>Scd1</td>\n",
       "      <td>RBF</td>\n",
       "      <td>2.624377e-88</td>\n",
       "      <td>3.245255e-47</td>\n",
       "      <td>1.00000</td>\n",
       "      <td>0.000000e+00</td>\n",
       "      <td>0.000000e+00</td>\n",
       "    </tr>\n",
       "    <tr>\n",
       "      <th>15</th>\n",
       "      <td>-745.078151</td>\n",
       "      <td>-852.667404</td>\n",
       "      <td>107.589253</td>\n",
       "      <td>1512.399028</td>\n",
       "      <td>Mcf2l</td>\n",
       "      <td>RBF</td>\n",
       "      <td>2.874914e-76</td>\n",
       "      <td>2.980129e-53</td>\n",
       "      <td>1.00000</td>\n",
       "      <td>0.000000e+00</td>\n",
       "      <td>0.000000e+00</td>\n",
       "    </tr>\n",
       "    <tr>\n",
       "      <th>16</th>\n",
       "      <td>-839.598888</td>\n",
       "      <td>-942.923411</td>\n",
       "      <td>103.324523</td>\n",
       "      <td>1701.440502</td>\n",
       "      <td>Igfbp5</td>\n",
       "      <td>RBF</td>\n",
       "      <td>1.473226e-79</td>\n",
       "      <td>4.481831e-47</td>\n",
       "      <td>1.00000</td>\n",
       "      <td>0.000000e+00</td>\n",
       "      <td>0.000000e+00</td>\n",
       "    </tr>\n",
       "    <tr>\n",
       "      <th>17</th>\n",
       "      <td>-635.310703</td>\n",
       "      <td>-698.456293</td>\n",
       "      <td>63.145591</td>\n",
       "      <td>1292.864132</td>\n",
       "      <td>Nr2f2</td>\n",
       "      <td>RBF</td>\n",
       "      <td>5.941996e-50</td>\n",
       "      <td>1.319793e-40</td>\n",
       "      <td>1.00000</td>\n",
       "      <td>1.887379e-15</td>\n",
       "      <td>3.145632e-15</td>\n",
       "    </tr>\n",
       "    <tr>\n",
       "      <th>18</th>\n",
       "      <td>-652.351788</td>\n",
       "      <td>-711.419113</td>\n",
       "      <td>59.067325</td>\n",
       "      <td>1326.946303</td>\n",
       "      <td>Vtn</td>\n",
       "      <td>RBF</td>\n",
       "      <td>5.285720e-43</td>\n",
       "      <td>2.704845e-22</td>\n",
       "      <td>1.00000</td>\n",
       "      <td>1.521006e-14</td>\n",
       "      <td>2.172865e-14</td>\n",
       "    </tr>\n",
       "    <tr>\n",
       "      <th>19</th>\n",
       "      <td>-675.754984</td>\n",
       "      <td>-734.486804</td>\n",
       "      <td>58.731820</td>\n",
       "      <td>1373.752695</td>\n",
       "      <td>Frzb</td>\n",
       "      <td>RBF</td>\n",
       "      <td>5.657495e-46</td>\n",
       "      <td>8.832265e-21</td>\n",
       "      <td>1.00000</td>\n",
       "      <td>1.809664e-14</td>\n",
       "      <td>2.412885e-14</td>\n",
       "    </tr>\n",
       "  </tbody>\n",
       "</table>\n",
       "</div>"
      ],
      "text/plain": [
       "    Dynamic_model_log_likelihood  Constant_model_log_likelihood  \\\n",
       "0                   -1241.607837                   -1313.652413   \n",
       "1                   -1234.118514                   -1318.192105   \n",
       "2                   -1114.823577                   -1175.277251   \n",
       "3                   -1198.486329                   -1254.280174   \n",
       "4                   -1143.186331                   -1187.638005   \n",
       "5                   -1104.334452                   -1141.532142   \n",
       "6                   -1090.546884                   -1116.379641   \n",
       "7                   -1075.859082                   -1092.873306   \n",
       "8                    -640.205032                    -714.005117   \n",
       "9                    -828.991255                    -937.841093   \n",
       "10                   -690.391390                    -771.684966   \n",
       "11                   -637.874176                    -738.823113   \n",
       "12                   -852.911833                    -975.895594   \n",
       "13                   -779.422207                    -860.078178   \n",
       "14                   -887.377675                   -1005.961963   \n",
       "15                   -745.078151                    -852.667404   \n",
       "16                   -839.598888                    -942.923411   \n",
       "17                   -635.310703                    -698.456293   \n",
       "18                   -652.351788                    -711.419113   \n",
       "19                   -675.754984                    -734.486804   \n",
       "\n",
       "    log_likelihood_ratio          BIC     Gene Model  Linear_probability  \\\n",
       "0              72.044576  2505.458400     Glul   RBF        2.247871e-56   \n",
       "1              84.073592  2490.479754  Sparcl1   RBF        9.817604e-67   \n",
       "2              60.453674  2251.889881    Calm2   RBF        5.336216e-46   \n",
       "3              55.793846  2419.215384      Cpe   RBF        4.629769e-42   \n",
       "4              44.451674  2308.615388   Snap25   RBF        4.099890e-32   \n",
       "5              37.197690  2230.911631    Ndrg4   RBF        2.312579e-25   \n",
       "6              25.832757  2203.336494   Eef1a1   RBF        8.968134e-16   \n",
       "7              17.014224  2173.960890      Ckb   RBF        9.217270e-07   \n",
       "8              73.800085  1302.652791    Gng13   RBF        6.327532e-53   \n",
       "9             108.849838  1680.225237   S100a5   RBF        6.925603e-84   \n",
       "10             81.293576  1403.025507    Trak2   RBF        3.684317e-58   \n",
       "11            100.948937  1297.991079      Omp   RBF        0.000000e+00   \n",
       "12            122.983762  1728.066392    Kif5b   RBF        2.713507e-85   \n",
       "13             80.655971  1581.087141    Sash1   RBF        1.026523e-72   \n",
       "14            118.584288  1796.998076     Scd1   RBF        2.624377e-88   \n",
       "15            107.589253  1512.399028    Mcf2l   RBF        2.874914e-76   \n",
       "16            103.324523  1701.440502   Igfbp5   RBF        1.473226e-79   \n",
       "17             63.145591  1292.864132    Nr2f2   RBF        5.941996e-50   \n",
       "18             59.067325  1326.946303      Vtn   RBF        5.285720e-43   \n",
       "19             58.731820  1373.752695     Frzb   RBF        5.657495e-46   \n",
       "\n",
       "    Periodic_probability  RBF_probability       p_value       q_value  \n",
       "0           9.509018e-61          1.00000  0.000000e+00  0.000000e+00  \n",
       "1           1.516478e-71          1.00000  0.000000e+00  0.000000e+00  \n",
       "2           8.219199e-51          1.00000  7.549517e-15  1.161464e-14  \n",
       "3           3.229465e-48          1.00000  8.049117e-14  1.006140e-13  \n",
       "4           1.004192e-36          1.00000  2.607137e-11  3.067220e-11  \n",
       "5           1.063888e-29          1.00000  1.067401e-09  1.186001e-09  \n",
       "6           2.242152e-17          1.00000  3.723158e-07  3.919114e-07  \n",
       "7           1.188336e-04          0.99988  3.710084e-05  3.710084e-05  \n",
       "8           1.469982e-33          1.00000  0.000000e+00  0.000000e+00  \n",
       "9           5.860545e-44          1.00000  0.000000e+00  0.000000e+00  \n",
       "10          3.489612e-26          1.00000  0.000000e+00  0.000000e+00  \n",
       "11          2.269689e-42          1.00000  0.000000e+00  0.000000e+00  \n",
       "12          6.073778e-44          1.00000  0.000000e+00  0.000000e+00  \n",
       "13          3.206479e-52          1.00000  0.000000e+00  0.000000e+00  \n",
       "14          3.245255e-47          1.00000  0.000000e+00  0.000000e+00  \n",
       "15          2.980129e-53          1.00000  0.000000e+00  0.000000e+00  \n",
       "16          4.481831e-47          1.00000  0.000000e+00  0.000000e+00  \n",
       "17          1.319793e-40          1.00000  1.887379e-15  3.145632e-15  \n",
       "18          2.704845e-22          1.00000  1.521006e-14  2.172865e-14  \n",
       "19          8.832265e-21          1.00000  1.809664e-14  2.412885e-14  "
      ]
     },
     "execution_count": 13,
     "metadata": {},
     "output_type": "execute_result"
    }
   ],
   "source": [
    "results = gp_counts.Model_selection_test(likelihood)\n",
    "results"
   ]
  },
  {
   "cell_type": "code",
   "execution_count": 14,
   "metadata": {
    "ExecuteTime": {
     "end_time": "2020-10-23T08:26:12.777939Z",
     "start_time": "2020-10-23T08:26:12.761171Z"
    }
   },
   "outputs": [
    {
     "data": {
      "text/html": [
       "<div>\n",
       "<style scoped>\n",
       "    .dataframe tbody tr th:only-of-type {\n",
       "        vertical-align: middle;\n",
       "    }\n",
       "\n",
       "    .dataframe tbody tr th {\n",
       "        vertical-align: top;\n",
       "    }\n",
       "\n",
       "    .dataframe thead th {\n",
       "        text-align: right;\n",
       "    }\n",
       "</style>\n",
       "<table border=\"1\" class=\"dataframe\">\n",
       "  <thead>\n",
       "    <tr style=\"text-align: right;\">\n",
       "      <th></th>\n",
       "      <th>Dynamic_model_log_likelihood</th>\n",
       "      <th>Constant_model_log_likelihood</th>\n",
       "      <th>log_likelihood_ratio</th>\n",
       "      <th>BIC</th>\n",
       "      <th>Gene</th>\n",
       "      <th>Model</th>\n",
       "      <th>Linear_probability</th>\n",
       "      <th>Periodic_probability</th>\n",
       "      <th>RBF_probability</th>\n",
       "      <th>p_value</th>\n",
       "      <th>q_value</th>\n",
       "    </tr>\n",
       "  </thead>\n",
       "  <tbody>\n",
       "    <tr>\n",
       "      <th>0</th>\n",
       "      <td>-1241.607837</td>\n",
       "      <td>-1313.652413</td>\n",
       "      <td>72.044576</td>\n",
       "      <td>2505.458400</td>\n",
       "      <td>Glul</td>\n",
       "      <td>RBF</td>\n",
       "      <td>2.247871e-56</td>\n",
       "      <td>9.509018e-61</td>\n",
       "      <td>1.00000</td>\n",
       "      <td>0.000000e+00</td>\n",
       "      <td>0.000000e+00</td>\n",
       "    </tr>\n",
       "    <tr>\n",
       "      <th>1</th>\n",
       "      <td>-1234.118514</td>\n",
       "      <td>-1318.192105</td>\n",
       "      <td>84.073592</td>\n",
       "      <td>2490.479754</td>\n",
       "      <td>Sparcl1</td>\n",
       "      <td>RBF</td>\n",
       "      <td>9.817604e-67</td>\n",
       "      <td>1.516478e-71</td>\n",
       "      <td>1.00000</td>\n",
       "      <td>0.000000e+00</td>\n",
       "      <td>0.000000e+00</td>\n",
       "    </tr>\n",
       "    <tr>\n",
       "      <th>2</th>\n",
       "      <td>-1114.823577</td>\n",
       "      <td>-1175.277251</td>\n",
       "      <td>60.453674</td>\n",
       "      <td>2251.889881</td>\n",
       "      <td>Calm2</td>\n",
       "      <td>RBF</td>\n",
       "      <td>5.336216e-46</td>\n",
       "      <td>8.219199e-51</td>\n",
       "      <td>1.00000</td>\n",
       "      <td>7.549517e-15</td>\n",
       "      <td>1.161464e-14</td>\n",
       "    </tr>\n",
       "    <tr>\n",
       "      <th>3</th>\n",
       "      <td>-1198.486329</td>\n",
       "      <td>-1254.280174</td>\n",
       "      <td>55.793846</td>\n",
       "      <td>2419.215384</td>\n",
       "      <td>Cpe</td>\n",
       "      <td>RBF</td>\n",
       "      <td>4.629769e-42</td>\n",
       "      <td>3.229465e-48</td>\n",
       "      <td>1.00000</td>\n",
       "      <td>8.049117e-14</td>\n",
       "      <td>1.006140e-13</td>\n",
       "    </tr>\n",
       "    <tr>\n",
       "      <th>4</th>\n",
       "      <td>-1143.186331</td>\n",
       "      <td>-1187.638005</td>\n",
       "      <td>44.451674</td>\n",
       "      <td>2308.615388</td>\n",
       "      <td>Snap25</td>\n",
       "      <td>RBF</td>\n",
       "      <td>4.099890e-32</td>\n",
       "      <td>1.004192e-36</td>\n",
       "      <td>1.00000</td>\n",
       "      <td>2.607137e-11</td>\n",
       "      <td>3.067220e-11</td>\n",
       "    </tr>\n",
       "    <tr>\n",
       "      <th>5</th>\n",
       "      <td>-1104.334452</td>\n",
       "      <td>-1141.532142</td>\n",
       "      <td>37.197690</td>\n",
       "      <td>2230.911631</td>\n",
       "      <td>Ndrg4</td>\n",
       "      <td>RBF</td>\n",
       "      <td>2.312579e-25</td>\n",
       "      <td>1.063888e-29</td>\n",
       "      <td>1.00000</td>\n",
       "      <td>1.067401e-09</td>\n",
       "      <td>1.186001e-09</td>\n",
       "    </tr>\n",
       "    <tr>\n",
       "      <th>6</th>\n",
       "      <td>-1090.546884</td>\n",
       "      <td>-1116.379641</td>\n",
       "      <td>25.832757</td>\n",
       "      <td>2203.336494</td>\n",
       "      <td>Eef1a1</td>\n",
       "      <td>RBF</td>\n",
       "      <td>8.968134e-16</td>\n",
       "      <td>2.242152e-17</td>\n",
       "      <td>1.00000</td>\n",
       "      <td>3.723158e-07</td>\n",
       "      <td>3.919114e-07</td>\n",
       "    </tr>\n",
       "    <tr>\n",
       "      <th>7</th>\n",
       "      <td>-1075.859082</td>\n",
       "      <td>-1092.873306</td>\n",
       "      <td>17.014224</td>\n",
       "      <td>2173.960890</td>\n",
       "      <td>Ckb</td>\n",
       "      <td>RBF</td>\n",
       "      <td>9.217270e-07</td>\n",
       "      <td>1.188336e-04</td>\n",
       "      <td>0.99988</td>\n",
       "      <td>3.710084e-05</td>\n",
       "      <td>3.710084e-05</td>\n",
       "    </tr>\n",
       "    <tr>\n",
       "      <th>8</th>\n",
       "      <td>-640.205032</td>\n",
       "      <td>-714.005117</td>\n",
       "      <td>73.800085</td>\n",
       "      <td>1302.652791</td>\n",
       "      <td>Gng13</td>\n",
       "      <td>RBF</td>\n",
       "      <td>6.327532e-53</td>\n",
       "      <td>1.469982e-33</td>\n",
       "      <td>1.00000</td>\n",
       "      <td>0.000000e+00</td>\n",
       "      <td>0.000000e+00</td>\n",
       "    </tr>\n",
       "    <tr>\n",
       "      <th>9</th>\n",
       "      <td>-828.991255</td>\n",
       "      <td>-937.841093</td>\n",
       "      <td>108.849838</td>\n",
       "      <td>1680.225237</td>\n",
       "      <td>S100a5</td>\n",
       "      <td>RBF</td>\n",
       "      <td>6.925603e-84</td>\n",
       "      <td>5.860545e-44</td>\n",
       "      <td>1.00000</td>\n",
       "      <td>0.000000e+00</td>\n",
       "      <td>0.000000e+00</td>\n",
       "    </tr>\n",
       "    <tr>\n",
       "      <th>10</th>\n",
       "      <td>-690.391390</td>\n",
       "      <td>-771.684966</td>\n",
       "      <td>81.293576</td>\n",
       "      <td>1403.025507</td>\n",
       "      <td>Trak2</td>\n",
       "      <td>RBF</td>\n",
       "      <td>3.684317e-58</td>\n",
       "      <td>3.489612e-26</td>\n",
       "      <td>1.00000</td>\n",
       "      <td>0.000000e+00</td>\n",
       "      <td>0.000000e+00</td>\n",
       "    </tr>\n",
       "    <tr>\n",
       "      <th>11</th>\n",
       "      <td>-637.874176</td>\n",
       "      <td>-738.823113</td>\n",
       "      <td>100.948937</td>\n",
       "      <td>1297.991079</td>\n",
       "      <td>Omp</td>\n",
       "      <td>RBF</td>\n",
       "      <td>0.000000e+00</td>\n",
       "      <td>2.269689e-42</td>\n",
       "      <td>1.00000</td>\n",
       "      <td>0.000000e+00</td>\n",
       "      <td>0.000000e+00</td>\n",
       "    </tr>\n",
       "    <tr>\n",
       "      <th>12</th>\n",
       "      <td>-852.911833</td>\n",
       "      <td>-975.895594</td>\n",
       "      <td>122.983762</td>\n",
       "      <td>1728.066392</td>\n",
       "      <td>Kif5b</td>\n",
       "      <td>RBF</td>\n",
       "      <td>2.713507e-85</td>\n",
       "      <td>6.073778e-44</td>\n",
       "      <td>1.00000</td>\n",
       "      <td>0.000000e+00</td>\n",
       "      <td>0.000000e+00</td>\n",
       "    </tr>\n",
       "    <tr>\n",
       "      <th>13</th>\n",
       "      <td>-779.422207</td>\n",
       "      <td>-860.078178</td>\n",
       "      <td>80.655971</td>\n",
       "      <td>1581.087141</td>\n",
       "      <td>Sash1</td>\n",
       "      <td>RBF</td>\n",
       "      <td>1.026523e-72</td>\n",
       "      <td>3.206479e-52</td>\n",
       "      <td>1.00000</td>\n",
       "      <td>0.000000e+00</td>\n",
       "      <td>0.000000e+00</td>\n",
       "    </tr>\n",
       "    <tr>\n",
       "      <th>14</th>\n",
       "      <td>-887.377675</td>\n",
       "      <td>-1005.961963</td>\n",
       "      <td>118.584288</td>\n",
       "      <td>1796.998076</td>\n",
       "      <td>Scd1</td>\n",
       "      <td>RBF</td>\n",
       "      <td>2.624377e-88</td>\n",
       "      <td>3.245255e-47</td>\n",
       "      <td>1.00000</td>\n",
       "      <td>0.000000e+00</td>\n",
       "      <td>0.000000e+00</td>\n",
       "    </tr>\n",
       "    <tr>\n",
       "      <th>15</th>\n",
       "      <td>-745.078151</td>\n",
       "      <td>-852.667404</td>\n",
       "      <td>107.589253</td>\n",
       "      <td>1512.399028</td>\n",
       "      <td>Mcf2l</td>\n",
       "      <td>RBF</td>\n",
       "      <td>2.874914e-76</td>\n",
       "      <td>2.980129e-53</td>\n",
       "      <td>1.00000</td>\n",
       "      <td>0.000000e+00</td>\n",
       "      <td>0.000000e+00</td>\n",
       "    </tr>\n",
       "    <tr>\n",
       "      <th>16</th>\n",
       "      <td>-839.598888</td>\n",
       "      <td>-942.923411</td>\n",
       "      <td>103.324523</td>\n",
       "      <td>1701.440502</td>\n",
       "      <td>Igfbp5</td>\n",
       "      <td>RBF</td>\n",
       "      <td>1.473226e-79</td>\n",
       "      <td>4.481831e-47</td>\n",
       "      <td>1.00000</td>\n",
       "      <td>0.000000e+00</td>\n",
       "      <td>0.000000e+00</td>\n",
       "    </tr>\n",
       "    <tr>\n",
       "      <th>17</th>\n",
       "      <td>-635.310703</td>\n",
       "      <td>-698.456293</td>\n",
       "      <td>63.145591</td>\n",
       "      <td>1292.864132</td>\n",
       "      <td>Nr2f2</td>\n",
       "      <td>RBF</td>\n",
       "      <td>5.941996e-50</td>\n",
       "      <td>1.319793e-40</td>\n",
       "      <td>1.00000</td>\n",
       "      <td>1.887379e-15</td>\n",
       "      <td>3.145632e-15</td>\n",
       "    </tr>\n",
       "    <tr>\n",
       "      <th>18</th>\n",
       "      <td>-652.351788</td>\n",
       "      <td>-711.419113</td>\n",
       "      <td>59.067325</td>\n",
       "      <td>1326.946303</td>\n",
       "      <td>Vtn</td>\n",
       "      <td>RBF</td>\n",
       "      <td>5.285720e-43</td>\n",
       "      <td>2.704845e-22</td>\n",
       "      <td>1.00000</td>\n",
       "      <td>1.521006e-14</td>\n",
       "      <td>2.172865e-14</td>\n",
       "    </tr>\n",
       "    <tr>\n",
       "      <th>19</th>\n",
       "      <td>-675.754984</td>\n",
       "      <td>-734.486804</td>\n",
       "      <td>58.731820</td>\n",
       "      <td>1373.752695</td>\n",
       "      <td>Frzb</td>\n",
       "      <td>RBF</td>\n",
       "      <td>5.657495e-46</td>\n",
       "      <td>8.832265e-21</td>\n",
       "      <td>1.00000</td>\n",
       "      <td>1.809664e-14</td>\n",
       "      <td>2.412885e-14</td>\n",
       "    </tr>\n",
       "  </tbody>\n",
       "</table>\n",
       "</div>"
      ],
      "text/plain": [
       "    Dynamic_model_log_likelihood  Constant_model_log_likelihood  \\\n",
       "0                   -1241.607837                   -1313.652413   \n",
       "1                   -1234.118514                   -1318.192105   \n",
       "2                   -1114.823577                   -1175.277251   \n",
       "3                   -1198.486329                   -1254.280174   \n",
       "4                   -1143.186331                   -1187.638005   \n",
       "5                   -1104.334452                   -1141.532142   \n",
       "6                   -1090.546884                   -1116.379641   \n",
       "7                   -1075.859082                   -1092.873306   \n",
       "8                    -640.205032                    -714.005117   \n",
       "9                    -828.991255                    -937.841093   \n",
       "10                   -690.391390                    -771.684966   \n",
       "11                   -637.874176                    -738.823113   \n",
       "12                   -852.911833                    -975.895594   \n",
       "13                   -779.422207                    -860.078178   \n",
       "14                   -887.377675                   -1005.961963   \n",
       "15                   -745.078151                    -852.667404   \n",
       "16                   -839.598888                    -942.923411   \n",
       "17                   -635.310703                    -698.456293   \n",
       "18                   -652.351788                    -711.419113   \n",
       "19                   -675.754984                    -734.486804   \n",
       "\n",
       "    log_likelihood_ratio          BIC     Gene Model  Linear_probability  \\\n",
       "0              72.044576  2505.458400     Glul   RBF        2.247871e-56   \n",
       "1              84.073592  2490.479754  Sparcl1   RBF        9.817604e-67   \n",
       "2              60.453674  2251.889881    Calm2   RBF        5.336216e-46   \n",
       "3              55.793846  2419.215384      Cpe   RBF        4.629769e-42   \n",
       "4              44.451674  2308.615388   Snap25   RBF        4.099890e-32   \n",
       "5              37.197690  2230.911631    Ndrg4   RBF        2.312579e-25   \n",
       "6              25.832757  2203.336494   Eef1a1   RBF        8.968134e-16   \n",
       "7              17.014224  2173.960890      Ckb   RBF        9.217270e-07   \n",
       "8              73.800085  1302.652791    Gng13   RBF        6.327532e-53   \n",
       "9             108.849838  1680.225237   S100a5   RBF        6.925603e-84   \n",
       "10             81.293576  1403.025507    Trak2   RBF        3.684317e-58   \n",
       "11            100.948937  1297.991079      Omp   RBF        0.000000e+00   \n",
       "12            122.983762  1728.066392    Kif5b   RBF        2.713507e-85   \n",
       "13             80.655971  1581.087141    Sash1   RBF        1.026523e-72   \n",
       "14            118.584288  1796.998076     Scd1   RBF        2.624377e-88   \n",
       "15            107.589253  1512.399028    Mcf2l   RBF        2.874914e-76   \n",
       "16            103.324523  1701.440502   Igfbp5   RBF        1.473226e-79   \n",
       "17             63.145591  1292.864132    Nr2f2   RBF        5.941996e-50   \n",
       "18             59.067325  1326.946303      Vtn   RBF        5.285720e-43   \n",
       "19             58.731820  1373.752695     Frzb   RBF        5.657495e-46   \n",
       "\n",
       "    Periodic_probability  RBF_probability       p_value       q_value  \n",
       "0           9.509018e-61          1.00000  0.000000e+00  0.000000e+00  \n",
       "1           1.516478e-71          1.00000  0.000000e+00  0.000000e+00  \n",
       "2           8.219199e-51          1.00000  7.549517e-15  1.161464e-14  \n",
       "3           3.229465e-48          1.00000  8.049117e-14  1.006140e-13  \n",
       "4           1.004192e-36          1.00000  2.607137e-11  3.067220e-11  \n",
       "5           1.063888e-29          1.00000  1.067401e-09  1.186001e-09  \n",
       "6           2.242152e-17          1.00000  3.723158e-07  3.919114e-07  \n",
       "7           1.188336e-04          0.99988  3.710084e-05  3.710084e-05  \n",
       "8           1.469982e-33          1.00000  0.000000e+00  0.000000e+00  \n",
       "9           5.860545e-44          1.00000  0.000000e+00  0.000000e+00  \n",
       "10          3.489612e-26          1.00000  0.000000e+00  0.000000e+00  \n",
       "11          2.269689e-42          1.00000  0.000000e+00  0.000000e+00  \n",
       "12          6.073778e-44          1.00000  0.000000e+00  0.000000e+00  \n",
       "13          3.206479e-52          1.00000  0.000000e+00  0.000000e+00  \n",
       "14          3.245255e-47          1.00000  0.000000e+00  0.000000e+00  \n",
       "15          2.980129e-53          1.00000  0.000000e+00  0.000000e+00  \n",
       "16          4.481831e-47          1.00000  0.000000e+00  0.000000e+00  \n",
       "17          1.319793e-40          1.00000  1.887379e-15  3.145632e-15  \n",
       "18          2.704845e-22          1.00000  1.521006e-14  2.172865e-14  \n",
       "19          8.832265e-21          1.00000  1.809664e-14  2.412885e-14  "
      ]
     },
     "execution_count": 14,
     "metadata": {},
     "output_type": "execute_result"
    }
   ],
   "source": [
    "results"
   ]
  },
  {
   "cell_type": "code",
   "execution_count": null,
   "metadata": {},
   "outputs": [],
   "source": []
  }
 ],
 "metadata": {
  "kernelspec": {
   "display_name": "Python 3",
   "language": "python",
   "name": "python3"
  },
  "language_info": {
   "codemirror_mode": {
    "name": "ipython",
    "version": 3
   },
   "file_extension": ".py",
   "mimetype": "text/x-python",
   "name": "python",
   "nbconvert_exporter": "python",
   "pygments_lexer": "ipython3",
   "version": "3.7.7"
  }
 },
 "nbformat": 4,
 "nbformat_minor": 4
}
