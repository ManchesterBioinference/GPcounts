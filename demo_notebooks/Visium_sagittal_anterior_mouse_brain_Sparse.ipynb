{
 "cells": [
  {
   "cell_type": "code",
   "execution_count": 1,
   "metadata": {
    "ExecuteTime": {
     "end_time": "2023-02-21T11:03:32.240147Z",
     "start_time": "2023-02-21T11:03:23.385311Z"
    }
   },
   "outputs": [],
   "source": [
    "import pandas as pd \n",
    "import numpy as np \n",
    "import gpflow\n",
    "import tensorflow as tf\n",
    "from GPcounts import NegativeBinomialLikelihood\n",
    "from GPcounts.GPcounts_Module import Fit_GPcounts\n",
    "from matplotlib import pyplot as plt\n",
    "import scanpy as sc\n",
    "import seaborn as sns\n",
    "import numpy as np\n",
    "from matplotlib import pyplot as plt\n",
    "from scipy.cluster.vq import kmeans"
   ]
  },
  {
   "cell_type": "code",
   "execution_count": 2,
   "metadata": {
    "ExecuteTime": {
     "end_time": "2023-02-21T11:03:33.421226Z",
     "start_time": "2023-02-21T11:03:32.242395Z"
    }
   },
   "outputs": [
    {
     "name": "stderr",
     "output_type": "stream",
     "text": [
      "/Users/user/opt/anaconda3/envs/tf/lib/python3.8/site-packages/anndata/_core/anndata.py:1830: UserWarning: Variable names are not unique. To make them unique, call `.var_names_make_unique`.\n",
      "  utils.warn_names_duplicates(\"var\")\n"
     ]
    }
   ],
   "source": [
    "adata = sc.datasets.visium_sge(\n",
    "    sample_id=\"V1_Mouse_Brain_Sagittal_Anterior\")"
   ]
  },
  {
   "cell_type": "code",
   "execution_count": 3,
   "metadata": {
    "ExecuteTime": {
     "end_time": "2023-02-21T11:03:34.047339Z",
     "start_time": "2023-02-21T11:03:33.423449Z"
    }
   },
   "outputs": [],
   "source": [
    "adata.var_names_make_unique()\n",
    "adata.var['mt'] = adata.var_names.str.startswith('MT-')\n",
    "sc.pp.calculate_qc_metrics(adata,qc_vars = [\"mt\"], inplace=True)"
   ]
  },
  {
   "cell_type": "code",
   "execution_count": 4,
   "metadata": {
    "ExecuteTime": {
     "end_time": "2023-02-21T11:03:34.056498Z",
     "start_time": "2023-02-21T11:03:34.050724Z"
    }
   },
   "outputs": [],
   "source": [
    "# adata.obsm['spatial']\n",
    "spatialx = [str(i) for i in adata.obsm['spatial'][:,0]]\n",
    "spatialy = [str(i) for i in adata.obsm['spatial'][:,1]]"
   ]
  },
  {
   "cell_type": "code",
   "execution_count": 5,
   "metadata": {
    "ExecuteTime": {
     "end_time": "2023-02-21T11:03:34.062667Z",
     "start_time": "2023-02-21T11:03:34.058838Z"
    }
   },
   "outputs": [],
   "source": [
    "index_names = [i+'x'+j for i,j in zip(spatialx,spatialy)]"
   ]
  },
  {
   "cell_type": "code",
   "execution_count": 6,
   "metadata": {
    "ExecuteTime": {
     "end_time": "2023-02-21T11:03:34.085260Z",
     "start_time": "2023-02-21T11:03:34.068257Z"
    }
   },
   "outputs": [
    {
     "name": "stdout",
     "output_type": "stream",
     "text": [
      "2695 32272\n"
     ]
    }
   ],
   "source": [
    "mito_genes = adata.var_names.str.startswith('mt-')\n",
    "keep = np.invert(mito_genes)\n",
    "adata = adata[:,keep]\n",
    "print(adata.n_obs, adata.n_vars)"
   ]
  },
  {
   "cell_type": "code",
   "execution_count": 7,
   "metadata": {
    "ExecuteTime": {
     "end_time": "2023-02-21T11:03:34.354398Z",
     "start_time": "2023-02-21T11:03:34.086951Z"
    }
   },
   "outputs": [],
   "source": [
    "Y = pd.DataFrame(data=adata.X.A, index=index_names, columns = adata.var.index)"
   ]
  },
  {
   "cell_type": "code",
   "execution_count": 8,
   "metadata": {
    "ExecuteTime": {
     "end_time": "2023-02-21T11:03:34.648179Z",
     "start_time": "2023-02-21T11:03:34.357172Z"
    }
   },
   "outputs": [],
   "source": [
    "Y = Y.T[Y.sum(0) >= 10].T # Filter out genes with less than 3 total counts"
   ]
  },
  {
   "cell_type": "code",
   "execution_count": 9,
   "metadata": {
    "ExecuteTime": {
     "end_time": "2023-02-21T11:03:34.659191Z",
     "start_time": "2023-02-21T11:03:34.650376Z"
    }
   },
   "outputs": [],
   "source": [
    "spatial_locations = pd.DataFrame(index=Y.index)\n",
    "spatial_locations['x'] = Y.index.str.split('x').str.get(0).map(float)\n",
    "spatial_locations['y'] = Y.index.str.split('x').str.get(1).map(float)"
   ]
  },
  {
   "cell_type": "code",
   "execution_count": 10,
   "metadata": {
    "ExecuteTime": {
     "end_time": "2023-02-21T11:03:34.848586Z",
     "start_time": "2023-02-21T11:03:34.661752Z"
    }
   },
   "outputs": [],
   "source": [
    "spatial_locations['total_counts'] = Y.sum(1)\n",
    "Y = Y.loc[spatial_locations.index]\n",
    "X = spatial_locations[['x', 'y']]"
   ]
  },
  {
   "cell_type": "code",
   "execution_count": 11,
   "metadata": {
    "ExecuteTime": {
     "end_time": "2023-02-21T11:03:34.854927Z",
     "start_time": "2023-02-21T11:03:34.853268Z"
    }
   },
   "outputs": [],
   "source": [
    "# import scipy as sp\n",
    "# sp.special.wrightomega(np.log(X.shape[0]))"
   ]
  },
  {
   "cell_type": "code",
   "execution_count": 12,
   "metadata": {
    "ExecuteTime": {
     "end_time": "2023-02-21T11:06:18.715099Z",
     "start_time": "2023-02-21T11:03:34.856995Z"
    }
   },
   "outputs": [
    {
     "name": "stdout",
     "output_type": "stream",
     "text": [
      "           total_counts  total_counts  total_counts  total_counts  \\\n",
      "8500x7474     -2.126576     -2.020778     -0.748637      0.199988   \n",
      "2788x8552     -6.106828     -5.803010     -2.149839      0.574299   \n",
      "7950x3163     -4.380051     -4.162141     -1.541947      0.411909   \n",
      "2100x6636     -6.729553     -6.394753     -2.369062      0.632861   \n",
      "2375x7115     -5.775425     -5.488094     -2.033173      0.543133   \n",
      "...                 ...           ...           ...           ...   \n",
      "5541x7594     -4.467038     -4.244800     -1.572570      0.420089   \n",
      "5885x4361     -4.517354     -4.292613     -1.590283      0.424821   \n",
      "6780x5199     -3.622241     -3.442032     -1.275169      0.340643   \n",
      "4371x8433     -2.294069     -2.179938     -0.807601      0.215739   \n",
      "3339x6876     -2.359565     -2.242175     -0.830658      0.221898   \n",
      "\n",
      "           total_counts  total_counts  total_counts  total_counts  \\\n",
      "8500x7474     -0.086521      0.308813      0.087101      0.613868   \n",
      "2788x8552     -0.248461      0.886810      0.250125      1.762827   \n",
      "7950x3163     -0.178206      0.636054      0.179399      1.264367   \n",
      "2100x6636     -0.273797      0.977239      0.275630      1.942586   \n",
      "2375x7115     -0.234977      0.838685      0.236551      1.667162   \n",
      "...                 ...           ...           ...           ...   \n",
      "5541x7594     -0.181745      0.648686      0.182962      1.289477   \n",
      "5885x4361     -0.183792      0.655993      0.185023      1.304002   \n",
      "6780x5199     -0.147374      0.526008      0.148361      1.045614   \n",
      "4371x8433     -0.093336      0.333136      0.093961      0.662217   \n",
      "3339x6876     -0.096001      0.342647      0.096644      0.681124   \n",
      "\n",
      "           total_counts  total_counts  ...  total_counts  total_counts  \\\n",
      "8500x7474     -0.558261     -2.203414  ...     -0.039185     -0.361434   \n",
      "2788x8552     -1.603141     -6.327481  ...     -0.112525     -1.037921   \n",
      "7950x3163     -1.149834     -4.538312  ...     -0.080708     -0.744437   \n",
      "2100x6636     -1.766616     -6.972706  ...     -0.124000     -1.143759   \n",
      "2375x7115     -1.516142     -5.984104  ...     -0.106419     -0.981595   \n",
      "...                 ...           ...  ...           ...           ...   \n",
      "5541x7594     -1.172670     -4.628442  ...     -0.082310     -0.759221   \n",
      "5885x4361     -1.185879     -4.680576  ...     -0.083237     -0.767773   \n",
      "6780x5199     -0.950897     -3.753120  ...     -0.066744     -0.615639   \n",
      "4371x8433     -0.602230     -2.376959  ...     -0.042271     -0.389902   \n",
      "3339x6876     -0.619424     -2.444821  ...     -0.043478     -0.401033   \n",
      "\n",
      "           total_counts  total_counts  total_counts  total_counts  \\\n",
      "8500x7474      1.071009     -0.545455     -0.031875     -0.759986   \n",
      "2788x8552      3.075585     -1.566368     -0.091534     -2.182430   \n",
      "7950x3163      2.205927     -1.123459     -0.065652     -1.565322   \n",
      "2100x6636      3.389208     -1.726093     -0.100868     -2.404976   \n",
      "2375x7115      2.908680     -1.481364     -0.086567     -2.063994   \n",
      "...                 ...           ...           ...           ...   \n",
      "5541x7594      2.249737     -1.145770     -0.066955     -1.596409   \n",
      "5885x4361      2.275078     -1.158676     -0.067710     -1.614391   \n",
      "6780x5199      1.824271     -0.929085     -0.054293     -1.294500   \n",
      "4371x8433      1.155363     -0.588416     -0.034385     -0.819844   \n",
      "3339x6876      1.188349     -0.605215     -0.035367     -0.843250   \n",
      "\n",
      "           total_counts  total_counts  total_counts  total_counts  \n",
      "8500x7474     -1.390176     -4.039156     -2.745804      0.815364  \n",
      "2788x8552     -3.992130    -11.599130     -7.885048      2.341459  \n",
      "7950x3163     -2.863308     -8.319340     -5.655458      1.679384  \n",
      "2100x6636     -4.399215    -12.781915     -8.689101      2.580222  \n",
      "2375x7115     -3.775486    -10.969672     -7.457145      2.214393  \n",
      "...                 ...           ...           ...           ...  \n",
      "5541x7594     -2.920173     -8.484561     -5.767775      1.712736  \n",
      "5885x4361     -2.953066     -8.580130     -5.832742      1.732028  \n",
      "6780x5199     -2.367916     -6.879978     -4.676985      1.388827  \n",
      "4371x8433     -1.499669     -4.357287     -2.962068      0.879584  \n",
      "3339x6876     -1.542485     -4.481688     -3.046636      0.904696  \n",
      "\n",
      "[2695 rows x 17143 columns]\n"
     ]
    }
   ],
   "source": [
    "import statsmodels.formula.api as smf \n",
    "import statsmodels.api as sm\n",
    "scales = []\n",
    "for i in range(0,len(Y.columns)):\n",
    "    model=smf.glm(formula = \"Y.iloc[:,i]~0+spatial_locations['total_counts']\", data=Y,family=sm.families.NegativeBinomial(sm.families.links.log())).fit()\n",
    "    res = model.params[0]*spatial_locations['total_counts']\n",
    "    scales.append(res)\n",
    "scalesdf=pd.DataFrame(scales)\n",
    "scalesdf=scalesdf.T\n",
    "print(scalesdf)"
   ]
  },
  {
   "cell_type": "code",
   "execution_count": 13,
   "metadata": {
    "ExecuteTime": {
     "end_time": "2023-02-21T11:06:18.721522Z",
     "start_time": "2023-02-21T11:06:18.718447Z"
    }
   },
   "outputs": [],
   "source": [
    "scale = scalesdf"
   ]
  },
  {
   "cell_type": "code",
   "execution_count": 14,
   "metadata": {
    "ExecuteTime": {
     "end_time": "2023-02-21T11:06:18.731250Z",
     "start_time": "2023-02-21T11:06:18.725314Z"
    }
   },
   "outputs": [],
   "source": [
    "Y = Y.T\n",
    "Y_run = Y.iloc[0:20,:] # select first 20 genes to run GPcounts\n",
    "X = X[['x', 'y']]"
   ]
  },
  {
   "cell_type": "code",
   "execution_count": 16,
   "metadata": {
    "ExecuteTime": {
     "end_time": "2023-02-21T11:07:44.098352Z",
     "start_time": "2023-02-21T11:07:44.092046Z"
    }
   },
   "outputs": [],
   "source": [
    "gene_name = []\n",
    "sparse = True \n",
    "nb_scaled = True # set the nb_scaled argument to True to pass the scale factors \n",
    "gene_name = Y_run.index\n",
    "likelihood = 'Negative_binomial' \n",
    "gp_counts = Fit_GPcounts(X,Y_run.loc[gene_name], sparse = sparse, M=120,scale=scale,safe_mode=False)\n",
    "# gp_counts.ConditionalVariance_inducing_points( M =5)"
   ]
  },
  {
   "cell_type": "code",
   "execution_count": 17,
   "metadata": {
    "ExecuteTime": {
     "end_time": "2023-02-21T11:11:45.836345Z",
     "start_time": "2023-02-21T11:07:45.618248Z"
    }
   },
   "outputs": [
    {
     "name": "stderr",
     "output_type": "stream",
     "text": [
      " 60%|█████████████████████████████████████████████████████████████████████████████████▌                                                      | 12/20 [02:24<01:47, 13.49s/it]2023-02-21 11:10:14.831039: W tensorflow/core/kernels/linalg/cholesky_op.cc:56] Cholesky decomposition was not successful. Eigen::LLT failed with error code 1. Filling lower-triangular output with NaNs.\n",
      "2023-02-21 11:10:14.853844: W tensorflow/core/kernels/linalg/cholesky_op.cc:56] Cholesky decomposition was not successful. Eigen::LLT failed with error code 1. Filling lower-triangular output with NaNs.\n",
      "2023-02-21 11:10:14.879575: W tensorflow/core/kernels/linalg/cholesky_op.cc:56] Cholesky decomposition was not successful. Eigen::LLT failed with error code 1. Filling lower-triangular output with NaNs.\n",
      "2023-02-21 11:10:14.905647: W tensorflow/core/kernels/linalg/cholesky_op.cc:56] Cholesky decomposition was not successful. Eigen::LLT failed with error code 1. Filling lower-triangular output with NaNs.\n",
      "2023-02-21 11:10:14.930727: W tensorflow/core/kernels/linalg/cholesky_op.cc:56] Cholesky decomposition was not successful. Eigen::LLT failed with error code 1. Filling lower-triangular output with NaNs.\n",
      "2023-02-21 11:10:14.956774: W tensorflow/core/kernels/linalg/cholesky_op.cc:56] Cholesky decomposition was not successful. Eigen::LLT failed with error code 1. Filling lower-triangular output with NaNs.\n",
      " 95%|█████████████████████████████████████████████████████████████████████████████████████████████████████████████████████████████████▏      | 19/20 [03:52<00:12, 12.66s/it]2023-02-21 11:11:42.802390: W tensorflow/core/kernels/linalg/cholesky_op.cc:56] Cholesky decomposition was not successful. Eigen::LLT failed with error code 1. Filling lower-triangular output with NaNs.\n",
      "2023-02-21 11:11:42.827097: W tensorflow/core/kernels/linalg/cholesky_op.cc:56] Cholesky decomposition was not successful. Eigen::LLT failed with error code 1. Filling lower-triangular output with NaNs.\n",
      "2023-02-21 11:11:42.849521: W tensorflow/core/kernels/linalg/cholesky_op.cc:56] Cholesky decomposition was not successful. Eigen::LLT failed with error code 1. Filling lower-triangular output with NaNs.\n",
      "2023-02-21 11:11:42.874042: W tensorflow/core/kernels/linalg/cholesky_op.cc:56] Cholesky decomposition was not successful. Eigen::LLT failed with error code 1. Filling lower-triangular output with NaNs.\n",
      "2023-02-21 11:11:42.896075: W tensorflow/core/kernels/linalg/cholesky_op.cc:56] Cholesky decomposition was not successful. Eigen::LLT failed with error code 1. Filling lower-triangular output with NaNs.\n",
      "100%|████████████████████████████████████████████████████████████████████████████████████████████████████████████████████████████████████████| 20/20 [04:00<00:00, 12.01s/it]\n"
     ]
    },
    {
     "data": {
      "text/html": [
       "<div>\n",
       "<style scoped>\n",
       "    .dataframe tbody tr th:only-of-type {\n",
       "        vertical-align: middle;\n",
       "    }\n",
       "\n",
       "    .dataframe tbody tr th {\n",
       "        vertical-align: top;\n",
       "    }\n",
       "\n",
       "    .dataframe thead th {\n",
       "        text-align: right;\n",
       "    }\n",
       "</style>\n",
       "<table border=\"1\" class=\"dataframe\">\n",
       "  <thead>\n",
       "    <tr style=\"text-align: right;\">\n",
       "      <th></th>\n",
       "      <th>Dynamic_model_log_likelihood</th>\n",
       "      <th>Constant_model_log_likelihood</th>\n",
       "      <th>log_likelihood_ratio</th>\n",
       "    </tr>\n",
       "  </thead>\n",
       "  <tbody>\n",
       "    <tr>\n",
       "      <th>Xkr4</th>\n",
       "      <td>-322.509494</td>\n",
       "      <td>-319.117095</td>\n",
       "      <td>-3.392398</td>\n",
       "    </tr>\n",
       "    <tr>\n",
       "      <th>Gm19938</th>\n",
       "      <td>-416.036520</td>\n",
       "      <td>-354.339128</td>\n",
       "      <td>-61.697392</td>\n",
       "    </tr>\n",
       "    <tr>\n",
       "      <th>Sox17</th>\n",
       "      <td>-1409.040207</td>\n",
       "      <td>-1415.423273</td>\n",
       "      <td>6.383066</td>\n",
       "    </tr>\n",
       "    <tr>\n",
       "      <th>Mrpl15</th>\n",
       "      <td>-3962.921499</td>\n",
       "      <td>-4135.945898</td>\n",
       "      <td>173.024399</td>\n",
       "    </tr>\n",
       "    <tr>\n",
       "      <th>Lypla1</th>\n",
       "      <td>-2950.137930</td>\n",
       "      <td>-3033.112479</td>\n",
       "      <td>82.974549</td>\n",
       "    </tr>\n",
       "    <tr>\n",
       "      <th>Tcea1</th>\n",
       "      <td>-4415.196063</td>\n",
       "      <td>-4627.982357</td>\n",
       "      <td>212.786293</td>\n",
       "    </tr>\n",
       "    <tr>\n",
       "      <th>Rgs20</th>\n",
       "      <td>-3519.433489</td>\n",
       "      <td>-3805.459834</td>\n",
       "      <td>286.026345</td>\n",
       "    </tr>\n",
       "    <tr>\n",
       "      <th>Atp6v1h</th>\n",
       "      <td>-5637.303742</td>\n",
       "      <td>-6123.413475</td>\n",
       "      <td>486.109734</td>\n",
       "    </tr>\n",
       "    <tr>\n",
       "      <th>Oprk1</th>\n",
       "      <td>-1356.734147</td>\n",
       "      <td>-1640.386807</td>\n",
       "      <td>283.652660</td>\n",
       "    </tr>\n",
       "    <tr>\n",
       "      <th>Npbwr1</th>\n",
       "      <td>-258.766793</td>\n",
       "      <td>-260.180813</td>\n",
       "      <td>1.414020</td>\n",
       "    </tr>\n",
       "    <tr>\n",
       "      <th>Rb1cc1</th>\n",
       "      <td>-4101.415913</td>\n",
       "      <td>-4280.599497</td>\n",
       "      <td>179.183584</td>\n",
       "    </tr>\n",
       "    <tr>\n",
       "      <th>4732440D04Rik</th>\n",
       "      <td>-521.176365</td>\n",
       "      <td>-501.584434</td>\n",
       "      <td>-19.591930</td>\n",
       "    </tr>\n",
       "    <tr>\n",
       "      <th>Alkal1</th>\n",
       "      <td>-73.472254</td>\n",
       "      <td>-74.923376</td>\n",
       "      <td>1.451122</td>\n",
       "    </tr>\n",
       "    <tr>\n",
       "      <th>St18</th>\n",
       "      <td>-798.541991</td>\n",
       "      <td>-825.547896</td>\n",
       "      <td>27.005905</td>\n",
       "    </tr>\n",
       "    <tr>\n",
       "      <th>Pcmtd1</th>\n",
       "      <td>-4466.541261</td>\n",
       "      <td>-4656.268969</td>\n",
       "      <td>189.727708</td>\n",
       "    </tr>\n",
       "    <tr>\n",
       "      <th>Gm26901</th>\n",
       "      <td>-605.812166</td>\n",
       "      <td>-612.224491</td>\n",
       "      <td>6.412325</td>\n",
       "    </tr>\n",
       "    <tr>\n",
       "      <th>Sntg1</th>\n",
       "      <td>-1364.547196</td>\n",
       "      <td>-1393.544110</td>\n",
       "      <td>28.996915</td>\n",
       "    </tr>\n",
       "    <tr>\n",
       "      <th>Rrs1</th>\n",
       "      <td>-2677.972406</td>\n",
       "      <td>-2763.902668</td>\n",
       "      <td>85.930262</td>\n",
       "    </tr>\n",
       "    <tr>\n",
       "      <th>Adhfe1</th>\n",
       "      <td>-2043.714152</td>\n",
       "      <td>-2063.166032</td>\n",
       "      <td>19.451880</td>\n",
       "    </tr>\n",
       "    <tr>\n",
       "      <th>2610203C22Rik</th>\n",
       "      <td>-154.614154</td>\n",
       "      <td>-127.699082</td>\n",
       "      <td>-26.915072</td>\n",
       "    </tr>\n",
       "  </tbody>\n",
       "</table>\n",
       "</div>"
      ],
      "text/plain": [
       "               Dynamic_model_log_likelihood  Constant_model_log_likelihood  \\\n",
       "Xkr4                            -322.509494                    -319.117095   \n",
       "Gm19938                         -416.036520                    -354.339128   \n",
       "Sox17                          -1409.040207                   -1415.423273   \n",
       "Mrpl15                         -3962.921499                   -4135.945898   \n",
       "Lypla1                         -2950.137930                   -3033.112479   \n",
       "Tcea1                          -4415.196063                   -4627.982357   \n",
       "Rgs20                          -3519.433489                   -3805.459834   \n",
       "Atp6v1h                        -5637.303742                   -6123.413475   \n",
       "Oprk1                          -1356.734147                   -1640.386807   \n",
       "Npbwr1                          -258.766793                    -260.180813   \n",
       "Rb1cc1                         -4101.415913                   -4280.599497   \n",
       "4732440D04Rik                   -521.176365                    -501.584434   \n",
       "Alkal1                           -73.472254                     -74.923376   \n",
       "St18                            -798.541991                    -825.547896   \n",
       "Pcmtd1                         -4466.541261                   -4656.268969   \n",
       "Gm26901                         -605.812166                    -612.224491   \n",
       "Sntg1                          -1364.547196                   -1393.544110   \n",
       "Rrs1                           -2677.972406                   -2763.902668   \n",
       "Adhfe1                         -2043.714152                   -2063.166032   \n",
       "2610203C22Rik                   -154.614154                    -127.699082   \n",
       "\n",
       "               log_likelihood_ratio  \n",
       "Xkr4                      -3.392398  \n",
       "Gm19938                  -61.697392  \n",
       "Sox17                      6.383066  \n",
       "Mrpl15                   173.024399  \n",
       "Lypla1                    82.974549  \n",
       "Tcea1                    212.786293  \n",
       "Rgs20                    286.026345  \n",
       "Atp6v1h                  486.109734  \n",
       "Oprk1                    283.652660  \n",
       "Npbwr1                     1.414020  \n",
       "Rb1cc1                   179.183584  \n",
       "4732440D04Rik            -19.591930  \n",
       "Alkal1                     1.451122  \n",
       "St18                      27.005905  \n",
       "Pcmtd1                   189.727708  \n",
       "Gm26901                    6.412325  \n",
       "Sntg1                     28.996915  \n",
       "Rrs1                      85.930262  \n",
       "Adhfe1                    19.451880  \n",
       "2610203C22Rik            -26.915072  "
      ]
     },
     "execution_count": 17,
     "metadata": {},
     "output_type": "execute_result"
    }
   ],
   "source": [
    "results = gp_counts.One_sample_test(likelihood)\n",
    "results"
   ]
  },
  {
   "cell_type": "code",
   "execution_count": 18,
   "metadata": {
    "ExecuteTime": {
     "end_time": "2023-02-21T11:11:45.848232Z",
     "start_time": "2023-02-21T11:11:45.840376Z"
    }
   },
   "outputs": [],
   "source": [
    "results = gp_counts.calculate_FDR(results)"
   ]
  },
  {
   "cell_type": "code",
   "execution_count": 19,
   "metadata": {
    "ExecuteTime": {
     "end_time": "2023-02-21T11:11:45.863820Z",
     "start_time": "2023-02-21T11:11:45.850138Z"
    }
   },
   "outputs": [
    {
     "data": {
      "text/html": [
       "<div>\n",
       "<style scoped>\n",
       "    .dataframe tbody tr th:only-of-type {\n",
       "        vertical-align: middle;\n",
       "    }\n",
       "\n",
       "    .dataframe tbody tr th {\n",
       "        vertical-align: top;\n",
       "    }\n",
       "\n",
       "    .dataframe thead th {\n",
       "        text-align: right;\n",
       "    }\n",
       "</style>\n",
       "<table border=\"1\" class=\"dataframe\">\n",
       "  <thead>\n",
       "    <tr style=\"text-align: right;\">\n",
       "      <th></th>\n",
       "      <th>Dynamic_model_log_likelihood</th>\n",
       "      <th>Constant_model_log_likelihood</th>\n",
       "      <th>log_likelihood_ratio</th>\n",
       "      <th>p_value</th>\n",
       "      <th>q_value</th>\n",
       "    </tr>\n",
       "  </thead>\n",
       "  <tbody>\n",
       "    <tr>\n",
       "      <th>Xkr4</th>\n",
       "      <td>-322.509494</td>\n",
       "      <td>-319.117095</td>\n",
       "      <td>-3.392398</td>\n",
       "      <td>1.000000e+00</td>\n",
       "      <td>1.000000e+00</td>\n",
       "    </tr>\n",
       "    <tr>\n",
       "      <th>Gm19938</th>\n",
       "      <td>-416.036520</td>\n",
       "      <td>-354.339128</td>\n",
       "      <td>-61.697392</td>\n",
       "      <td>1.000000e+00</td>\n",
       "      <td>1.000000e+00</td>\n",
       "    </tr>\n",
       "    <tr>\n",
       "      <th>Sox17</th>\n",
       "      <td>-1409.040207</td>\n",
       "      <td>-1415.423273</td>\n",
       "      <td>6.383066</td>\n",
       "      <td>3.529518e-04</td>\n",
       "      <td>5.042169e-04</td>\n",
       "    </tr>\n",
       "    <tr>\n",
       "      <th>Mrpl15</th>\n",
       "      <td>-3962.921499</td>\n",
       "      <td>-4135.945898</td>\n",
       "      <td>173.024399</td>\n",
       "      <td>0.000000e+00</td>\n",
       "      <td>0.000000e+00</td>\n",
       "    </tr>\n",
       "    <tr>\n",
       "      <th>Lypla1</th>\n",
       "      <td>-2950.137930</td>\n",
       "      <td>-3033.112479</td>\n",
       "      <td>82.974549</td>\n",
       "      <td>0.000000e+00</td>\n",
       "      <td>0.000000e+00</td>\n",
       "    </tr>\n",
       "    <tr>\n",
       "      <th>Tcea1</th>\n",
       "      <td>-4415.196063</td>\n",
       "      <td>-4627.982357</td>\n",
       "      <td>212.786293</td>\n",
       "      <td>0.000000e+00</td>\n",
       "      <td>0.000000e+00</td>\n",
       "    </tr>\n",
       "    <tr>\n",
       "      <th>Rgs20</th>\n",
       "      <td>-3519.433489</td>\n",
       "      <td>-3805.459834</td>\n",
       "      <td>286.026345</td>\n",
       "      <td>0.000000e+00</td>\n",
       "      <td>0.000000e+00</td>\n",
       "    </tr>\n",
       "    <tr>\n",
       "      <th>Atp6v1h</th>\n",
       "      <td>-5637.303742</td>\n",
       "      <td>-6123.413475</td>\n",
       "      <td>486.109734</td>\n",
       "      <td>0.000000e+00</td>\n",
       "      <td>0.000000e+00</td>\n",
       "    </tr>\n",
       "    <tr>\n",
       "      <th>Oprk1</th>\n",
       "      <td>-1356.734147</td>\n",
       "      <td>-1640.386807</td>\n",
       "      <td>283.652660</td>\n",
       "      <td>0.000000e+00</td>\n",
       "      <td>0.000000e+00</td>\n",
       "    </tr>\n",
       "    <tr>\n",
       "      <th>Npbwr1</th>\n",
       "      <td>-258.766793</td>\n",
       "      <td>-260.180813</td>\n",
       "      <td>1.414020</td>\n",
       "      <td>9.263140e-02</td>\n",
       "      <td>1.157893e-01</td>\n",
       "    </tr>\n",
       "    <tr>\n",
       "      <th>Rb1cc1</th>\n",
       "      <td>-4101.415913</td>\n",
       "      <td>-4280.599497</td>\n",
       "      <td>179.183584</td>\n",
       "      <td>0.000000e+00</td>\n",
       "      <td>0.000000e+00</td>\n",
       "    </tr>\n",
       "    <tr>\n",
       "      <th>4732440D04Rik</th>\n",
       "      <td>-521.176365</td>\n",
       "      <td>-501.584434</td>\n",
       "      <td>-19.591930</td>\n",
       "      <td>1.000000e+00</td>\n",
       "      <td>1.000000e+00</td>\n",
       "    </tr>\n",
       "    <tr>\n",
       "      <th>Alkal1</th>\n",
       "      <td>-73.472254</td>\n",
       "      <td>-74.923376</td>\n",
       "      <td>1.451122</td>\n",
       "      <td>8.845629e-02</td>\n",
       "      <td>1.157893e-01</td>\n",
       "    </tr>\n",
       "    <tr>\n",
       "      <th>St18</th>\n",
       "      <td>-798.541991</td>\n",
       "      <td>-825.547896</td>\n",
       "      <td>27.005905</td>\n",
       "      <td>1.992850e-13</td>\n",
       "      <td>3.623364e-13</td>\n",
       "    </tr>\n",
       "    <tr>\n",
       "      <th>Pcmtd1</th>\n",
       "      <td>-4466.541261</td>\n",
       "      <td>-4656.268969</td>\n",
       "      <td>189.727708</td>\n",
       "      <td>0.000000e+00</td>\n",
       "      <td>0.000000e+00</td>\n",
       "    </tr>\n",
       "    <tr>\n",
       "      <th>Gm26901</th>\n",
       "      <td>-605.812166</td>\n",
       "      <td>-612.224491</td>\n",
       "      <td>6.412325</td>\n",
       "      <td>3.420826e-04</td>\n",
       "      <td>5.042169e-04</td>\n",
       "    </tr>\n",
       "    <tr>\n",
       "      <th>Sntg1</th>\n",
       "      <td>-1364.547196</td>\n",
       "      <td>-1393.544110</td>\n",
       "      <td>28.996915</td>\n",
       "      <td>2.631229e-14</td>\n",
       "      <td>5.262457e-14</td>\n",
       "    </tr>\n",
       "    <tr>\n",
       "      <th>Rrs1</th>\n",
       "      <td>-2677.972406</td>\n",
       "      <td>-2763.902668</td>\n",
       "      <td>85.930262</td>\n",
       "      <td>0.000000e+00</td>\n",
       "      <td>0.000000e+00</td>\n",
       "    </tr>\n",
       "    <tr>\n",
       "      <th>Adhfe1</th>\n",
       "      <td>-2043.714152</td>\n",
       "      <td>-2063.166032</td>\n",
       "      <td>19.451880</td>\n",
       "      <td>4.452221e-10</td>\n",
       "      <td>7.420368e-10</td>\n",
       "    </tr>\n",
       "    <tr>\n",
       "      <th>2610203C22Rik</th>\n",
       "      <td>-154.614154</td>\n",
       "      <td>-127.699082</td>\n",
       "      <td>-26.915072</td>\n",
       "      <td>1.000000e+00</td>\n",
       "      <td>1.000000e+00</td>\n",
       "    </tr>\n",
       "  </tbody>\n",
       "</table>\n",
       "</div>"
      ],
      "text/plain": [
       "               Dynamic_model_log_likelihood  Constant_model_log_likelihood  \\\n",
       "Xkr4                            -322.509494                    -319.117095   \n",
       "Gm19938                         -416.036520                    -354.339128   \n",
       "Sox17                          -1409.040207                   -1415.423273   \n",
       "Mrpl15                         -3962.921499                   -4135.945898   \n",
       "Lypla1                         -2950.137930                   -3033.112479   \n",
       "Tcea1                          -4415.196063                   -4627.982357   \n",
       "Rgs20                          -3519.433489                   -3805.459834   \n",
       "Atp6v1h                        -5637.303742                   -6123.413475   \n",
       "Oprk1                          -1356.734147                   -1640.386807   \n",
       "Npbwr1                          -258.766793                    -260.180813   \n",
       "Rb1cc1                         -4101.415913                   -4280.599497   \n",
       "4732440D04Rik                   -521.176365                    -501.584434   \n",
       "Alkal1                           -73.472254                     -74.923376   \n",
       "St18                            -798.541991                    -825.547896   \n",
       "Pcmtd1                         -4466.541261                   -4656.268969   \n",
       "Gm26901                         -605.812166                    -612.224491   \n",
       "Sntg1                          -1364.547196                   -1393.544110   \n",
       "Rrs1                           -2677.972406                   -2763.902668   \n",
       "Adhfe1                         -2043.714152                   -2063.166032   \n",
       "2610203C22Rik                   -154.614154                    -127.699082   \n",
       "\n",
       "               log_likelihood_ratio       p_value       q_value  \n",
       "Xkr4                      -3.392398  1.000000e+00  1.000000e+00  \n",
       "Gm19938                  -61.697392  1.000000e+00  1.000000e+00  \n",
       "Sox17                      6.383066  3.529518e-04  5.042169e-04  \n",
       "Mrpl15                   173.024399  0.000000e+00  0.000000e+00  \n",
       "Lypla1                    82.974549  0.000000e+00  0.000000e+00  \n",
       "Tcea1                    212.786293  0.000000e+00  0.000000e+00  \n",
       "Rgs20                    286.026345  0.000000e+00  0.000000e+00  \n",
       "Atp6v1h                  486.109734  0.000000e+00  0.000000e+00  \n",
       "Oprk1                    283.652660  0.000000e+00  0.000000e+00  \n",
       "Npbwr1                     1.414020  9.263140e-02  1.157893e-01  \n",
       "Rb1cc1                   179.183584  0.000000e+00  0.000000e+00  \n",
       "4732440D04Rik            -19.591930  1.000000e+00  1.000000e+00  \n",
       "Alkal1                     1.451122  8.845629e-02  1.157893e-01  \n",
       "St18                      27.005905  1.992850e-13  3.623364e-13  \n",
       "Pcmtd1                   189.727708  0.000000e+00  0.000000e+00  \n",
       "Gm26901                    6.412325  3.420826e-04  5.042169e-04  \n",
       "Sntg1                     28.996915  2.631229e-14  5.262457e-14  \n",
       "Rrs1                      85.930262  0.000000e+00  0.000000e+00  \n",
       "Adhfe1                    19.451880  4.452221e-10  7.420368e-10  \n",
       "2610203C22Rik            -26.915072  1.000000e+00  1.000000e+00  "
      ]
     },
     "execution_count": 19,
     "metadata": {},
     "output_type": "execute_result"
    }
   ],
   "source": [
    "results"
   ]
  },
  {
   "cell_type": "code",
   "execution_count": null,
   "metadata": {},
   "outputs": [],
   "source": []
  }
 ],
 "metadata": {
  "kernelspec": {
   "display_name": "Python 3 (ipykernel)",
   "language": "python",
   "name": "python3"
  },
  "language_info": {
   "codemirror_mode": {
    "name": "ipython",
    "version": 3
   },
   "file_extension": ".py",
   "mimetype": "text/x-python",
   "name": "python",
   "nbconvert_exporter": "python",
   "pygments_lexer": "ipython3",
   "version": "3.8.12"
  }
 },
 "nbformat": 4,
 "nbformat_minor": 4
}
