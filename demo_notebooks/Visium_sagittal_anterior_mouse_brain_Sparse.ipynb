{
 "cells": [
  {
   "cell_type": "code",
   "execution_count": 1,
   "metadata": {
    "ExecuteTime": {
     "end_time": "2023-02-21T11:03:32.240147Z",
     "start_time": "2023-02-21T11:03:23.385311Z"
    }
   },
   "outputs": [],
   "source": [
    "import pandas as pd \n",
    "import numpy as np \n",
    "import gpflow\n",
    "import tensorflow as tf\n",
    "from GPcounts import NegativeBinomialLikelihood\n",
    "from GPcounts.GPcounts_Module import Fit_GPcounts\n",
    "from matplotlib import pyplot as plt\n",
    "import scanpy as sc\n",
    "import seaborn as sns\n",
    "import numpy as np\n",
    "from matplotlib import pyplot as plt\n",
    "from scipy.cluster.vq import kmeans"
   ]
  },
  {
   "cell_type": "code",
   "execution_count": 2,
   "metadata": {
    "ExecuteTime": {
     "end_time": "2023-02-21T11:03:33.421226Z",
     "start_time": "2023-02-21T11:03:32.242395Z"
    }
   },
   "outputs": [
    {
     "name": "stderr",
     "output_type": "stream",
     "text": [
      "/Users/user/opt/anaconda3/envs/tf/lib/python3.8/site-packages/anndata/_core/anndata.py:1830: UserWarning: Variable names are not unique. To make them unique, call `.var_names_make_unique`.\n",
      "  utils.warn_names_duplicates(\"var\")\n"
     ]
    }
   ],
   "source": [
    "adata = sc.datasets.visium_sge(\n",
    "    sample_id=\"V1_Mouse_Brain_Sagittal_Anterior\")"
   ]
  },
  {
   "cell_type": "code",
   "execution_count": 3,
   "metadata": {
    "ExecuteTime": {
     "end_time": "2023-02-21T11:03:34.047339Z",
     "start_time": "2023-02-21T11:03:33.423449Z"
    }
   },
   "outputs": [],
   "source": [
    "adata.var_names_make_unique()\n",
    "adata.var['mt'] = adata.var_names.str.startswith('MT-')\n",
    "sc.pp.calculate_qc_metrics(adata,qc_vars = [\"mt\"], inplace=True)"
   ]
  },
  {
   "cell_type": "code",
   "execution_count": 4,
   "metadata": {
    "ExecuteTime": {
     "end_time": "2023-02-21T11:03:34.056498Z",
     "start_time": "2023-02-21T11:03:34.050724Z"
    }
   },
   "outputs": [],
   "source": [
    "# adata.obsm['spatial']\n",
    "spatialx = [str(i) for i in adata.obsm['spatial'][:,0]]\n",
    "spatialy = [str(i) for i in adata.obsm['spatial'][:,1]]"
   ]
  },
  {
   "cell_type": "code",
   "execution_count": 5,
   "metadata": {
    "ExecuteTime": {
     "end_time": "2023-02-21T11:03:34.062667Z",
     "start_time": "2023-02-21T11:03:34.058838Z"
    }
   },
   "outputs": [],
   "source": [
    "index_names = [i+'x'+j for i,j in zip(spatialx,spatialy)]"
   ]
  },
  {
   "cell_type": "code",
   "execution_count": 6,
   "metadata": {
    "ExecuteTime": {
     "end_time": "2023-02-21T11:03:34.085260Z",
     "start_time": "2023-02-21T11:03:34.068257Z"
    }
   },
   "outputs": [
    {
     "name": "stdout",
     "output_type": "stream",
     "text": [
      "2695 32272\n"
     ]
    }
   ],
   "source": [
    "mito_genes = adata.var_names.str.startswith('mt-')\n",
    "keep = np.invert(mito_genes)\n",
    "adata = adata[:,keep]\n",
    "print(adata.n_obs, adata.n_vars)"
   ]
  },
  {
   "cell_type": "code",
   "execution_count": 7,
   "metadata": {
    "ExecuteTime": {
     "end_time": "2023-02-21T11:03:34.354398Z",
     "start_time": "2023-02-21T11:03:34.086951Z"
    }
   },
   "outputs": [],
   "source": [
    "Y = pd.DataFrame(data=adata.X.A, index=index_names, columns = adata.var.index)"
   ]
  },
  {
   "cell_type": "code",
   "execution_count": 8,
   "metadata": {
    "ExecuteTime": {
     "end_time": "2023-02-21T11:03:34.648179Z",
     "start_time": "2023-02-21T11:03:34.357172Z"
    }
   },
   "outputs": [],
   "source": [
    "Y = Y.T[Y.sum(0) >= 10].T # Filter out genes with less than 3 total counts"
   ]
  },
  {
   "cell_type": "code",
   "execution_count": 9,
   "metadata": {
    "ExecuteTime": {
     "end_time": "2023-02-21T11:03:34.659191Z",
     "start_time": "2023-02-21T11:03:34.650376Z"
    }
   },
   "outputs": [],
   "source": [
    "spatial_locations = pd.DataFrame(index=Y.index)\n",
    "spatial_locations['x'] = Y.index.str.split('x').str.get(0).map(float)\n",
    "spatial_locations['y'] = Y.index.str.split('x').str.get(1).map(float)"
   ]
  },
  {
   "cell_type": "code",
   "execution_count": 10,
   "metadata": {
    "ExecuteTime": {
     "end_time": "2023-02-21T11:03:34.848586Z",
     "start_time": "2023-02-21T11:03:34.661752Z"
    }
   },
   "outputs": [],
   "source": [
    "spatial_locations['total_counts'] = Y.sum(1)\n",
    "Y = Y.loc[spatial_locations.index]\n",
    "X = spatial_locations[['x', 'y']]"
   ]
  },
  {
   "cell_type": "code",
   "execution_count": 11,
   "metadata": {
    "ExecuteTime": {
     "end_time": "2023-02-21T11:03:34.854927Z",
     "start_time": "2023-02-21T11:03:34.853268Z"
    }
   },
   "outputs": [],
   "source": [
    "# import scipy as sp\n",
    "# sp.special.wrightomega(np.log(X.shape[0]))"
   ]
  },
  {
   "cell_type": "code",
   "execution_count": 12,
   "metadata": {
    "ExecuteTime": {
     "end_time": "2023-02-21T11:06:18.715099Z",
     "start_time": "2023-02-21T11:03:34.856995Z"
    }
   },
   "outputs": [
    {
     "name": "stdout",
     "output_type": "stream",
     "text": [
      "           total_counts  total_counts  total_counts  total_counts  \\\n",
      "8500x7474     -2.126576     -2.020778     -0.748637      0.199988   \n",
      "2788x8552     -6.106828     -5.803010     -2.149839      0.574299   \n",
      "7950x3163     -4.380051     -4.162141     -1.541947      0.411909   \n",
      "2100x6636     -6.729553     -6.394753     -2.369062      0.632861   \n",
      "2375x7115     -5.775425     -5.488094     -2.033173      0.543133   \n",
      "...                 ...           ...           ...           ...   \n",
      "5541x7594     -4.467038     -4.244800     -1.572570      0.420089   \n",
      "5885x4361     -4.517354     -4.292613     -1.590283      0.424821   \n",
      "6780x5199     -3.622241     -3.442032     -1.275169      0.340643   \n",
      "4371x8433     -2.294069     -2.179938     -0.807601      0.215739   \n",
      "3339x6876     -2.359565     -2.242175     -0.830658      0.221898   \n",
      "\n",
      "           total_counts  total_counts  total_counts  total_counts  \\\n",
      "8500x7474     -0.086521      0.308813      0.087101      0.613868   \n",
      "2788x8552     -0.248461      0.886810      0.250125      1.762827   \n",
      "7950x3163     -0.178206      0.636054      0.179399      1.264367   \n",
      "2100x6636     -0.273797      0.977239      0.275630      1.942586   \n",
      "2375x7115     -0.234977      0.838685      0.236551      1.667162   \n",
      "...                 ...           ...           ...           ...   \n",
      "5541x7594     -0.181745      0.648686      0.182962      1.289477   \n",
      "5885x4361     -0.183792      0.655993      0.185023      1.304002   \n",
      "6780x5199     -0.147374      0.526008      0.148361      1.045614   \n",
      "4371x8433     -0.093336      0.333136      0.093961      0.662217   \n",
      "3339x6876     -0.096001      0.342647      0.096644      0.681124   \n",
      "\n",
      "           total_counts  total_counts  ...  total_counts  total_counts  \\\n",
      "8500x7474     -0.558261     -2.203414  ...     -0.039185     -0.361434   \n",
      "2788x8552     -1.603141     -6.327481  ...     -0.112525     -1.037921   \n",
      "7950x3163     -1.149834     -4.538312  ...     -0.080708     -0.744437   \n",
      "2100x6636     -1.766616     -6.972706  ...     -0.124000     -1.143759   \n",
      "2375x7115     -1.516142     -5.984104  ...     -0.106419     -0.981595   \n",
      "...                 ...           ...  ...           ...           ...   \n",
      "5541x7594     -1.172670     -4.628442  ...     -0.082310     -0.759221   \n",
      "5885x4361     -1.185879     -4.680576  ...     -0.083237     -0.767773   \n",
      "6780x5199     -0.950897     -3.753120  ...     -0.066744     -0.615639   \n",
      "4371x8433     -0.602230     -2.376959  ...     -0.042271     -0.389902   \n",
      "3339x6876     -0.619424     -2.444821  ...     -0.043478     -0.401033   \n",
      "\n",
      "           total_counts  total_counts  total_counts  total_counts  \\\n",
      "8500x7474      1.071009     -0.545455     -0.031875     -0.759986   \n",
      "2788x8552      3.075585     -1.566368     -0.091534     -2.182430   \n",
      "7950x3163      2.205927     -1.123459     -0.065652     -1.565322   \n",
      "2100x6636      3.389208     -1.726093     -0.100868     -2.404976   \n",
      "2375x7115      2.908680     -1.481364     -0.086567     -2.063994   \n",
      "...                 ...           ...           ...           ...   \n",
      "5541x7594      2.249737     -1.145770     -0.066955     -1.596409   \n",
      "5885x4361      2.275078     -1.158676     -0.067710     -1.614391   \n",
      "6780x5199      1.824271     -0.929085     -0.054293     -1.294500   \n",
      "4371x8433      1.155363     -0.588416     -0.034385     -0.819844   \n",
      "3339x6876      1.188349     -0.605215     -0.035367     -0.843250   \n",
      "\n",
      "           total_counts  total_counts  total_counts  total_counts  \n",
      "8500x7474     -1.390176     -4.039156     -2.745804      0.815364  \n",
      "2788x8552     -3.992130    -11.599130     -7.885048      2.341459  \n",
      "7950x3163     -2.863308     -8.319340     -5.655458      1.679384  \n",
      "2100x6636     -4.399215    -12.781915     -8.689101      2.580222  \n",
      "2375x7115     -3.775486    -10.969672     -7.457145      2.214393  \n",
      "...                 ...           ...           ...           ...  \n",
      "5541x7594     -2.920173     -8.484561     -5.767775      1.712736  \n",
      "5885x4361     -2.953066     -8.580130     -5.832742      1.732028  \n",
      "6780x5199     -2.367916     -6.879978     -4.676985      1.388827  \n",
      "4371x8433     -1.499669     -4.357287     -2.962068      0.879584  \n",
      "3339x6876     -1.542485     -4.481688     -3.046636      0.904696  \n",
      "\n",
      "[2695 rows x 17143 columns]\n"
     ]
    }
   ],
   "source": [
    "import statsmodels.formula.api as smf \n",
    "import statsmodels.api as sm\n",
    "scales = []\n",
    "for i in range(0,len(Y.columns)):\n",
    "    model=smf.glm(formula = \"Y.iloc[:,i]~0+spatial_locations['total_counts']\", data=Y,family=sm.families.NegativeBinomial(sm.families.links.log())).fit()\n",
    "    res = model.params[0]*spatial_locations['total_counts']\n",
    "    scales.append(res)\n",
    "scalesdf=pd.DataFrame(scales)\n",
    "scalesdf=scalesdf.T\n",
    "print(scalesdf)"
   ]
  },
  {
   "cell_type": "code",
   "execution_count": 13,
   "metadata": {
    "ExecuteTime": {
     "end_time": "2023-02-21T11:06:18.721522Z",
     "start_time": "2023-02-21T11:06:18.718447Z"
    }
   },
   "outputs": [],
   "source": [
    "scale = scalesdf"
   ]
  },
  {
   "cell_type": "code",
   "execution_count": 14,
   "metadata": {
    "ExecuteTime": {
     "end_time": "2023-02-21T11:06:18.731250Z",
     "start_time": "2023-02-21T11:06:18.725314Z"
    }
   },
   "outputs": [],
   "source": [
    "Y = Y.T\n",
    "Y_run = Y.iloc[0:20,:] # select first 20 genes to run GPcounts\n",
    "X = X[['x', 'y']]"
   ]
  },
  {
   "cell_type": "code",
   "execution_count": 16,
   "metadata": {
    "ExecuteTime": {
     "end_time": "2023-02-21T11:07:44.098352Z",
     "start_time": "2023-02-21T11:07:44.092046Z"
    }
   },
   "outputs": [],
   "source": [
    "gene_name = []\n",
    "sparse = True \n",
    "nb_scaled = True # set the nb_scaled argument to True to pass the scale factors \n",
    "gene_name = Y_run.index\n",
    "likelihood = 'Negative_binomial' \n",
    "gp_counts = Fit_GPcounts(X,Y_run.loc[gene_name], sparse = sparse, M=120,scale=scale,safe_mode=False)\n",
    "# gp_counts.ConditionalVariance_inducing_points( M =5)"
   ]
  },
  {
   "cell_type": "code",
   "execution_count": null,
   "metadata": {
    "ExecuteTime": {
     "start_time": "2023-02-21T11:07:45.614Z"
    }
   },
   "outputs": [
    {
     "name": "stderr",
     "output_type": "stream",
     "text": [
      " 60%|█████████████████████████████████████████████████████████████████████████████████▌                                                      | 12/20 [02:24<01:47, 13.49s/it]2023-02-21 11:10:14.831039: W tensorflow/core/kernels/linalg/cholesky_op.cc:56] Cholesky decomposition was not successful. Eigen::LLT failed with error code 1. Filling lower-triangular output with NaNs.\n",
      "2023-02-21 11:10:14.853844: W tensorflow/core/kernels/linalg/cholesky_op.cc:56] Cholesky decomposition was not successful. Eigen::LLT failed with error code 1. Filling lower-triangular output with NaNs.\n",
      "2023-02-21 11:10:14.879575: W tensorflow/core/kernels/linalg/cholesky_op.cc:56] Cholesky decomposition was not successful. Eigen::LLT failed with error code 1. Filling lower-triangular output with NaNs.\n",
      "2023-02-21 11:10:14.905647: W tensorflow/core/kernels/linalg/cholesky_op.cc:56] Cholesky decomposition was not successful. Eigen::LLT failed with error code 1. Filling lower-triangular output with NaNs.\n",
      "2023-02-21 11:10:14.930727: W tensorflow/core/kernels/linalg/cholesky_op.cc:56] Cholesky decomposition was not successful. Eigen::LLT failed with error code 1. Filling lower-triangular output with NaNs.\n",
      "2023-02-21 11:10:14.956774: W tensorflow/core/kernels/linalg/cholesky_op.cc:56] Cholesky decomposition was not successful. Eigen::LLT failed with error code 1. Filling lower-triangular output with NaNs.\n",
      " 90%|██████████████████████████████████████████████████████████████████████████████████████████████████████████████████████████▍             | 18/20 [03:34<00:21, 10.52s/it]"
     ]
    }
   ],
   "source": [
    "results = gp_counts.One_sample_test(likelihood)\n",
    "results"
   ]
  },
  {
   "cell_type": "code",
   "execution_count": null,
   "metadata": {
    "ExecuteTime": {
     "start_time": "2023-02-21T11:09:48.694Z"
    }
   },
   "outputs": [],
   "source": [
    "results = gp_counts.calculate_FDR(results)"
   ]
  },
  {
   "cell_type": "code",
   "execution_count": null,
   "metadata": {
    "ExecuteTime": {
     "start_time": "2023-02-21T11:09:51.673Z"
    }
   },
   "outputs": [],
   "source": [
    "results"
   ]
  },
  {
   "cell_type": "code",
   "execution_count": null,
   "metadata": {},
   "outputs": [],
   "source": []
  }
 ],
 "metadata": {
  "kernelspec": {
   "display_name": "Python 3 (ipykernel)",
   "language": "python",
   "name": "python3"
  },
  "language_info": {
   "codemirror_mode": {
    "name": "ipython",
    "version": 3
   },
   "file_extension": ".py",
   "mimetype": "text/x-python",
   "name": "python",
   "nbconvert_exporter": "python",
   "pygments_lexer": "ipython3",
   "version": "3.8.12"
  }
 },
 "nbformat": 4,
 "nbformat_minor": 4
}
